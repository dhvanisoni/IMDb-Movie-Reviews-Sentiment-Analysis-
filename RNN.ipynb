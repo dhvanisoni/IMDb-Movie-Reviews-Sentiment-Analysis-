{
 "cells": [
  {
   "cell_type": "markdown",
   "metadata": {
    "id": "GSzhbU2B5A4q"
   },
   "source": [
    "# IMDB Sentiment Analysis with RNN"
   ]
  },
  {
   "cell_type": "markdown",
   "metadata": {
    "id": "VbuxFKu1s2YO"
   },
   "source": [
    "# Importing Libraries"
   ]
  },
  {
   "cell_type": "code",
   "execution_count": 1,
   "metadata": {
    "_cell_guid": "b1076dfc-b9ad-4769-8c92-a6c4dae69d19",
    "_uuid": "8f2839f25d086af736a60e9eeb907d3b93b6e0e5",
    "execution": {
     "iopub.execute_input": "2023-06-23T12:06:39.079960Z",
     "iopub.status.busy": "2023-06-23T12:06:39.079336Z",
     "iopub.status.idle": "2023-06-23T12:06:39.091439Z",
     "shell.execute_reply": "2023-06-23T12:06:39.090439Z",
     "shell.execute_reply.started": "2023-06-23T12:06:39.079926Z"
    },
    "id": "WJMWQwyCs2YQ"
   },
   "outputs": [],
   "source": [
    "import numpy as np\n",
    "import pandas as pd\n",
    "import tensorflow as tf\n",
    "import datetime\n",
    "import warnings\n",
    "warnings.filterwarnings(\"ignore\")\n",
    "pd.plotting.register_matplotlib_converters()\n",
    "import matplotlib.pyplot as plt\n",
    "%matplotlib inline\n",
    "import seaborn as sns\n",
    "from sklearn.model_selection import train_test_split"
   ]
  },
  {
   "cell_type": "markdown",
   "metadata": {
    "id": "4-e07QzLs2YR"
   },
   "source": [
    "# Importing Dataset"
   ]
  },
  {
   "cell_type": "code",
   "execution_count": 3,
   "metadata": {
    "colab": {
     "base_uri": "https://localhost:8080/"
    },
    "execution": {
     "iopub.execute_input": "2023-06-23T12:06:39.094006Z",
     "iopub.status.busy": "2023-06-23T12:06:39.093706Z",
     "iopub.status.idle": "2023-06-23T12:06:39.697200Z",
     "shell.execute_reply": "2023-06-23T12:06:39.695369Z",
     "shell.execute_reply.started": "2023-06-23T12:06:39.093982Z"
    },
    "id": "qSGBAZMAs2YS",
    "outputId": "f413507c-45e9-4a51-cf33-410a3f578705"
   },
   "outputs": [
    {
     "data": {
      "text/plain": [
       "(50000,)"
      ]
     },
     "execution_count": 3,
     "metadata": {},
     "output_type": "execute_result"
    }
   ],
   "source": [
    "imdb_data = pd.read_csv(\"/content/IMDB_Dataset.csv\")\n",
    "X = imdb_data[\"review\"]\n",
    "y = imdb_data[\"sentiment\"]\n",
    "X.shape"
   ]
  },
  {
   "cell_type": "markdown",
   "metadata": {
    "id": "hg52Kbcvs2YS"
   },
   "source": [
    "# Data Preprocessing"
   ]
  },
  {
   "cell_type": "markdown",
   "metadata": {},
   "source": [
    "* Tokenization:\n",
    "Tokenizer is created with a set vocabulary size (max_number_words) and filters to ignore specific characters.\n",
    "Tokenizer is fitted on the text data (X) to generate a vocabulary and a word_index dictionary.\n",
    "The count of unique tokens in the vocabulary is displayed.\n",
    "* Convert Text to Sequences:\n",
    "Text data (X) is transformed into sequences of integers using the texts_to_sequences method.\n",
    "The sequences are then padded or truncated to a uniform length (max_len) using pad_sequences for consistent input size.\n",
    "The resulting transformed data tensor (X) is displayed, showing its shape.\n",
    "* Label Encoding:\n",
    "The LabelEncoder class from sklearn.preprocessing is used.\n",
    "An instance called encoder is created.\n",
    "Categorical labels in variable y are transformed into numerical values using fit_transform"
   ]
  },
  {
   "cell_type": "code",
   "execution_count": 4,
   "metadata": {
    "execution": {
     "iopub.execute_input": "2023-06-23T12:06:39.698960Z",
     "iopub.status.busy": "2023-06-23T12:06:39.698500Z",
     "iopub.status.idle": "2023-06-23T12:06:39.704135Z",
     "shell.execute_reply": "2023-06-23T12:06:39.702985Z",
     "shell.execute_reply.started": "2023-06-23T12:06:39.698925Z"
    },
    "id": "Ee5HYt9Ns2YT"
   },
   "outputs": [],
   "source": [
    "max_number_words = 25000\n",
    "max_len = 250"
   ]
  },
  {
   "cell_type": "code",
   "execution_count": 5,
   "metadata": {
    "colab": {
     "base_uri": "https://localhost:8080/"
    },
    "execution": {
     "iopub.execute_input": "2023-06-23T12:06:39.708003Z",
     "iopub.status.busy": "2023-06-23T12:06:39.707000Z",
     "iopub.status.idle": "2023-06-23T12:07:00.501064Z",
     "shell.execute_reply": "2023-06-23T12:07:00.500071Z",
     "shell.execute_reply.started": "2023-06-23T12:06:39.707969Z"
    },
    "id": "37kbZpUUs2YT",
    "outputId": "29529789-fd4c-4f12-e939-6f848bab9510"
   },
   "outputs": [
    {
     "name": "stdout",
     "output_type": "stream",
     "text": [
      "No of Unique tokens 235535\n",
      "Shape of data tensor: (50000, 250)\n"
     ]
    }
   ],
   "source": [
    "# Tokenization\n",
    "tokenizer=tf.keras.preprocessing.text.Tokenizer(num_words=max_number_words,filters=\"!@#$%^&*()<>{}[]''/?_+-=\")\n",
    "tokenizer.fit_on_texts(X)\n",
    "word_index=tokenizer.word_index\n",
    "print(\"No of Unique tokens\",len(word_index))\n",
    "\n",
    "# Convert text to sequences of integers\n",
    "X = tokenizer.texts_to_sequences(X)\n",
    "X = tf.keras.utils.pad_sequences(X, maxlen=max_len)\n",
    "print('Shape of data tensor:', X.shape)"
   ]
  },
  {
   "cell_type": "code",
   "execution_count": 6,
   "metadata": {
    "execution": {
     "iopub.execute_input": "2023-06-23T12:07:00.503233Z",
     "iopub.status.busy": "2023-06-23T12:07:00.502764Z",
     "iopub.status.idle": "2023-06-23T12:07:00.524835Z",
     "shell.execute_reply": "2023-06-23T12:07:00.523968Z",
     "shell.execute_reply.started": "2023-06-23T12:07:00.503199Z"
    },
    "id": "DpeqIpscs2YT"
   },
   "outputs": [],
   "source": [
    "# Label Encoding for the target variable\n",
    "from sklearn.preprocessing import LabelEncoder\n",
    "encoder = LabelEncoder()\n",
    "y = encoder.fit_transform(y)"
   ]
  },
  {
   "cell_type": "markdown",
   "metadata": {
    "id": "kC3A5PKZs2YT"
   },
   "source": [
    "# Creating Training and Test Split"
   ]
  },
  {
   "cell_type": "code",
   "execution_count": 7,
   "metadata": {
    "colab": {
     "base_uri": "https://localhost:8080/"
    },
    "execution": {
     "iopub.execute_input": "2023-06-23T12:07:00.526978Z",
     "iopub.status.busy": "2023-06-23T12:07:00.526573Z",
     "iopub.status.idle": "2023-06-23T12:07:00.558590Z",
     "shell.execute_reply": "2023-06-23T12:07:00.557448Z",
     "shell.execute_reply.started": "2023-06-23T12:07:00.526945Z"
    },
    "id": "gVIzhE0gs2YU",
    "outputId": "a0528c7b-0012-4ed5-fe6f-93b19139c649"
   },
   "outputs": [
    {
     "name": "stdout",
     "output_type": "stream",
     "text": [
      "Training X: \t (40000, 250)\n",
      "Training y: \t (40000,)\n",
      "Testing X: \t (10000, 250)\n",
      "Testing y: \t (10000,)\n"
     ]
    }
   ],
   "source": [
    "X_train,X_test,y_train,y_test = train_test_split(X,y,random_state=42,test_size=0.2)\n",
    "\n",
    "print(\"Training X: \\t\", X_train.shape)\n",
    "print(\"Training y: \\t\", y_train.shape)\n",
    "print(\"Testing X: \\t\", X_test.shape)\n",
    "print(\"Testing y: \\t\", y_test.shape)"
   ]
  },
  {
   "cell_type": "markdown",
   "metadata": {
    "id": "hXqUf4WQs2YU"
   },
   "source": [
    "# Builing the RNN"
   ]
  },
  {
   "cell_type": "markdown",
   "metadata": {},
   "source": [
    "* The embedding layer converting the input text data into dense and meaningful vectors.\n",
    "* The embedding layer transforms words into lower-dimensional representations, preserving semantic relationships and contextual information.stacking two LSTM layers. \n",
    "* The dropout layer augments regularization, preventing overfitting, while the stacked LSTMs deepen context understanding. \n",
    "\n"
   ]
  },
  {
   "cell_type": "code",
   "execution_count": 8,
   "metadata": {
    "execution": {
     "iopub.execute_input": "2023-06-23T12:07:00.560532Z",
     "iopub.status.busy": "2023-06-23T12:07:00.560050Z",
     "iopub.status.idle": "2023-06-23T12:07:00.569338Z",
     "shell.execute_reply": "2023-06-23T12:07:00.568223Z",
     "shell.execute_reply.started": "2023-06-23T12:07:00.560497Z"
    },
    "id": "2_ZOyxSDs2YU"
   },
   "outputs": [],
   "source": [
    "model = tf.keras.Sequential()"
   ]
  },
  {
   "cell_type": "code",
   "execution_count": 9,
   "metadata": {
    "execution": {
     "iopub.execute_input": "2023-06-23T12:07:00.571327Z",
     "iopub.status.busy": "2023-06-23T12:07:00.570939Z",
     "iopub.status.idle": "2023-06-23T12:07:00.588873Z",
     "shell.execute_reply": "2023-06-23T12:07:00.587964Z",
     "shell.execute_reply.started": "2023-06-23T12:07:00.571280Z"
    },
    "id": "7iBL-MpAs2YV"
   },
   "outputs": [],
   "source": [
    "## Layer 1 (Embedding Layer)\n",
    "model.add(tf.keras.layers.Embedding(input_dim=max_number_words,output_dim=128,input_length=X.shape[1]))"
   ]
  },
  {
   "cell_type": "code",
   "execution_count": 10,
   "metadata": {
    "execution": {
     "iopub.execute_input": "2023-06-23T12:07:00.593866Z",
     "iopub.status.busy": "2023-06-23T12:07:00.593613Z",
     "iopub.status.idle": "2023-06-23T12:07:00.603662Z",
     "shell.execute_reply": "2023-06-23T12:07:00.602758Z",
     "shell.execute_reply.started": "2023-06-23T12:07:00.593843Z"
    },
    "id": "Xe0e1eM7s2YV"
   },
   "outputs": [],
   "source": [
    "## Layer 2 (Dropout)\n",
    "model.add(tf.keras.layers.Dropout(0.2))"
   ]
  },
  {
   "cell_type": "code",
   "execution_count": 11,
   "metadata": {
    "execution": {
     "iopub.execute_input": "2023-06-23T12:07:00.605584Z",
     "iopub.status.busy": "2023-06-23T12:07:00.605187Z",
     "iopub.status.idle": "2023-06-23T12:07:00.860491Z",
     "shell.execute_reply": "2023-06-23T12:07:00.859480Z",
     "shell.execute_reply.started": "2023-06-23T12:07:00.605547Z"
    },
    "id": "uzwj1MPRs2YV"
   },
   "outputs": [],
   "source": [
    "## Layer 3 (LSTM)\n",
    "model.add(tf.keras.layers.LSTM(units=128,activation=\"tanh\",return_sequences=True))"
   ]
  },
  {
   "cell_type": "code",
   "execution_count": 12,
   "metadata": {
    "execution": {
     "iopub.execute_input": "2023-06-23T12:07:00.862554Z",
     "iopub.status.busy": "2023-06-23T12:07:00.862160Z",
     "iopub.status.idle": "2023-06-23T12:07:00.875281Z",
     "shell.execute_reply": "2023-06-23T12:07:00.874147Z",
     "shell.execute_reply.started": "2023-06-23T12:07:00.862519Z"
    },
    "id": "IRphddH5s2YW"
   },
   "outputs": [],
   "source": [
    "## Layer 4 (SpatialDropout1D)\n",
    "model.add(tf.keras.layers.SpatialDropout1D(0.2))"
   ]
  },
  {
   "cell_type": "code",
   "execution_count": 13,
   "metadata": {
    "execution": {
     "iopub.execute_input": "2023-06-23T12:07:00.877727Z",
     "iopub.status.busy": "2023-06-23T12:07:00.877071Z",
     "iopub.status.idle": "2023-06-23T12:07:01.124941Z",
     "shell.execute_reply": "2023-06-23T12:07:01.124002Z",
     "shell.execute_reply.started": "2023-06-23T12:07:00.877689Z"
    },
    "id": "OAQid38Es2YW"
   },
   "outputs": [],
   "source": [
    "## Layer 5 (LSTM)\n",
    "model.add(tf.keras.layers.LSTM(units=64,activation=\"tanh\"))"
   ]
  },
  {
   "cell_type": "code",
   "execution_count": 14,
   "metadata": {
    "execution": {
     "iopub.execute_input": "2023-06-23T12:07:01.127452Z",
     "iopub.status.busy": "2023-06-23T12:07:01.126820Z",
     "iopub.status.idle": "2023-06-23T12:07:01.144952Z",
     "shell.execute_reply": "2023-06-23T12:07:01.144076Z",
     "shell.execute_reply.started": "2023-06-23T12:07:01.127417Z"
    },
    "id": "wlVKYKYKs2YW"
   },
   "outputs": [],
   "source": [
    "## Layer 6 (Dense)\n",
    "model.add(tf.keras.layers.Dense(units=1,activation=\"sigmoid\"))"
   ]
  },
  {
   "cell_type": "markdown",
   "metadata": {
    "id": "2Q4Pjpa2s2YW"
   },
   "source": [
    "## Compling the Model"
   ]
  },
  {
   "cell_type": "code",
   "execution_count": 15,
   "metadata": {
    "execution": {
     "iopub.execute_input": "2023-06-23T12:07:01.146998Z",
     "iopub.status.busy": "2023-06-23T12:07:01.146553Z",
     "iopub.status.idle": "2023-06-23T12:07:01.160323Z",
     "shell.execute_reply": "2023-06-23T12:07:01.159265Z",
     "shell.execute_reply.started": "2023-06-23T12:07:01.146966Z"
    },
    "id": "2-1Iti8ws2YX"
   },
   "outputs": [],
   "source": [
    "model.compile(optimizer=\"rmsprop\",loss=\"binary_crossentropy\",metrics=[\"accuracy\"])"
   ]
  },
  {
   "cell_type": "code",
   "execution_count": 16,
   "metadata": {
    "colab": {
     "base_uri": "https://localhost:8080/"
    },
    "execution": {
     "iopub.execute_input": "2023-06-23T12:07:01.161988Z",
     "iopub.status.busy": "2023-06-23T12:07:01.161571Z",
     "iopub.status.idle": "2023-06-23T12:07:01.185238Z",
     "shell.execute_reply": "2023-06-23T12:07:01.184545Z",
     "shell.execute_reply.started": "2023-06-23T12:07:01.161956Z"
    },
    "id": "GX9PLSaJs2YX",
    "outputId": "a575167b-2bfa-4fe5-c4a0-6e75425de33d"
   },
   "outputs": [
    {
     "name": "stdout",
     "output_type": "stream",
     "text": [
      "Model: \"sequential\"\n",
      "_________________________________________________________________\n",
      " Layer (type)                Output Shape              Param #   \n",
      "=================================================================\n",
      " embedding (Embedding)       (None, 250, 128)          3200000   \n",
      "                                                                 \n",
      " dropout (Dropout)           (None, 250, 128)          0         \n",
      "                                                                 \n",
      " lstm (LSTM)                 (None, 250, 128)          131584    \n",
      "                                                                 \n",
      " spatial_dropout1d (SpatialD  (None, 250, 128)         0         \n",
      " ropout1D)                                                       \n",
      "                                                                 \n",
      " lstm_1 (LSTM)               (None, 64)                49408     \n",
      "                                                                 \n",
      " dense (Dense)               (None, 1)                 65        \n",
      "                                                                 \n",
      "=================================================================\n",
      "Total params: 3,381,057\n",
      "Trainable params: 3,381,057\n",
      "Non-trainable params: 0\n",
      "_________________________________________________________________\n"
     ]
    }
   ],
   "source": [
    "model.summary()"
   ]
  },
  {
   "cell_type": "markdown",
   "metadata": {
    "id": "2eIS12tEs2YY"
   },
   "source": [
    "# Training the RNN"
   ]
  },
  {
   "cell_type": "code",
   "execution_count": 17,
   "metadata": {
    "execution": {
     "iopub.execute_input": "2023-06-23T12:07:01.186917Z",
     "iopub.status.busy": "2023-06-23T12:07:01.186443Z",
     "iopub.status.idle": "2023-06-23T12:07:01.191551Z",
     "shell.execute_reply": "2023-06-23T12:07:01.190817Z",
     "shell.execute_reply.started": "2023-06-23T12:07:01.186876Z"
    },
    "id": "ELxojyots2YY"
   },
   "outputs": [],
   "source": [
    "earlyStopping =  tf.keras.callbacks.EarlyStopping(patience=3, monitor='val_accuracy',restore_best_weights=True)"
   ]
  },
  {
   "cell_type": "code",
   "execution_count": 18,
   "metadata": {
    "colab": {
     "base_uri": "https://localhost:8080/"
    },
    "execution": {
     "iopub.execute_input": "2023-06-23T12:08:02.905188Z",
     "iopub.status.busy": "2023-06-23T12:08:02.904342Z",
     "iopub.status.idle": "2023-06-23T12:09:26.445734Z",
     "shell.execute_reply": "2023-06-23T12:09:26.444737Z",
     "shell.execute_reply.started": "2023-06-23T12:08:02.905143Z"
    },
    "id": "OQt0B5k1s2YY",
    "outputId": "d209445a-eb7b-42e2-c228-05e7cf0dbdd4"
   },
   "outputs": [
    {
     "name": "stdout",
     "output_type": "stream",
     "text": [
      "Epoch 1/6\n",
      "107/107 [==============================] - 345s 3s/step - loss: 0.6432 - accuracy: 0.6162 - val_loss: 0.5409 - val_accuracy: 0.7310\n",
      "Epoch 2/6\n",
      "107/107 [==============================] - 336s 3s/step - loss: 0.4310 - accuracy: 0.8059 - val_loss: 0.3701 - val_accuracy: 0.8400\n",
      "Epoch 3/6\n",
      "107/107 [==============================] - 340s 3s/step - loss: 0.3330 - accuracy: 0.8626 - val_loss: 0.3889 - val_accuracy: 0.8270\n",
      "Epoch 4/6\n",
      "107/107 [==============================] - 349s 3s/step - loss: 0.2863 - accuracy: 0.8870 - val_loss: 0.3246 - val_accuracy: 0.8699\n",
      "Epoch 5/6\n",
      "107/107 [==============================] - 337s 3s/step - loss: 0.2419 - accuracy: 0.9073 - val_loss: 0.3555 - val_accuracy: 0.8464\n",
      "Epoch 6/6\n",
      "107/107 [==============================] - 342s 3s/step - loss: 0.2183 - accuracy: 0.9188 - val_loss: 0.4776 - val_accuracy: 0.7813\n"
     ]
    }
   ],
   "source": [
    "history = model.fit(X_train,y_train,epochs=6,batch_size=225,validation_split=0.4,callbacks=[earlyStopping])"
   ]
  },
  {
   "cell_type": "code",
   "execution_count": 25,
   "metadata": {
    "colab": {
     "base_uri": "https://localhost:8080/",
     "height": 407
    },
    "id": "a3-wmTNp2lL9",
    "outputId": "bf19a13d-5a43-4689-a772-b2f4414a88a7"
   },
   "outputs": [
    {
     "data": {
      "image/png": "[encoded data removed]",
      "text/plain": [
       "<Figure size 1000x400 with 2 Axes>"
      ]
     },
     "metadata": {},
     "output_type": "display_data"
    }
   ],
   "source": [
    "plt.figure(figsize=(10, 4))\n",
    "\n",
    "# Plot training and validation accuracy\n",
    "plt.subplot(1, 2, 1)\n",
    "plt.plot(history.history['accuracy'], label='Training Accuracy')\n",
    "plt.plot(history.history['val_accuracy'], label='Validation Accuracy')\n",
    "plt.title('Model Accuracy')\n",
    "plt.xlabel('Epoch')\n",
    "plt.ylabel('Accuracy')\n",
    "plt.legend()\n",
    "\n",
    "# Plot training and validation loss\n",
    "plt.subplot(1, 2, 2)\n",
    "plt.plot(history.history['loss'], label='Training Loss')\n",
    "plt.plot(history.history['val_loss'], label='Validation Loss')\n",
    "plt.title('Model Loss')\n",
    "plt.xlabel('Epoch')\n",
    "plt.ylabel('Loss')\n",
    "plt.legend()\n",
    "\n",
    "plt.tight_layout()\n",
    "plt.show()"
   ]
  },
  {
   "cell_type": "markdown",
   "metadata": {
    "id": "bHZG_8sPs2YZ"
   },
   "source": [
    "# Evaluating the Model"
   ]
  },
  {
   "cell_type": "code",
   "execution_count": 26,
   "metadata": {
    "colab": {
     "base_uri": "https://localhost:8080/"
    },
    "execution": {
     "iopub.execute_input": "2023-06-23T12:11:39.882740Z",
     "iopub.status.busy": "2023-06-23T12:11:39.882356Z",
     "iopub.status.idle": "2023-06-23T12:11:44.443521Z",
     "shell.execute_reply": "2023-06-23T12:11:44.442509Z",
     "shell.execute_reply.started": "2023-06-23T12:11:39.882710Z"
    },
    "id": "RDbQKxNds2YZ",
    "outputId": "65e9c02d-b280-4594-c878-bc707ac9695e"
   },
   "outputs": [
    {
     "name": "stdout",
     "output_type": "stream",
     "text": [
      "313/313 [==============================] - 64s 203ms/step - loss: 0.4764 - accuracy: 0.7797\n"
     ]
    }
   ],
   "source": [
    "evals = model.evaluate(X_test, y_test)"
   ]
  },
  {
   "cell_type": "code",
   "execution_count": 27,
   "metadata": {
    "colab": {
     "base_uri": "https://localhost:8080/"
    },
    "execution": {
     "iopub.execute_input": "2023-06-23T12:12:39.037435Z",
     "iopub.status.busy": "2023-06-23T12:12:39.036824Z",
     "iopub.status.idle": "2023-06-23T12:12:39.043595Z",
     "shell.execute_reply": "2023-06-23T12:12:39.042446Z",
     "shell.execute_reply.started": "2023-06-23T12:12:39.037385Z"
    },
    "id": "UUGHuZxXs2Ya",
    "outputId": "47bde395-a2d0-4ba3-bc0a-41d8a1c619e5"
   },
   "outputs": [
    {
     "name": "stdout",
     "output_type": "stream",
     "text": [
      "Test Loss: 0.476408988237381\n",
      "Test Accuracy: 0.779699981212616\n"
     ]
    }
   ],
   "source": [
    "print(\"Test Loss:\", evals[0])\n",
    "print(\"Test Accuracy:\", evals[1])"
   ]
  },
  {
   "cell_type": "code",
   "execution_count": 31,
   "metadata": {
    "colab": {
     "base_uri": "https://localhost:8080/"
    },
    "id": "EnCgllID3WsF",
    "outputId": "390531d6-1fff-471a-df63-7b68b6412661"
   },
   "outputs": [
    {
     "name": "stdout",
     "output_type": "stream",
     "text": [
      "313/313 [==============================] - 64s 203ms/step\n",
      "Classification Report:\n",
      "               precision    recall  f1-score   support\n",
      "\n",
      "    Negative       0.95      0.59      0.73      4961\n",
      "    Positive       0.70      0.97      0.82      5039\n",
      "\n",
      "    accuracy                           0.78     10000\n",
      "   macro avg       0.83      0.78      0.77     10000\n",
      "weighted avg       0.83      0.78      0.77     10000\n",
      "\n"
     ]
    }
   ],
   "source": [
    "# Make predictions on the validation data\n",
    "y_pred = model.predict(X_test) \n",
    "y_pred_classes = (y_pred > 0.5).astype(int) \n",
    "y_true = y_test  \n",
    "from sklearn.metrics import classification_report\n",
    "\n",
    "# Generate a classification report\n",
    "class_names = ['Negative', 'Positive']\n",
    "classification_rep = classification_report(y_true, y_pred_classes, target_names=class_names)\n",
    "print(\"Classification Report:\\n\", classification_rep)"
   ]
  },
  {
   "cell_type": "code",
   "execution_count": null,
   "metadata": {
    "id": "7_rxWVV64_Wt"
   },
   "outputs": [],
   "source": []
  }
 ],
 "metadata": {
  "colab": {
   "provenance": []
  },
  "kernelspec": {
   "display_name": "Python 3 (ipykernel)",
   "language": "python",
   "name": "python3"
  },
  "language_info": {
   "codemirror_mode": {
    "name": "ipython",
    "version": 3
   },
   "file_extension": ".py",
   "mimetype": "text/x-python",
   "name": "python",
   "nbconvert_exporter": "python",
   "pygments_lexer": "ipython3",
   "version": "3.9.13"
  }
 },
 "nbformat": 4,
 "nbformat_minor": 4
}
