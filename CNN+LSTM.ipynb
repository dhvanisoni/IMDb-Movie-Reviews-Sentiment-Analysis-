{
  "cells": [
    {
      "cell_type": "markdown",
      "source": [
        "# IMDB Movie Reviews- LSTM+CNN"
      ],
      "metadata": {
        "id": "tdoflD-NfyrB"
      },
      "id": "tdoflD-NfyrB"
    },
    {
      "cell_type": "markdown",
      "id": "44808414",
      "metadata": {
        "papermill": {
          "duration": 0.010844,
          "end_time": "2023-03-14T11:24:03.539003",
          "exception": false,
          "start_time": "2023-03-14T11:24:03.528159",
          "status": "completed"
        },
        "tags": [],
        "id": "44808414"
      },
      "source": [
        "## Importing Libraries\n",
        "---"
      ]
    },
    {
      "cell_type": "code",
      "execution_count": 1,
      "id": "f1b534c9",
      "metadata": {
        "execution": {
          "iopub.execute_input": "2023-03-14T11:24:03.560969Z",
          "iopub.status.busy": "2023-03-14T11:24:03.560482Z",
          "iopub.status.idle": "2023-03-14T11:24:12.299254Z",
          "shell.execute_reply": "2023-03-14T11:24:12.298136Z"
        },
        "papermill": {
          "duration": 8.752995,
          "end_time": "2023-03-14T11:24:12.301891",
          "exception": false,
          "start_time": "2023-03-14T11:24:03.548896",
          "status": "completed"
        },
        "tags": [],
        "id": "f1b534c9"
      },
      "outputs": [],
      "source": [
        "import pandas as pd\n",
        "import numpy as np\n",
        "import matplotlib.pyplot as plt\n",
        "import seaborn as sns\n",
        "import tensorflow as tf\n",
        "\n",
        "pd.set_option('display.max_colwidth', None)"
      ]
    },
    {
      "cell_type": "code",
      "execution_count": 2,
      "id": "2da4abf5",
      "metadata": {
        "_cell_guid": "b1076dfc-b9ad-4769-8c92-a6c4dae69d19",
        "_uuid": "8f2839f25d086af736a60e9eeb907d3b93b6e0e5",
        "execution": {
          "iopub.execute_input": "2023-03-14T11:24:12.323975Z",
          "iopub.status.busy": "2023-03-14T11:24:12.322536Z",
          "iopub.status.idle": "2023-03-14T11:24:13.835212Z",
          "shell.execute_reply": "2023-03-14T11:24:13.834185Z"
        },
        "papermill": {
          "duration": 1.525944,
          "end_time": "2023-03-14T11:24:13.837779",
          "exception": false,
          "start_time": "2023-03-14T11:24:12.311835",
          "status": "completed"
        },
        "tags": [],
        "colab": {
          "base_uri": "https://localhost:8080/",
          "height": 1000
        },
        "id": "2da4abf5",
        "outputId": "c550e403-ce1b-4c83-d08e-41aff3ede760"
      },
      "outputs": [
        {
          "output_type": "execute_result",
          "data": {
            "text/plain": [
              "                                                                                                                                                                                                                                                                                                                                                                                                                                                                                                                                                                                                                                                                                                                                                                                                                                                                                                                                                                                                                                                                                                                                                                                                                                                                                                                                                                                                                                                                                                                                                                                                                                                                                                                                                                                                                              review  \\\n",
              "0  One of the other reviewers has mentioned that after watching just 1 Oz episode you'll be hooked. They are right, as this is exactly what happened with me.<br /><br />The first thing that struck me about Oz was its brutality and unflinching scenes of violence, which set in right from the word GO. Trust me, this is not a show for the faint hearted or timid. This show pulls no punches with regards to drugs, sex or violence. Its is hardcore, in the classic use of the word.<br /><br />It is called OZ as that is the nickname given to the Oswald Maximum Security State Penitentary. It focuses mainly on Emerald City, an experimental section of the prison where all the cells have glass fronts and face inwards, so privacy is not high on the agenda. Em City is home to many..Aryans, Muslims, gangstas, Latinos, Christians, Italians, Irish and more....so scuffles, death stares, dodgy dealings and shady agreements are never far away.<br /><br />I would say the main appeal of the show is due to the fact that it goes where other shows wouldn't dare. Forget pretty pictures painted for mainstream audiences, forget charm, forget romance...OZ doesn't mess around. The first episode I ever saw struck me as so nasty it was surreal, I couldn't say I was ready for it, but as I watched more, I developed a taste for Oz, and got accustomed to the high levels of graphic violence. Not just violence, but injustice (crooked guards who'll be sold out for a nickel, inmates who'll kill on order and get away with it, well mannered, middle class inmates being turned into prison bitches due to their lack of street skills or prison experience) Watching Oz, you may become comfortable with what is uncomfortable viewing....thats if you can get in touch with your darker side.   \n",
              "1                                                                                                                                                                                                                                                                                                                                                                                                                                                                                                                                                                                                                                                                                                                                                                                             A wonderful little production. <br /><br />The filming technique is very unassuming- very old-time-BBC fashion and gives a comforting, and sometimes discomforting, sense of realism to the entire piece. <br /><br />The actors are extremely well chosen- Michael Sheen not only \"has got all the polari\" but he has all the voices down pat too! You can truly see the seamless editing guided by the references to Williams' diary entries, not only is it well worth the watching but it is a terrificly written and performed piece. A masterful production about one of the great master's of comedy and his life. <br /><br />The realism really comes home with the little things: the fantasy of the guard which, rather than use the traditional 'dream' techniques remains solid then disappears. It plays on our knowledge and our senses, particularly with the scenes concerning Orton and Halliwell and the sets (particularly of their flat with Halliwell's murals decorating every surface) are terribly well done.   \n",
              "2                                                                                                                                                                                                                                                                                                                                                                                                                                                                                                                                                                                                                                                                                                                                                                                                                                                                     I thought this was a wonderful way to spend time on a too hot summer weekend, sitting in the air conditioned theater and watching a light-hearted comedy. The plot is simplistic, but the dialogue is witty and the characters are likable (even the well bread suspected serial killer). While some may be disappointed when they realize this is not Match Point 2: Risk Addiction, I thought it was proof that Woody Allen is still fully in control of the style many of us have grown to love.<br /><br />This was the most I'd laughed at one of Woody's comedies in years (dare I say a decade?). While I've never been impressed with Scarlet Johanson, in this she managed to tone down her \"sexy\" image and jumped right into a average, but spirited young woman.<br /><br />This may not be the crown jewel of his career, but it was wittier than \"Devil Wears Prada\" and more interesting than \"Superman\" a great comedy to go see with friends.   \n",
              "3                                                                                                                                                                                                                                                                                                                                                                                                                                                                                                                                                                                                                                                                                                                                                                                                                                                                                                                                                                                                                                                       Basically there's a family where a little boy (Jake) thinks there's a zombie in his closet & his parents are fighting all the time.<br /><br />This movie is slower than a soap opera... and suddenly, Jake decides to become Rambo and kill the zombie.<br /><br />OK, first of all when you're going to make a film you must Decide if its a thriller or a drama! As a drama the movie is watchable. Parents are divorcing & arguing like in real life. And then we have Jake with his closet which totally ruins all the film! I expected to see a BOOGEYMAN similar movie, and instead i watched a drama with some meaningless thriller spots.<br /><br />3 out of 10 just for the well playing parents & descent dialogs. As for the shots with Jake: just ignore them.   \n",
              "4                                                                                                                                                                                                                                                                                                                                                                                                                                                              Petter Mattei's \"Love in the Time of Money\" is a visually stunning film to watch. Mr. Mattei offers us a vivid portrait about human relations. This is a movie that seems to be telling us what money, power and success do to people in the different situations we encounter. <br /><br />This being a variation on the Arthur Schnitzler's play about the same theme, the director transfers the action to the present time New York where all these different characters meet and connect. Each one is connected in one way, or another to the next person, but no one seems to know the previous point of contact. Stylishly, the film has a sophisticated luxurious look. We are taken to see how these people live and the world they live in their own habitat.<br /><br />The only thing one gets out of all these souls in the picture is the different stages of loneliness each one inhabits. A big city is not exactly the best place in which human relations find sincere fulfillment, as one discerns is the case with most of the people we encounter.<br /><br />The acting is good under Mr. Mattei's direction. Steve Buscemi, Rosario Dawson, Carol Kane, Michael Imperioli, Adrian Grenier, and the rest of the talented cast, make these characters come alive.<br /><br />We wish Mr. Mattei good luck and await anxiously for his next work.   \n",
              "\n",
              "  sentiment  \n",
              "0  positive  \n",
              "1  positive  \n",
              "2  positive  \n",
              "3  negative  \n",
              "4  positive  "
            ],
            "text/html": [
              "\n",
              "\n",
              "  <div id=\"df-aaa73390-080e-466f-a95a-f01c29438d6c\">\n",
              "    <div class=\"colab-df-container\">\n",
              "      <div>\n",
              "<style scoped>\n",
              "    .dataframe tbody tr th:only-of-type {\n",
              "        vertical-align: middle;\n",
              "    }\n",
              "\n",
              "    .dataframe tbody tr th {\n",
              "        vertical-align: top;\n",
              "    }\n",
              "\n",
              "    .dataframe thead th {\n",
              "        text-align: right;\n",
              "    }\n",
              "</style>\n",
              "<table border=\"1\" class=\"dataframe\">\n",
              "  <thead>\n",
              "    <tr style=\"text-align: right;\">\n",
              "      <th></th>\n",
              "      <th>review</th>\n",
              "      <th>sentiment</th>\n",
              "    </tr>\n",
              "  </thead>\n",
              "  <tbody>\n",
              "    <tr>\n",
              "      <th>0</th>\n",
              "      <td>One of the other reviewers has mentioned that after watching just 1 Oz episode you'll be hooked. They are right, as this is exactly what happened with me.&lt;br /&gt;&lt;br /&gt;The first thing that struck me about Oz was its brutality and unflinching scenes of violence, which set in right from the word GO. Trust me, this is not a show for the faint hearted or timid. This show pulls no punches with regards to drugs, sex or violence. Its is hardcore, in the classic use of the word.&lt;br /&gt;&lt;br /&gt;It is called OZ as that is the nickname given to the Oswald Maximum Security State Penitentary. It focuses mainly on Emerald City, an experimental section of the prison where all the cells have glass fronts and face inwards, so privacy is not high on the agenda. Em City is home to many..Aryans, Muslims, gangstas, Latinos, Christians, Italians, Irish and more....so scuffles, death stares, dodgy dealings and shady agreements are never far away.&lt;br /&gt;&lt;br /&gt;I would say the main appeal of the show is due to the fact that it goes where other shows wouldn't dare. Forget pretty pictures painted for mainstream audiences, forget charm, forget romance...OZ doesn't mess around. The first episode I ever saw struck me as so nasty it was surreal, I couldn't say I was ready for it, but as I watched more, I developed a taste for Oz, and got accustomed to the high levels of graphic violence. Not just violence, but injustice (crooked guards who'll be sold out for a nickel, inmates who'll kill on order and get away with it, well mannered, middle class inmates being turned into prison bitches due to their lack of street skills or prison experience) Watching Oz, you may become comfortable with what is uncomfortable viewing....thats if you can get in touch with your darker side.</td>\n",
              "      <td>positive</td>\n",
              "    </tr>\n",
              "    <tr>\n",
              "      <th>1</th>\n",
              "      <td>A wonderful little production. &lt;br /&gt;&lt;br /&gt;The filming technique is very unassuming- very old-time-BBC fashion and gives a comforting, and sometimes discomforting, sense of realism to the entire piece. &lt;br /&gt;&lt;br /&gt;The actors are extremely well chosen- Michael Sheen not only \"has got all the polari\" but he has all the voices down pat too! You can truly see the seamless editing guided by the references to Williams' diary entries, not only is it well worth the watching but it is a terrificly written and performed piece. A masterful production about one of the great master's of comedy and his life. &lt;br /&gt;&lt;br /&gt;The realism really comes home with the little things: the fantasy of the guard which, rather than use the traditional 'dream' techniques remains solid then disappears. It plays on our knowledge and our senses, particularly with the scenes concerning Orton and Halliwell and the sets (particularly of their flat with Halliwell's murals decorating every surface) are terribly well done.</td>\n",
              "      <td>positive</td>\n",
              "    </tr>\n",
              "    <tr>\n",
              "      <th>2</th>\n",
              "      <td>I thought this was a wonderful way to spend time on a too hot summer weekend, sitting in the air conditioned theater and watching a light-hearted comedy. The plot is simplistic, but the dialogue is witty and the characters are likable (even the well bread suspected serial killer). While some may be disappointed when they realize this is not Match Point 2: Risk Addiction, I thought it was proof that Woody Allen is still fully in control of the style many of us have grown to love.&lt;br /&gt;&lt;br /&gt;This was the most I'd laughed at one of Woody's comedies in years (dare I say a decade?). While I've never been impressed with Scarlet Johanson, in this she managed to tone down her \"sexy\" image and jumped right into a average, but spirited young woman.&lt;br /&gt;&lt;br /&gt;This may not be the crown jewel of his career, but it was wittier than \"Devil Wears Prada\" and more interesting than \"Superman\" a great comedy to go see with friends.</td>\n",
              "      <td>positive</td>\n",
              "    </tr>\n",
              "    <tr>\n",
              "      <th>3</th>\n",
              "      <td>Basically there's a family where a little boy (Jake) thinks there's a zombie in his closet &amp; his parents are fighting all the time.&lt;br /&gt;&lt;br /&gt;This movie is slower than a soap opera... and suddenly, Jake decides to become Rambo and kill the zombie.&lt;br /&gt;&lt;br /&gt;OK, first of all when you're going to make a film you must Decide if its a thriller or a drama! As a drama the movie is watchable. Parents are divorcing &amp; arguing like in real life. And then we have Jake with his closet which totally ruins all the film! I expected to see a BOOGEYMAN similar movie, and instead i watched a drama with some meaningless thriller spots.&lt;br /&gt;&lt;br /&gt;3 out of 10 just for the well playing parents &amp; descent dialogs. As for the shots with Jake: just ignore them.</td>\n",
              "      <td>negative</td>\n",
              "    </tr>\n",
              "    <tr>\n",
              "      <th>4</th>\n",
              "      <td>Petter Mattei's \"Love in the Time of Money\" is a visually stunning film to watch. Mr. Mattei offers us a vivid portrait about human relations. This is a movie that seems to be telling us what money, power and success do to people in the different situations we encounter. &lt;br /&gt;&lt;br /&gt;This being a variation on the Arthur Schnitzler's play about the same theme, the director transfers the action to the present time New York where all these different characters meet and connect. Each one is connected in one way, or another to the next person, but no one seems to know the previous point of contact. Stylishly, the film has a sophisticated luxurious look. We are taken to see how these people live and the world they live in their own habitat.&lt;br /&gt;&lt;br /&gt;The only thing one gets out of all these souls in the picture is the different stages of loneliness each one inhabits. A big city is not exactly the best place in which human relations find sincere fulfillment, as one discerns is the case with most of the people we encounter.&lt;br /&gt;&lt;br /&gt;The acting is good under Mr. Mattei's direction. Steve Buscemi, Rosario Dawson, Carol Kane, Michael Imperioli, Adrian Grenier, and the rest of the talented cast, make these characters come alive.&lt;br /&gt;&lt;br /&gt;We wish Mr. Mattei good luck and await anxiously for his next work.</td>\n",
              "      <td>positive</td>\n",
              "    </tr>\n",
              "  </tbody>\n",
              "</table>\n",
              "</div>\n",
              "      <button class=\"colab-df-convert\" onclick=\"convertToInteractive('df-aaa73390-080e-466f-a95a-f01c29438d6c')\"\n",
              "              title=\"Convert this dataframe to an interactive table.\"\n",
              "              style=\"display:none;\">\n",
              "\n",
              "  <svg xmlns=\"http://www.w3.org/2000/svg\" height=\"24px\"viewBox=\"0 0 24 24\"\n",
              "       width=\"24px\">\n",
              "    <path d=\"M0 0h24v24H0V0z\" fill=\"none\"/>\n",
              "    <path d=\"M18.56 5.44l.94 2.06.94-2.06 2.06-.94-2.06-.94-.94-2.06-.94 2.06-2.06.94zm-11 1L8.5 8.5l.94-2.06 2.06-.94-2.06-.94L8.5 2.5l-.94 2.06-2.06.94zm10 10l.94 2.06.94-2.06 2.06-.94-2.06-.94-.94-2.06-.94 2.06-2.06.94z\"/><path d=\"M17.41 7.96l-1.37-1.37c-.4-.4-.92-.59-1.43-.59-.52 0-1.04.2-1.43.59L10.3 9.45l-7.72 7.72c-.78.78-.78 2.05 0 2.83L4 21.41c.39.39.9.59 1.41.59.51 0 1.02-.2 1.41-.59l7.78-7.78 2.81-2.81c.8-.78.8-2.07 0-2.86zM5.41 20L4 18.59l7.72-7.72 1.47 1.35L5.41 20z\"/>\n",
              "  </svg>\n",
              "      </button>\n",
              "\n",
              "\n",
              "\n",
              "    <div id=\"df-73a0ed6c-024f-4c60-b20a-e1a0b650f197\">\n",
              "      <button class=\"colab-df-quickchart\" onclick=\"quickchart('df-73a0ed6c-024f-4c60-b20a-e1a0b650f197')\"\n",
              "              title=\"Suggest charts.\"\n",
              "              style=\"display:none;\">\n",
              "\n",
              "<svg xmlns=\"http://www.w3.org/2000/svg\" height=\"24px\"viewBox=\"0 0 24 24\"\n",
              "     width=\"24px\">\n",
              "    <g>\n",
              "        <path d=\"M19 3H5c-1.1 0-2 .9-2 2v14c0 1.1.9 2 2 2h14c1.1 0 2-.9 2-2V5c0-1.1-.9-2-2-2zM9 17H7v-7h2v7zm4 0h-2V7h2v10zm4 0h-2v-4h2v4z\"/>\n",
              "    </g>\n",
              "</svg>\n",
              "      </button>\n",
              "    </div>\n",
              "\n",
              "<style>\n",
              "  .colab-df-quickchart {\n",
              "    background-color: #E8F0FE;\n",
              "    border: none;\n",
              "    border-radius: 50%;\n",
              "    cursor: pointer;\n",
              "    display: none;\n",
              "    fill: #1967D2;\n",
              "    height: 32px;\n",
              "    padding: 0 0 0 0;\n",
              "    width: 32px;\n",
              "  }\n",
              "\n",
              "  .colab-df-quickchart:hover {\n",
              "    background-color: #E2EBFA;\n",
              "    box-shadow: 0px 1px 2px rgba(60, 64, 67, 0.3), 0px 1px 3px 1px rgba(60, 64, 67, 0.15);\n",
              "    fill: #174EA6;\n",
              "  }\n",
              "\n",
              "  [theme=dark] .colab-df-quickchart {\n",
              "    background-color: #3B4455;\n",
              "    fill: #D2E3FC;\n",
              "  }\n",
              "\n",
              "  [theme=dark] .colab-df-quickchart:hover {\n",
              "    background-color: #434B5C;\n",
              "    box-shadow: 0px 1px 3px 1px rgba(0, 0, 0, 0.15);\n",
              "    filter: drop-shadow(0px 1px 2px rgba(0, 0, 0, 0.3));\n",
              "    fill: #FFFFFF;\n",
              "  }\n",
              "</style>\n",
              "\n",
              "    <script>\n",
              "      async function quickchart(key) {\n",
              "        const containerElement = document.querySelector('#' + key);\n",
              "        const charts = await google.colab.kernel.invokeFunction(\n",
              "            'suggestCharts', [key], {});\n",
              "      }\n",
              "    </script>\n",
              "\n",
              "      <script>\n",
              "\n",
              "function displayQuickchartButton(domScope) {\n",
              "  let quickchartButtonEl =\n",
              "    domScope.querySelector('#df-73a0ed6c-024f-4c60-b20a-e1a0b650f197 button.colab-df-quickchart');\n",
              "  quickchartButtonEl.style.display =\n",
              "    google.colab.kernel.accessAllowed ? 'block' : 'none';\n",
              "}\n",
              "\n",
              "        displayQuickchartButton(document);\n",
              "      </script>\n",
              "      <style>\n",
              "    .colab-df-container {\n",
              "      display:flex;\n",
              "      flex-wrap:wrap;\n",
              "      gap: 12px;\n",
              "    }\n",
              "\n",
              "    .colab-df-convert {\n",
              "      background-color: #E8F0FE;\n",
              "      border: none;\n",
              "      border-radius: 50%;\n",
              "      cursor: pointer;\n",
              "      display: none;\n",
              "      fill: #1967D2;\n",
              "      height: 32px;\n",
              "      padding: 0 0 0 0;\n",
              "      width: 32px;\n",
              "    }\n",
              "\n",
              "    .colab-df-convert:hover {\n",
              "      background-color: #E2EBFA;\n",
              "      box-shadow: 0px 1px 2px rgba(60, 64, 67, 0.3), 0px 1px 3px 1px rgba(60, 64, 67, 0.15);\n",
              "      fill: #174EA6;\n",
              "    }\n",
              "\n",
              "    [theme=dark] .colab-df-convert {\n",
              "      background-color: #3B4455;\n",
              "      fill: #D2E3FC;\n",
              "    }\n",
              "\n",
              "    [theme=dark] .colab-df-convert:hover {\n",
              "      background-color: #434B5C;\n",
              "      box-shadow: 0px 1px 3px 1px rgba(0, 0, 0, 0.15);\n",
              "      filter: drop-shadow(0px 1px 2px rgba(0, 0, 0, 0.3));\n",
              "      fill: #FFFFFF;\n",
              "    }\n",
              "  </style>\n",
              "\n",
              "      <script>\n",
              "        const buttonEl =\n",
              "          document.querySelector('#df-aaa73390-080e-466f-a95a-f01c29438d6c button.colab-df-convert');\n",
              "        buttonEl.style.display =\n",
              "          google.colab.kernel.accessAllowed ? 'block' : 'none';\n",
              "\n",
              "        async function convertToInteractive(key) {\n",
              "          const element = document.querySelector('#df-aaa73390-080e-466f-a95a-f01c29438d6c');\n",
              "          const dataTable =\n",
              "            await google.colab.kernel.invokeFunction('convertToInteractive',\n",
              "                                                     [key], {});\n",
              "          if (!dataTable) return;\n",
              "\n",
              "          const docLinkHtml = 'Like what you see? Visit the ' +\n",
              "            '<a target=\"_blank\" href=https://colab.research.google.com/notebooks/data_table.ipynb>data table notebook</a>'\n",
              "            + ' to learn more about interactive tables.';\n",
              "          element.innerHTML = '';\n",
              "          dataTable['output_type'] = 'display_data';\n",
              "          await google.colab.output.renderOutput(dataTable, element);\n",
              "          const docLink = document.createElement('div');\n",
              "          docLink.innerHTML = docLinkHtml;\n",
              "          element.appendChild(docLink);\n",
              "        }\n",
              "      </script>\n",
              "    </div>\n",
              "  </div>\n"
            ]
          },
          "metadata": {},
          "execution_count": 2
        }
      ],
      "source": [
        "df = pd.read_csv(\"IMDB Dataset.csv\", encoding='latin1')\n",
        "df.head()"
      ]
    },
    {
      "cell_type": "code",
      "execution_count": 3,
      "id": "645ab607",
      "metadata": {
        "execution": {
          "iopub.execute_input": "2023-03-14T11:24:13.860648Z",
          "iopub.status.busy": "2023-03-14T11:24:13.859932Z",
          "iopub.status.idle": "2023-03-14T11:24:13.874953Z",
          "shell.execute_reply": "2023-03-14T11:24:13.873820Z"
        },
        "papermill": {
          "duration": 0.030275,
          "end_time": "2023-03-14T11:24:13.878283",
          "exception": false,
          "start_time": "2023-03-14T11:24:13.848008",
          "status": "completed"
        },
        "tags": [],
        "colab": {
          "base_uri": "https://localhost:8080/",
          "height": 1000
        },
        "id": "645ab607",
        "outputId": "53eb6070-f481-4665-a99c-ed10f71a87f3"
      },
      "outputs": [
        {
          "output_type": "execute_result",
          "data": {
            "text/plain": [
              "                                                                                                                                                                                                                                                                                                                                                                                                                                                                                                                                                                                                                                                                                                                                                                                                                                                                                                                                                                                                                                                                                                                                                                                                                                                                                                                                                                                                                                                                                                                                                                                                                                                                                                                                                                                                                                                                                                                                                                                                                                                                                                                                                                                                                                                                                                                                                                                                                                                                                                                                                                                                                                                                                                                                                                                                                                                                                                                                                                                                                                                                                                                                                                                                                                                                                                                                                                                                                                                                                                                                                                                                                                                                                                                                                         review  \\\n",
              "16971                                                                                                                                                                                                                                                                                                                                                                                                                                                                                                                                                                                                                                                                                                                                                                                                                                                                                                                                                                                                                                                                                                                                                                                                                                                                                                                                                                                                                                                                                                                                                                                                                                                                                                                                                                                                                                                                                                                                                                                                                                                                                                                                                                                                                                                                                                                                                                                                                                                                                                                                                                                                                                                                                                                                                                              Generally I don't like films directed by Sydney Pollack (\"The Firm\" being somewhat of an exception) and I've never been a Robert Redford fan either. Still, I thought \"Three Days of the Condor\" must be good because of the number of praising comments it has received.<br /><br />Although the widescreen cinematography is quite pleasing for the eye and Max von Sydow does a nice job as the sinister professional killer, I found the whole affair tremendously disappointing. The film undeniably radiates paranoid atmosphere, but everything is ruined by the muddled plot which doesn't seem to make any sense.<br /><br />The film also contains one of the most unsatisfying endings I have ever seen which really leaves the viewer hanging in the air. And what can one say about that absurd romance between Redford and Dunaway? I'd much rather watch any of Hitchcock's films five times in succession than to sit through this piece of waste once more.   \n",
              "14310  Let me start by saying at the young age of 34 I was suddenly widowed. I was devastated as he was NOT sick--- he died unexpectedly basically of a coronary--- his carotids blew out-- he died behind our house. There was a lot of speculation from police, cause he fell on something and it bashed his head in. I was a suspect for murder until the autopsy came back. <br /><br />My children were as traumatized as I was, so in love with a good father figure as he. I had three small children, no education, no financial support. I took it very, very hard. <br /><br />Within two years my in-laws attacked me verbally, physically, emotionally and spiritually demanding I grieve not in front of the children, and put on masks and showed people what they wanted to see, not show them my pain during holidays... Nobody stood up for me and my choice to sit out one holiday, except of course, the grief therapist I was seeing that had advised me to follow my heart and soul. My in-laws didn't get it! It changed FOREVER my relationship with them, and I have never been back for a holiday. This is only one example of how my grief was disrespected! My own (new) husband has seen me fall apart talking about the trauma when I shared from my soul. I collapse, can not breathe, hyperventilate, and generally am defunct for a few days if I even try to convey the hidden pain. <br /><br />Now about this movie...<br /><br />Today, my soul was stirred, my heart broken. My fears and pain re-surfaced from the real demons this movie presents; how one grieves compared to how others expect us too and the demons within. Adam Sandler portrayed perfectly the horrendous agony you face, overcome and most of all, work through on your own time! This movie dredged up all the pain that I have tried over the years to deal with. You see, when something harms your soul so profoundly, so deep that utterances are all that come from your mouth in moments of thinking, you can not deal with it without wishing you were dead and walking through life, in a dead state. <br /><br />The bible has a scripture, Romans 8:26 that I have clung to, that when my mouth and soul know not what to pray for, that God's Holy Spirit carries that agony to the feet of God-- I need not speak. Sandler portrayed that to perfection! <br /><br />There is a scene where he has been hauled into a court hearing, for mental health commitment purposes, and he goes back in to face his in-laws--- (familiar to me)--- and he tells them the stunning truths that he has been possessed by, per Se, that he can't get over. It's a profoundly strong, and mighty performance. I started bawling and had a hard time after wards getting up to walk out from the theater feeling my legs too weak to do so. My son was with me and saw it first hand, my precise motions while trying to hold it all together; a lesson for him, my youngest who barely remembers his daddy. It's been 13 years for me but this movie brought me back to the moment of losing my in-laws forever when they demanded a mask on my emotions and my surrendering to their desires, instead of respect to my own. <br /><br />I write this, so that if you are a griever, you are prepared for this movie, but recommend it highly in the 1000 star performance Sandler gave. <br /><br />If you are not yet a griever, please take a lesson from his movie and just listen and accept people's choices in their grief, letting them find peace in their own time! Sometimes, the soul can not utter the words to convey our pain. <br /><br />Go see this movie with tissues and not without preparing to take it in... to your soul!   \n",
              "44911                                                                                                                                                                                                                                                                                                                                                                                                                                                                                                                                                                                                                                                                                                                                                                                                                                                                                                                                                                                                                                                                                                                                                                                                                                                                                                                                                                                                                                                                                                                                                                                                                                                                                                                                                                                                                                                                                                                                             David Lynch's (1999) film of John Roach / Mary Sweeney's story is set in Iowa and Wisconsin some time well before the film's eventual release.<br /><br />We come into the life of Alvin Straight (Richard Farnsworth) late on in life. His medical condition is poor, his life is mostly behind him and he knows it.<br /><br />This makes what he decides to do, even more remarkable and endearing. He decides (and at every point in the film his own name reverberates through his actions) to put a few things straight.<br /><br />Alvin is, by this time in his life, a man of great experience but modest means. His daughter Rose (Sissy Spacek) struggles with a speech impediment that makes communication a great effort on the audience's behalf. But it's worth it, because Rose's story cannot help but come out as the film progresses.<br /><br />This film is the story of a journey. But like all journeys it is a journey in the geographical sense and in the human sense. Early on in the film, we begin to understand that this is an ambitious journey, which no elderly gentleman of Alvin's age should reasonably undertake.<br /><br />But along the way, we slowly learn how Alvin has so many qualifications which equip him to achieve his unlikely objective. His objective is very simple and straightforward. His brother is ill and likely to die and he wants to visit him. He has had a falling out with him many years ago and they have not spoken in a very long time.<br /><br />Along the way, Alvin meets many people. The way he behaves towards them and the benefit they get from having known him is the essence of this film. We come to know who Alvin Straight is, from what Alvin Straight does. And at the end of the film, we know who we are .. better.   \n",
              "23189                                                                                                                                                                                                                                                                                                                                                                                                                                                                                                                                                                                                                                                                                                                                                                                                                                                                                                                                                                                                                                                                                                                                                                                                                                                                                                                                                                                                                                                                                                                                                                                                                                                                                                                                                                                                                                                                                                                                                                                                                                                                                                                                                                                                                                                                                                                                                                                                                                                                                                                                               Being a freshman in college, this movie reminded me of my relationship with my mom. Of course, my situation doesn't parrallel with Natalie Portman and Surandon's situation; but my mom and I have grown up with the typical mother and daughter fights. There is always the mother telling you what to do, or not being the kind of mother you want to be. I was balling my eyes at the end of this movie. Surandon's reaction of her daughter going to the East coast, miles away, after all they've been through reminded me of how I felt, being from a small city in the West coast, going to New York. <br /><br />The movie is meant for women who have children that are now all grown up. It is very touching, I was moved by the movie. Every feeling out of the characters in this movie was utterly real, you didn't get any phony sentimentality. I was sitting through the credits at the screening of this movie, alone, wishing my mother was sitting next to me so I could hug her and thank her for everything. This movie is a bit corny of course, but everything is trully momentous. Its all about what a mom can learn from her child; and what a child learns from her mother. 8/10   \n",
              "30563                                                                                                                                                                                                                                                                                                                                                                                                                                                                                                                                                                                                                                                                                                                                                                                                                                                                                                                                                                                                                                                                                                                                                                                                                                                                                                                                                                                                                                                                                                                                                                                                                                                                                                                                                                                                                                                                                                                                                                                                                                                                                                                                                                                                                                                                                                                                                                                                                                                                                                                                                                                                                                                                                                                                                                                                                                                                                                                                                                                                                                                                                       \"Land of Plenty\" is not a film. It is a tombstone for the directorial career of German Director Wim Wenders.<br /><br />Many felt it in \"The Million Dollar Hotel\" and now \"Land of Plenty\" makes it perfectly clear; not only has Wenders lost it, he's actually turned into a BAD director, creating horribly weak and superficial stories and scenes.<br /><br />One might argue that the \"time you lose it\" comes for every director, but Wenders' case is extreme. It's as if he completely forget everything he knew about cinema and started all over again - only to get sloppish results.<br /><br />In a few words, this film does not deserve your time.   \n",
              "\n",
              "      sentiment  \n",
              "16971  negative  \n",
              "14310  positive  \n",
              "44911  positive  \n",
              "23189  positive  \n",
              "30563  negative  "
            ],
            "text/html": [
              "\n",
              "\n",
              "  <div id=\"df-03b144d3-ed3b-4c40-8f2d-ae19ff847ff6\">\n",
              "    <div class=\"colab-df-container\">\n",
              "      <div>\n",
              "<style scoped>\n",
              "    .dataframe tbody tr th:only-of-type {\n",
              "        vertical-align: middle;\n",
              "    }\n",
              "\n",
              "    .dataframe tbody tr th {\n",
              "        vertical-align: top;\n",
              "    }\n",
              "\n",
              "    .dataframe thead th {\n",
              "        text-align: right;\n",
              "    }\n",
              "</style>\n",
              "<table border=\"1\" class=\"dataframe\">\n",
              "  <thead>\n",
              "    <tr style=\"text-align: right;\">\n",
              "      <th></th>\n",
              "      <th>review</th>\n",
              "      <th>sentiment</th>\n",
              "    </tr>\n",
              "  </thead>\n",
              "  <tbody>\n",
              "    <tr>\n",
              "      <th>16971</th>\n",
              "      <td>Generally I don't like films directed by Sydney Pollack (\"The Firm\" being somewhat of an exception) and I've never been a Robert Redford fan either. Still, I thought \"Three Days of the Condor\" must be good because of the number of praising comments it has received.&lt;br /&gt;&lt;br /&gt;Although the widescreen cinematography is quite pleasing for the eye and Max von Sydow does a nice job as the sinister professional killer, I found the whole affair tremendously disappointing. The film undeniably radiates paranoid atmosphere, but everything is ruined by the muddled plot which doesn't seem to make any sense.&lt;br /&gt;&lt;br /&gt;The film also contains one of the most unsatisfying endings I have ever seen which really leaves the viewer hanging in the air. And what can one say about that absurd romance between Redford and Dunaway? I'd much rather watch any of Hitchcock's films five times in succession than to sit through this piece of waste once more.</td>\n",
              "      <td>negative</td>\n",
              "    </tr>\n",
              "    <tr>\n",
              "      <th>14310</th>\n",
              "      <td>Let me start by saying at the young age of 34 I was suddenly widowed. I was devastated as he was NOT sick--- he died unexpectedly basically of a coronary--- his carotids blew out-- he died behind our house. There was a lot of speculation from police, cause he fell on something and it bashed his head in. I was a suspect for murder until the autopsy came back. &lt;br /&gt;&lt;br /&gt;My children were as traumatized as I was, so in love with a good father figure as he. I had three small children, no education, no financial support. I took it very, very hard. &lt;br /&gt;&lt;br /&gt;Within two years my in-laws attacked me verbally, physically, emotionally and spiritually demanding I grieve not in front of the children, and put on masks and showed people what they wanted to see, not show them my pain during holidays... Nobody stood up for me and my choice to sit out one holiday, except of course, the grief therapist I was seeing that had advised me to follow my heart and soul. My in-laws didn't get it! It changed FOREVER my relationship with them, and I have never been back for a holiday. This is only one example of how my grief was disrespected! My own (new) husband has seen me fall apart talking about the trauma when I shared from my soul. I collapse, can not breathe, hyperventilate, and generally am defunct for a few days if I even try to convey the hidden pain. &lt;br /&gt;&lt;br /&gt;Now about this movie...&lt;br /&gt;&lt;br /&gt;Today, my soul was stirred, my heart broken. My fears and pain re-surfaced from the real demons this movie presents; how one grieves compared to how others expect us too and the demons within. Adam Sandler portrayed perfectly the horrendous agony you face, overcome and most of all, work through on your own time! This movie dredged up all the pain that I have tried over the years to deal with. You see, when something harms your soul so profoundly, so deep that utterances are all that come from your mouth in moments of thinking, you can not deal with it without wishing you were dead and walking through life, in a dead state. &lt;br /&gt;&lt;br /&gt;The bible has a scripture, Romans 8:26 that I have clung to, that when my mouth and soul know not what to pray for, that God's Holy Spirit carries that agony to the feet of God-- I need not speak. Sandler portrayed that to perfection! &lt;br /&gt;&lt;br /&gt;There is a scene where he has been hauled into a court hearing, for mental health commitment purposes, and he goes back in to face his in-laws--- (familiar to me)--- and he tells them the stunning truths that he has been possessed by, per Se, that he can't get over. It's a profoundly strong, and mighty performance. I started bawling and had a hard time after wards getting up to walk out from the theater feeling my legs too weak to do so. My son was with me and saw it first hand, my precise motions while trying to hold it all together; a lesson for him, my youngest who barely remembers his daddy. It's been 13 years for me but this movie brought me back to the moment of losing my in-laws forever when they demanded a mask on my emotions and my surrendering to their desires, instead of respect to my own. &lt;br /&gt;&lt;br /&gt;I write this, so that if you are a griever, you are prepared for this movie, but recommend it highly in the 1000 star performance Sandler gave. &lt;br /&gt;&lt;br /&gt;If you are not yet a griever, please take a lesson from his movie and just listen and accept people's choices in their grief, letting them find peace in their own time! Sometimes, the soul can not utter the words to convey our pain. &lt;br /&gt;&lt;br /&gt;Go see this movie with tissues and not without preparing to take it in... to your soul!</td>\n",
              "      <td>positive</td>\n",
              "    </tr>\n",
              "    <tr>\n",
              "      <th>44911</th>\n",
              "      <td>David Lynch's (1999) film of John Roach / Mary Sweeney's story is set in Iowa and Wisconsin some time well before the film's eventual release.&lt;br /&gt;&lt;br /&gt;We come into the life of Alvin Straight (Richard Farnsworth) late on in life. His medical condition is poor, his life is mostly behind him and he knows it.&lt;br /&gt;&lt;br /&gt;This makes what he decides to do, even more remarkable and endearing. He decides (and at every point in the film his own name reverberates through his actions) to put a few things straight.&lt;br /&gt;&lt;br /&gt;Alvin is, by this time in his life, a man of great experience but modest means. His daughter Rose (Sissy Spacek) struggles with a speech impediment that makes communication a great effort on the audience's behalf. But it's worth it, because Rose's story cannot help but come out as the film progresses.&lt;br /&gt;&lt;br /&gt;This film is the story of a journey. But like all journeys it is a journey in the geographical sense and in the human sense. Early on in the film, we begin to understand that this is an ambitious journey, which no elderly gentleman of Alvin's age should reasonably undertake.&lt;br /&gt;&lt;br /&gt;But along the way, we slowly learn how Alvin has so many qualifications which equip him to achieve his unlikely objective. His objective is very simple and straightforward. His brother is ill and likely to die and he wants to visit him. He has had a falling out with him many years ago and they have not spoken in a very long time.&lt;br /&gt;&lt;br /&gt;Along the way, Alvin meets many people. The way he behaves towards them and the benefit they get from having known him is the essence of this film. We come to know who Alvin Straight is, from what Alvin Straight does. And at the end of the film, we know who we are .. better.</td>\n",
              "      <td>positive</td>\n",
              "    </tr>\n",
              "    <tr>\n",
              "      <th>23189</th>\n",
              "      <td>Being a freshman in college, this movie reminded me of my relationship with my mom. Of course, my situation doesn't parrallel with Natalie Portman and Surandon's situation; but my mom and I have grown up with the typical mother and daughter fights. There is always the mother telling you what to do, or not being the kind of mother you want to be. I was balling my eyes at the end of this movie. Surandon's reaction of her daughter going to the East coast, miles away, after all they've been through reminded me of how I felt, being from a small city in the West coast, going to New York. &lt;br /&gt;&lt;br /&gt;The movie is meant for women who have children that are now all grown up. It is very touching, I was moved by the movie. Every feeling out of the characters in this movie was utterly real, you didn't get any phony sentimentality. I was sitting through the credits at the screening of this movie, alone, wishing my mother was sitting next to me so I could hug her and thank her for everything. This movie is a bit corny of course, but everything is trully momentous. Its all about what a mom can learn from her child; and what a child learns from her mother. 8/10</td>\n",
              "      <td>positive</td>\n",
              "    </tr>\n",
              "    <tr>\n",
              "      <th>30563</th>\n",
              "      <td>\"Land of Plenty\" is not a film. It is a tombstone for the directorial career of German Director Wim Wenders.&lt;br /&gt;&lt;br /&gt;Many felt it in \"The Million Dollar Hotel\" and now \"Land of Plenty\" makes it perfectly clear; not only has Wenders lost it, he's actually turned into a BAD director, creating horribly weak and superficial stories and scenes.&lt;br /&gt;&lt;br /&gt;One might argue that the \"time you lose it\" comes for every director, but Wenders' case is extreme. It's as if he completely forget everything he knew about cinema and started all over again - only to get sloppish results.&lt;br /&gt;&lt;br /&gt;In a few words, this film does not deserve your time.</td>\n",
              "      <td>negative</td>\n",
              "    </tr>\n",
              "  </tbody>\n",
              "</table>\n",
              "</div>\n",
              "      <button class=\"colab-df-convert\" onclick=\"convertToInteractive('df-03b144d3-ed3b-4c40-8f2d-ae19ff847ff6')\"\n",
              "              title=\"Convert this dataframe to an interactive table.\"\n",
              "              style=\"display:none;\">\n",
              "\n",
              "  <svg xmlns=\"http://www.w3.org/2000/svg\" height=\"24px\"viewBox=\"0 0 24 24\"\n",
              "       width=\"24px\">\n",
              "    <path d=\"M0 0h24v24H0V0z\" fill=\"none\"/>\n",
              "    <path d=\"M18.56 5.44l.94 2.06.94-2.06 2.06-.94-2.06-.94-.94-2.06-.94 2.06-2.06.94zm-11 1L8.5 8.5l.94-2.06 2.06-.94-2.06-.94L8.5 2.5l-.94 2.06-2.06.94zm10 10l.94 2.06.94-2.06 2.06-.94-2.06-.94-.94-2.06-.94 2.06-2.06.94z\"/><path d=\"M17.41 7.96l-1.37-1.37c-.4-.4-.92-.59-1.43-.59-.52 0-1.04.2-1.43.59L10.3 9.45l-7.72 7.72c-.78.78-.78 2.05 0 2.83L4 21.41c.39.39.9.59 1.41.59.51 0 1.02-.2 1.41-.59l7.78-7.78 2.81-2.81c.8-.78.8-2.07 0-2.86zM5.41 20L4 18.59l7.72-7.72 1.47 1.35L5.41 20z\"/>\n",
              "  </svg>\n",
              "      </button>\n",
              "\n",
              "\n",
              "\n",
              "    <div id=\"df-fd855307-1ccc-4b0e-b0e9-753eed446bef\">\n",
              "      <button class=\"colab-df-quickchart\" onclick=\"quickchart('df-fd855307-1ccc-4b0e-b0e9-753eed446bef')\"\n",
              "              title=\"Suggest charts.\"\n",
              "              style=\"display:none;\">\n",
              "\n",
              "<svg xmlns=\"http://www.w3.org/2000/svg\" height=\"24px\"viewBox=\"0 0 24 24\"\n",
              "     width=\"24px\">\n",
              "    <g>\n",
              "        <path d=\"M19 3H5c-1.1 0-2 .9-2 2v14c0 1.1.9 2 2 2h14c1.1 0 2-.9 2-2V5c0-1.1-.9-2-2-2zM9 17H7v-7h2v7zm4 0h-2V7h2v10zm4 0h-2v-4h2v4z\"/>\n",
              "    </g>\n",
              "</svg>\n",
              "      </button>\n",
              "    </div>\n",
              "\n",
              "<style>\n",
              "  .colab-df-quickchart {\n",
              "    background-color: #E8F0FE;\n",
              "    border: none;\n",
              "    border-radius: 50%;\n",
              "    cursor: pointer;\n",
              "    display: none;\n",
              "    fill: #1967D2;\n",
              "    height: 32px;\n",
              "    padding: 0 0 0 0;\n",
              "    width: 32px;\n",
              "  }\n",
              "\n",
              "  .colab-df-quickchart:hover {\n",
              "    background-color: #E2EBFA;\n",
              "    box-shadow: 0px 1px 2px rgba(60, 64, 67, 0.3), 0px 1px 3px 1px rgba(60, 64, 67, 0.15);\n",
              "    fill: #174EA6;\n",
              "  }\n",
              "\n",
              "  [theme=dark] .colab-df-quickchart {\n",
              "    background-color: #3B4455;\n",
              "    fill: #D2E3FC;\n",
              "  }\n",
              "\n",
              "  [theme=dark] .colab-df-quickchart:hover {\n",
              "    background-color: #434B5C;\n",
              "    box-shadow: 0px 1px 3px 1px rgba(0, 0, 0, 0.15);\n",
              "    filter: drop-shadow(0px 1px 2px rgba(0, 0, 0, 0.3));\n",
              "    fill: #FFFFFF;\n",
              "  }\n",
              "</style>\n",
              "\n",
              "    <script>\n",
              "      async function quickchart(key) {\n",
              "        const containerElement = document.querySelector('#' + key);\n",
              "        const charts = await google.colab.kernel.invokeFunction(\n",
              "            'suggestCharts', [key], {});\n",
              "      }\n",
              "    </script>\n",
              "\n",
              "      <script>\n",
              "\n",
              "function displayQuickchartButton(domScope) {\n",
              "  let quickchartButtonEl =\n",
              "    domScope.querySelector('#df-fd855307-1ccc-4b0e-b0e9-753eed446bef button.colab-df-quickchart');\n",
              "  quickchartButtonEl.style.display =\n",
              "    google.colab.kernel.accessAllowed ? 'block' : 'none';\n",
              "}\n",
              "\n",
              "        displayQuickchartButton(document);\n",
              "      </script>\n",
              "      <style>\n",
              "    .colab-df-container {\n",
              "      display:flex;\n",
              "      flex-wrap:wrap;\n",
              "      gap: 12px;\n",
              "    }\n",
              "\n",
              "    .colab-df-convert {\n",
              "      background-color: #E8F0FE;\n",
              "      border: none;\n",
              "      border-radius: 50%;\n",
              "      cursor: pointer;\n",
              "      display: none;\n",
              "      fill: #1967D2;\n",
              "      height: 32px;\n",
              "      padding: 0 0 0 0;\n",
              "      width: 32px;\n",
              "    }\n",
              "\n",
              "    .colab-df-convert:hover {\n",
              "      background-color: #E2EBFA;\n",
              "      box-shadow: 0px 1px 2px rgba(60, 64, 67, 0.3), 0px 1px 3px 1px rgba(60, 64, 67, 0.15);\n",
              "      fill: #174EA6;\n",
              "    }\n",
              "\n",
              "    [theme=dark] .colab-df-convert {\n",
              "      background-color: #3B4455;\n",
              "      fill: #D2E3FC;\n",
              "    }\n",
              "\n",
              "    [theme=dark] .colab-df-convert:hover {\n",
              "      background-color: #434B5C;\n",
              "      box-shadow: 0px 1px 3px 1px rgba(0, 0, 0, 0.15);\n",
              "      filter: drop-shadow(0px 1px 2px rgba(0, 0, 0, 0.3));\n",
              "      fill: #FFFFFF;\n",
              "    }\n",
              "  </style>\n",
              "\n",
              "      <script>\n",
              "        const buttonEl =\n",
              "          document.querySelector('#df-03b144d3-ed3b-4c40-8f2d-ae19ff847ff6 button.colab-df-convert');\n",
              "        buttonEl.style.display =\n",
              "          google.colab.kernel.accessAllowed ? 'block' : 'none';\n",
              "\n",
              "        async function convertToInteractive(key) {\n",
              "          const element = document.querySelector('#df-03b144d3-ed3b-4c40-8f2d-ae19ff847ff6');\n",
              "          const dataTable =\n",
              "            await google.colab.kernel.invokeFunction('convertToInteractive',\n",
              "                                                     [key], {});\n",
              "          if (!dataTable) return;\n",
              "\n",
              "          const docLinkHtml = 'Like what you see? Visit the ' +\n",
              "            '<a target=\"_blank\" href=https://colab.research.google.com/notebooks/data_table.ipynb>data table notebook</a>'\n",
              "            + ' to learn more about interactive tables.';\n",
              "          element.innerHTML = '';\n",
              "          dataTable['output_type'] = 'display_data';\n",
              "          await google.colab.output.renderOutput(dataTable, element);\n",
              "          const docLink = document.createElement('div');\n",
              "          docLink.innerHTML = docLinkHtml;\n",
              "          element.appendChild(docLink);\n",
              "        }\n",
              "      </script>\n",
              "    </div>\n",
              "  </div>\n"
            ]
          },
          "metadata": {},
          "execution_count": 3
        }
      ],
      "source": [
        "df.sample(5)"
      ]
    },
    {
      "cell_type": "code",
      "execution_count": 4,
      "id": "c7b46e44",
      "metadata": {
        "execution": {
          "iopub.execute_input": "2023-03-14T11:24:13.900321Z",
          "iopub.status.busy": "2023-03-14T11:24:13.900008Z",
          "iopub.status.idle": "2023-03-14T11:24:13.906374Z",
          "shell.execute_reply": "2023-03-14T11:24:13.905236Z"
        },
        "papermill": {
          "duration": 0.019992,
          "end_time": "2023-03-14T11:24:13.908667",
          "exception": false,
          "start_time": "2023-03-14T11:24:13.888675",
          "status": "completed"
        },
        "tags": [],
        "colab": {
          "base_uri": "https://localhost:8080/"
        },
        "id": "c7b46e44",
        "outputId": "33ff8846-943d-4b97-d0e5-1304f010e323"
      },
      "outputs": [
        {
          "output_type": "execute_result",
          "data": {
            "text/plain": [
              "(50000, 2)"
            ]
          },
          "metadata": {},
          "execution_count": 4
        }
      ],
      "source": [
        "df.shape"
      ]
    },
    {
      "cell_type": "code",
      "execution_count": 5,
      "id": "b8fbeea7",
      "metadata": {
        "execution": {
          "iopub.execute_input": "2023-03-14T11:24:13.930326Z",
          "iopub.status.busy": "2023-03-14T11:24:13.929946Z",
          "iopub.status.idle": "2023-03-14T11:24:14.020318Z",
          "shell.execute_reply": "2023-03-14T11:24:14.019244Z"
        },
        "papermill": {
          "duration": 0.103776,
          "end_time": "2023-03-14T11:24:14.022547",
          "exception": false,
          "start_time": "2023-03-14T11:24:13.918771",
          "status": "completed"
        },
        "tags": [],
        "colab": {
          "base_uri": "https://localhost:8080/",
          "height": 340
        },
        "id": "b8fbeea7",
        "outputId": "a336384b-3081-4a4d-846f-b5f6809ccc30"
      },
      "outputs": [
        {
          "output_type": "execute_result",
          "data": {
            "text/plain": [
              "                                                                                                                                                                                                                                                                                                                                                                                                                                                                                                                                                                                                                                                                                                                                                                                                                          review  \\\n",
              "count                                                                                                                                                                                                                                                                                                                                                                                                                                                                                                                                                                                                                                                                                                                                                                                                                      50000   \n",
              "unique                                                                                                                                                                                                                                                                                                                                                                                                                                                                                                                                                                                                                                                                                                                                                                                                                     49582   \n",
              "top     Loved today's show!!! It was a variety and not solely cooking (which would have been great too). Very stimulating and captivating, always keeping the viewer peeking around the corner to see what was coming up next. She is as down to earth and as personable as you get, like one of us which made the show all the more enjoyable. Special guests, who are friends as well made for a nice surprise too. Loved the 'first' theme and that the audience was invited to play along too. I must admit I was shocked to see her come in under her time limits on a few things, but she did it and by golly I'll be writing those recipes down. Saving time in the kitchen means more time with family. Those who haven't tuned in yet, find out what channel and the time, I assure you that you won't be disappointed.   \n",
              "freq                                                                                                                                                                                                                                                                                                                                                                                                                                                                                                                                                                                                                                                                                                                                                                                                                           5   \n",
              "\n",
              "       sentiment  \n",
              "count      50000  \n",
              "unique         2  \n",
              "top     positive  \n",
              "freq       25000  "
            ],
            "text/html": [
              "\n",
              "\n",
              "  <div id=\"df-e2ae3e7d-064b-47bd-be62-389e7c7ae74a\">\n",
              "    <div class=\"colab-df-container\">\n",
              "      <div>\n",
              "<style scoped>\n",
              "    .dataframe tbody tr th:only-of-type {\n",
              "        vertical-align: middle;\n",
              "    }\n",
              "\n",
              "    .dataframe tbody tr th {\n",
              "        vertical-align: top;\n",
              "    }\n",
              "\n",
              "    .dataframe thead th {\n",
              "        text-align: right;\n",
              "    }\n",
              "</style>\n",
              "<table border=\"1\" class=\"dataframe\">\n",
              "  <thead>\n",
              "    <tr style=\"text-align: right;\">\n",
              "      <th></th>\n",
              "      <th>review</th>\n",
              "      <th>sentiment</th>\n",
              "    </tr>\n",
              "  </thead>\n",
              "  <tbody>\n",
              "    <tr>\n",
              "      <th>count</th>\n",
              "      <td>50000</td>\n",
              "      <td>50000</td>\n",
              "    </tr>\n",
              "    <tr>\n",
              "      <th>unique</th>\n",
              "      <td>49582</td>\n",
              "      <td>2</td>\n",
              "    </tr>\n",
              "    <tr>\n",
              "      <th>top</th>\n",
              "      <td>Loved today's show!!! It was a variety and not solely cooking (which would have been great too). Very stimulating and captivating, always keeping the viewer peeking around the corner to see what was coming up next. She is as down to earth and as personable as you get, like one of us which made the show all the more enjoyable. Special guests, who are friends as well made for a nice surprise too. Loved the 'first' theme and that the audience was invited to play along too. I must admit I was shocked to see her come in under her time limits on a few things, but she did it and by golly I'll be writing those recipes down. Saving time in the kitchen means more time with family. Those who haven't tuned in yet, find out what channel and the time, I assure you that you won't be disappointed.</td>\n",
              "      <td>positive</td>\n",
              "    </tr>\n",
              "    <tr>\n",
              "      <th>freq</th>\n",
              "      <td>5</td>\n",
              "      <td>25000</td>\n",
              "    </tr>\n",
              "  </tbody>\n",
              "</table>\n",
              "</div>\n",
              "      <button class=\"colab-df-convert\" onclick=\"convertToInteractive('df-e2ae3e7d-064b-47bd-be62-389e7c7ae74a')\"\n",
              "              title=\"Convert this dataframe to an interactive table.\"\n",
              "              style=\"display:none;\">\n",
              "\n",
              "  <svg xmlns=\"http://www.w3.org/2000/svg\" height=\"24px\"viewBox=\"0 0 24 24\"\n",
              "       width=\"24px\">\n",
              "    <path d=\"M0 0h24v24H0V0z\" fill=\"none\"/>\n",
              "    <path d=\"M18.56 5.44l.94 2.06.94-2.06 2.06-.94-2.06-.94-.94-2.06-.94 2.06-2.06.94zm-11 1L8.5 8.5l.94-2.06 2.06-.94-2.06-.94L8.5 2.5l-.94 2.06-2.06.94zm10 10l.94 2.06.94-2.06 2.06-.94-2.06-.94-.94-2.06-.94 2.06-2.06.94z\"/><path d=\"M17.41 7.96l-1.37-1.37c-.4-.4-.92-.59-1.43-.59-.52 0-1.04.2-1.43.59L10.3 9.45l-7.72 7.72c-.78.78-.78 2.05 0 2.83L4 21.41c.39.39.9.59 1.41.59.51 0 1.02-.2 1.41-.59l7.78-7.78 2.81-2.81c.8-.78.8-2.07 0-2.86zM5.41 20L4 18.59l7.72-7.72 1.47 1.35L5.41 20z\"/>\n",
              "  </svg>\n",
              "      </button>\n",
              "\n",
              "\n",
              "\n",
              "    <div id=\"df-42b16e5f-83c6-45ca-bfde-aad0a53a3eb4\">\n",
              "      <button class=\"colab-df-quickchart\" onclick=\"quickchart('df-42b16e5f-83c6-45ca-bfde-aad0a53a3eb4')\"\n",
              "              title=\"Suggest charts.\"\n",
              "              style=\"display:none;\">\n",
              "\n",
              "<svg xmlns=\"http://www.w3.org/2000/svg\" height=\"24px\"viewBox=\"0 0 24 24\"\n",
              "     width=\"24px\">\n",
              "    <g>\n",
              "        <path d=\"M19 3H5c-1.1 0-2 .9-2 2v14c0 1.1.9 2 2 2h14c1.1 0 2-.9 2-2V5c0-1.1-.9-2-2-2zM9 17H7v-7h2v7zm4 0h-2V7h2v10zm4 0h-2v-4h2v4z\"/>\n",
              "    </g>\n",
              "</svg>\n",
              "      </button>\n",
              "    </div>\n",
              "\n",
              "<style>\n",
              "  .colab-df-quickchart {\n",
              "    background-color: #E8F0FE;\n",
              "    border: none;\n",
              "    border-radius: 50%;\n",
              "    cursor: pointer;\n",
              "    display: none;\n",
              "    fill: #1967D2;\n",
              "    height: 32px;\n",
              "    padding: 0 0 0 0;\n",
              "    width: 32px;\n",
              "  }\n",
              "\n",
              "  .colab-df-quickchart:hover {\n",
              "    background-color: #E2EBFA;\n",
              "    box-shadow: 0px 1px 2px rgba(60, 64, 67, 0.3), 0px 1px 3px 1px rgba(60, 64, 67, 0.15);\n",
              "    fill: #174EA6;\n",
              "  }\n",
              "\n",
              "  [theme=dark] .colab-df-quickchart {\n",
              "    background-color: #3B4455;\n",
              "    fill: #D2E3FC;\n",
              "  }\n",
              "\n",
              "  [theme=dark] .colab-df-quickchart:hover {\n",
              "    background-color: #434B5C;\n",
              "    box-shadow: 0px 1px 3px 1px rgba(0, 0, 0, 0.15);\n",
              "    filter: drop-shadow(0px 1px 2px rgba(0, 0, 0, 0.3));\n",
              "    fill: #FFFFFF;\n",
              "  }\n",
              "</style>\n",
              "\n",
              "    <script>\n",
              "      async function quickchart(key) {\n",
              "        const containerElement = document.querySelector('#' + key);\n",
              "        const charts = await google.colab.kernel.invokeFunction(\n",
              "            'suggestCharts', [key], {});\n",
              "      }\n",
              "    </script>\n",
              "\n",
              "      <script>\n",
              "\n",
              "function displayQuickchartButton(domScope) {\n",
              "  let quickchartButtonEl =\n",
              "    domScope.querySelector('#df-42b16e5f-83c6-45ca-bfde-aad0a53a3eb4 button.colab-df-quickchart');\n",
              "  quickchartButtonEl.style.display =\n",
              "    google.colab.kernel.accessAllowed ? 'block' : 'none';\n",
              "}\n",
              "\n",
              "        displayQuickchartButton(document);\n",
              "      </script>\n",
              "      <style>\n",
              "    .colab-df-container {\n",
              "      display:flex;\n",
              "      flex-wrap:wrap;\n",
              "      gap: 12px;\n",
              "    }\n",
              "\n",
              "    .colab-df-convert {\n",
              "      background-color: #E8F0FE;\n",
              "      border: none;\n",
              "      border-radius: 50%;\n",
              "      cursor: pointer;\n",
              "      display: none;\n",
              "      fill: #1967D2;\n",
              "      height: 32px;\n",
              "      padding: 0 0 0 0;\n",
              "      width: 32px;\n",
              "    }\n",
              "\n",
              "    .colab-df-convert:hover {\n",
              "      background-color: #E2EBFA;\n",
              "      box-shadow: 0px 1px 2px rgba(60, 64, 67, 0.3), 0px 1px 3px 1px rgba(60, 64, 67, 0.15);\n",
              "      fill: #174EA6;\n",
              "    }\n",
              "\n",
              "    [theme=dark] .colab-df-convert {\n",
              "      background-color: #3B4455;\n",
              "      fill: #D2E3FC;\n",
              "    }\n",
              "\n",
              "    [theme=dark] .colab-df-convert:hover {\n",
              "      background-color: #434B5C;\n",
              "      box-shadow: 0px 1px 3px 1px rgba(0, 0, 0, 0.15);\n",
              "      filter: drop-shadow(0px 1px 2px rgba(0, 0, 0, 0.3));\n",
              "      fill: #FFFFFF;\n",
              "    }\n",
              "  </style>\n",
              "\n",
              "      <script>\n",
              "        const buttonEl =\n",
              "          document.querySelector('#df-e2ae3e7d-064b-47bd-be62-389e7c7ae74a button.colab-df-convert');\n",
              "        buttonEl.style.display =\n",
              "          google.colab.kernel.accessAllowed ? 'block' : 'none';\n",
              "\n",
              "        async function convertToInteractive(key) {\n",
              "          const element = document.querySelector('#df-e2ae3e7d-064b-47bd-be62-389e7c7ae74a');\n",
              "          const dataTable =\n",
              "            await google.colab.kernel.invokeFunction('convertToInteractive',\n",
              "                                                     [key], {});\n",
              "          if (!dataTable) return;\n",
              "\n",
              "          const docLinkHtml = 'Like what you see? Visit the ' +\n",
              "            '<a target=\"_blank\" href=https://colab.research.google.com/notebooks/data_table.ipynb>data table notebook</a>'\n",
              "            + ' to learn more about interactive tables.';\n",
              "          element.innerHTML = '';\n",
              "          dataTable['output_type'] = 'display_data';\n",
              "          await google.colab.output.renderOutput(dataTable, element);\n",
              "          const docLink = document.createElement('div');\n",
              "          docLink.innerHTML = docLinkHtml;\n",
              "          element.appendChild(docLink);\n",
              "        }\n",
              "      </script>\n",
              "    </div>\n",
              "  </div>\n"
            ]
          },
          "metadata": {},
          "execution_count": 5
        }
      ],
      "source": [
        "df.describe()"
      ]
    },
    {
      "cell_type": "code",
      "execution_count": 6,
      "id": "b8cbe8b9",
      "metadata": {
        "execution": {
          "iopub.execute_input": "2023-03-14T11:24:14.045821Z",
          "iopub.status.busy": "2023-03-14T11:24:14.044872Z",
          "iopub.status.idle": "2023-03-14T11:24:14.054849Z",
          "shell.execute_reply": "2023-03-14T11:24:14.053765Z"
        },
        "papermill": {
          "duration": 0.02433,
          "end_time": "2023-03-14T11:24:14.057644",
          "exception": false,
          "start_time": "2023-03-14T11:24:14.033314",
          "status": "completed"
        },
        "tags": [],
        "colab": {
          "base_uri": "https://localhost:8080/"
        },
        "id": "b8cbe8b9",
        "outputId": "5fc3087c-ce03-4682-b16c-40b651bcb592"
      },
      "outputs": [
        {
          "output_type": "execute_result",
          "data": {
            "text/plain": [
              "positive    25000\n",
              "negative    25000\n",
              "Name: sentiment, dtype: int64"
            ]
          },
          "metadata": {},
          "execution_count": 6
        }
      ],
      "source": [
        "df['sentiment'].value_counts()"
      ]
    },
    {
      "cell_type": "code",
      "execution_count": 7,
      "id": "fb110356",
      "metadata": {
        "execution": {
          "iopub.execute_input": "2023-03-14T11:24:14.081073Z",
          "iopub.status.busy": "2023-03-14T11:24:14.080138Z",
          "iopub.status.idle": "2023-03-14T11:24:14.124214Z",
          "shell.execute_reply": "2023-03-14T11:24:14.123059Z"
        },
        "papermill": {
          "duration": 0.058935,
          "end_time": "2023-03-14T11:24:14.127225",
          "exception": false,
          "start_time": "2023-03-14T11:24:14.068290",
          "status": "completed"
        },
        "tags": [],
        "colab": {
          "base_uri": "https://localhost:8080/",
          "height": 340
        },
        "id": "fb110356",
        "outputId": "077c777e-ef25-4da4-8637-f0021288febe"
      },
      "outputs": [
        {
          "output_type": "execute_result",
          "data": {
            "text/plain": [
              "                                                                                                                                                                                                                                                                                                                                                                                                                                                                                                                                                                                                                                                                                                                                                                                                                          review  \\\n",
              "count                                                                                                                                                                                                                                                                                                                                                                                                                                                                                                                                                                                                                                                                                                                                                                                                                      50000   \n",
              "unique                                                                                                                                                                                                                                                                                                                                                                                                                                                                                                                                                                                                                                                                                                                                                                                                                     49582   \n",
              "top     Loved today's show!!! It was a variety and not solely cooking (which would have been great too). Very stimulating and captivating, always keeping the viewer peeking around the corner to see what was coming up next. She is as down to earth and as personable as you get, like one of us which made the show all the more enjoyable. Special guests, who are friends as well made for a nice surprise too. Loved the 'first' theme and that the audience was invited to play along too. I must admit I was shocked to see her come in under her time limits on a few things, but she did it and by golly I'll be writing those recipes down. Saving time in the kitchen means more time with family. Those who haven't tuned in yet, find out what channel and the time, I assure you that you won't be disappointed.   \n",
              "freq                                                                                                                                                                                                                                                                                                                                                                                                                                                                                                                                                                                                                                                                                                                                                                                                                           5   \n",
              "\n",
              "       sentiment  \n",
              "count      50000  \n",
              "unique         2  \n",
              "top     positive  \n",
              "freq       25000  "
            ],
            "text/html": [
              "\n",
              "\n",
              "  <div id=\"df-84409bd9-63e0-48f3-be17-fb519b291f1d\">\n",
              "    <div class=\"colab-df-container\">\n",
              "      <div>\n",
              "<style scoped>\n",
              "    .dataframe tbody tr th:only-of-type {\n",
              "        vertical-align: middle;\n",
              "    }\n",
              "\n",
              "    .dataframe tbody tr th {\n",
              "        vertical-align: top;\n",
              "    }\n",
              "\n",
              "    .dataframe thead th {\n",
              "        text-align: right;\n",
              "    }\n",
              "</style>\n",
              "<table border=\"1\" class=\"dataframe\">\n",
              "  <thead>\n",
              "    <tr style=\"text-align: right;\">\n",
              "      <th></th>\n",
              "      <th>review</th>\n",
              "      <th>sentiment</th>\n",
              "    </tr>\n",
              "  </thead>\n",
              "  <tbody>\n",
              "    <tr>\n",
              "      <th>count</th>\n",
              "      <td>50000</td>\n",
              "      <td>50000</td>\n",
              "    </tr>\n",
              "    <tr>\n",
              "      <th>unique</th>\n",
              "      <td>49582</td>\n",
              "      <td>2</td>\n",
              "    </tr>\n",
              "    <tr>\n",
              "      <th>top</th>\n",
              "      <td>Loved today's show!!! It was a variety and not solely cooking (which would have been great too). Very stimulating and captivating, always keeping the viewer peeking around the corner to see what was coming up next. She is as down to earth and as personable as you get, like one of us which made the show all the more enjoyable. Special guests, who are friends as well made for a nice surprise too. Loved the 'first' theme and that the audience was invited to play along too. I must admit I was shocked to see her come in under her time limits on a few things, but she did it and by golly I'll be writing those recipes down. Saving time in the kitchen means more time with family. Those who haven't tuned in yet, find out what channel and the time, I assure you that you won't be disappointed.</td>\n",
              "      <td>positive</td>\n",
              "    </tr>\n",
              "    <tr>\n",
              "      <th>freq</th>\n",
              "      <td>5</td>\n",
              "      <td>25000</td>\n",
              "    </tr>\n",
              "  </tbody>\n",
              "</table>\n",
              "</div>\n",
              "      <button class=\"colab-df-convert\" onclick=\"convertToInteractive('df-84409bd9-63e0-48f3-be17-fb519b291f1d')\"\n",
              "              title=\"Convert this dataframe to an interactive table.\"\n",
              "              style=\"display:none;\">\n",
              "\n",
              "  <svg xmlns=\"http://www.w3.org/2000/svg\" height=\"24px\"viewBox=\"0 0 24 24\"\n",
              "       width=\"24px\">\n",
              "    <path d=\"M0 0h24v24H0V0z\" fill=\"none\"/>\n",
              "    <path d=\"M18.56 5.44l.94 2.06.94-2.06 2.06-.94-2.06-.94-.94-2.06-.94 2.06-2.06.94zm-11 1L8.5 8.5l.94-2.06 2.06-.94-2.06-.94L8.5 2.5l-.94 2.06-2.06.94zm10 10l.94 2.06.94-2.06 2.06-.94-2.06-.94-.94-2.06-.94 2.06-2.06.94z\"/><path d=\"M17.41 7.96l-1.37-1.37c-.4-.4-.92-.59-1.43-.59-.52 0-1.04.2-1.43.59L10.3 9.45l-7.72 7.72c-.78.78-.78 2.05 0 2.83L4 21.41c.39.39.9.59 1.41.59.51 0 1.02-.2 1.41-.59l7.78-7.78 2.81-2.81c.8-.78.8-2.07 0-2.86zM5.41 20L4 18.59l7.72-7.72 1.47 1.35L5.41 20z\"/>\n",
              "  </svg>\n",
              "      </button>\n",
              "\n",
              "\n",
              "\n",
              "    <div id=\"df-956c0a95-c314-4a4c-a592-2573ad7abaae\">\n",
              "      <button class=\"colab-df-quickchart\" onclick=\"quickchart('df-956c0a95-c314-4a4c-a592-2573ad7abaae')\"\n",
              "              title=\"Suggest charts.\"\n",
              "              style=\"display:none;\">\n",
              "\n",
              "<svg xmlns=\"http://www.w3.org/2000/svg\" height=\"24px\"viewBox=\"0 0 24 24\"\n",
              "     width=\"24px\">\n",
              "    <g>\n",
              "        <path d=\"M19 3H5c-1.1 0-2 .9-2 2v14c0 1.1.9 2 2 2h14c1.1 0 2-.9 2-2V5c0-1.1-.9-2-2-2zM9 17H7v-7h2v7zm4 0h-2V7h2v10zm4 0h-2v-4h2v4z\"/>\n",
              "    </g>\n",
              "</svg>\n",
              "      </button>\n",
              "    </div>\n",
              "\n",
              "<style>\n",
              "  .colab-df-quickchart {\n",
              "    background-color: #E8F0FE;\n",
              "    border: none;\n",
              "    border-radius: 50%;\n",
              "    cursor: pointer;\n",
              "    display: none;\n",
              "    fill: #1967D2;\n",
              "    height: 32px;\n",
              "    padding: 0 0 0 0;\n",
              "    width: 32px;\n",
              "  }\n",
              "\n",
              "  .colab-df-quickchart:hover {\n",
              "    background-color: #E2EBFA;\n",
              "    box-shadow: 0px 1px 2px rgba(60, 64, 67, 0.3), 0px 1px 3px 1px rgba(60, 64, 67, 0.15);\n",
              "    fill: #174EA6;\n",
              "  }\n",
              "\n",
              "  [theme=dark] .colab-df-quickchart {\n",
              "    background-color: #3B4455;\n",
              "    fill: #D2E3FC;\n",
              "  }\n",
              "\n",
              "  [theme=dark] .colab-df-quickchart:hover {\n",
              "    background-color: #434B5C;\n",
              "    box-shadow: 0px 1px 3px 1px rgba(0, 0, 0, 0.15);\n",
              "    filter: drop-shadow(0px 1px 2px rgba(0, 0, 0, 0.3));\n",
              "    fill: #FFFFFF;\n",
              "  }\n",
              "</style>\n",
              "\n",
              "    <script>\n",
              "      async function quickchart(key) {\n",
              "        const containerElement = document.querySelector('#' + key);\n",
              "        const charts = await google.colab.kernel.invokeFunction(\n",
              "            'suggestCharts', [key], {});\n",
              "      }\n",
              "    </script>\n",
              "\n",
              "      <script>\n",
              "\n",
              "function displayQuickchartButton(domScope) {\n",
              "  let quickchartButtonEl =\n",
              "    domScope.querySelector('#df-956c0a95-c314-4a4c-a592-2573ad7abaae button.colab-df-quickchart');\n",
              "  quickchartButtonEl.style.display =\n",
              "    google.colab.kernel.accessAllowed ? 'block' : 'none';\n",
              "}\n",
              "\n",
              "        displayQuickchartButton(document);\n",
              "      </script>\n",
              "      <style>\n",
              "    .colab-df-container {\n",
              "      display:flex;\n",
              "      flex-wrap:wrap;\n",
              "      gap: 12px;\n",
              "    }\n",
              "\n",
              "    .colab-df-convert {\n",
              "      background-color: #E8F0FE;\n",
              "      border: none;\n",
              "      border-radius: 50%;\n",
              "      cursor: pointer;\n",
              "      display: none;\n",
              "      fill: #1967D2;\n",
              "      height: 32px;\n",
              "      padding: 0 0 0 0;\n",
              "      width: 32px;\n",
              "    }\n",
              "\n",
              "    .colab-df-convert:hover {\n",
              "      background-color: #E2EBFA;\n",
              "      box-shadow: 0px 1px 2px rgba(60, 64, 67, 0.3), 0px 1px 3px 1px rgba(60, 64, 67, 0.15);\n",
              "      fill: #174EA6;\n",
              "    }\n",
              "\n",
              "    [theme=dark] .colab-df-convert {\n",
              "      background-color: #3B4455;\n",
              "      fill: #D2E3FC;\n",
              "    }\n",
              "\n",
              "    [theme=dark] .colab-df-convert:hover {\n",
              "      background-color: #434B5C;\n",
              "      box-shadow: 0px 1px 3px 1px rgba(0, 0, 0, 0.15);\n",
              "      filter: drop-shadow(0px 1px 2px rgba(0, 0, 0, 0.3));\n",
              "      fill: #FFFFFF;\n",
              "    }\n",
              "  </style>\n",
              "\n",
              "      <script>\n",
              "        const buttonEl =\n",
              "          document.querySelector('#df-84409bd9-63e0-48f3-be17-fb519b291f1d button.colab-df-convert');\n",
              "        buttonEl.style.display =\n",
              "          google.colab.kernel.accessAllowed ? 'block' : 'none';\n",
              "\n",
              "        async function convertToInteractive(key) {\n",
              "          const element = document.querySelector('#df-84409bd9-63e0-48f3-be17-fb519b291f1d');\n",
              "          const dataTable =\n",
              "            await google.colab.kernel.invokeFunction('convertToInteractive',\n",
              "                                                     [key], {});\n",
              "          if (!dataTable) return;\n",
              "\n",
              "          const docLinkHtml = 'Like what you see? Visit the ' +\n",
              "            '<a target=\"_blank\" href=https://colab.research.google.com/notebooks/data_table.ipynb>data table notebook</a>'\n",
              "            + ' to learn more about interactive tables.';\n",
              "          element.innerHTML = '';\n",
              "          dataTable['output_type'] = 'display_data';\n",
              "          await google.colab.output.renderOutput(dataTable, element);\n",
              "          const docLink = document.createElement('div');\n",
              "          docLink.innerHTML = docLinkHtml;\n",
              "          element.appendChild(docLink);\n",
              "        }\n",
              "      </script>\n",
              "    </div>\n",
              "  </div>\n"
            ]
          },
          "metadata": {},
          "execution_count": 7
        }
      ],
      "source": [
        "df.describe()"
      ]
    },
    {
      "cell_type": "markdown",
      "id": "a2ee2240",
      "metadata": {
        "papermill": {
          "duration": 0.010517,
          "end_time": "2023-03-14T11:24:14.148751",
          "exception": false,
          "start_time": "2023-03-14T11:24:14.138234",
          "status": "completed"
        },
        "tags": [],
        "id": "a2ee2240"
      },
      "source": [
        "Checking for duplicates"
      ]
    },
    {
      "cell_type": "code",
      "execution_count": 8,
      "id": "14597fa5",
      "metadata": {
        "execution": {
          "iopub.execute_input": "2023-03-14T11:24:14.172271Z",
          "iopub.status.busy": "2023-03-14T11:24:14.171943Z",
          "iopub.status.idle": "2023-03-14T11:24:14.349761Z",
          "shell.execute_reply": "2023-03-14T11:24:14.348597Z"
        },
        "papermill": {
          "duration": 0.193368,
          "end_time": "2023-03-14T11:24:14.353141",
          "exception": false,
          "start_time": "2023-03-14T11:24:14.159773",
          "status": "completed"
        },
        "tags": [],
        "colab": {
          "base_uri": "https://localhost:8080/"
        },
        "id": "14597fa5",
        "outputId": "984a573e-3eef-4f9a-dfaf-2df7bbef4dd5"
      },
      "outputs": [
        {
          "output_type": "stream",
          "name": "stdout",
          "text": [
            "Number of Duplicates in the Data: 418\n",
            "Number of Nulls in the Data: \n",
            " review       0\n",
            "sentiment    0\n",
            "dtype: int64\n"
          ]
        }
      ],
      "source": [
        "print(f\"Number of Duplicates in the Data: {df.duplicated().sum()}\")\n",
        "print(f\"Number of Nulls in the Data: \\n {df.isnull().sum()}\")"
      ]
    },
    {
      "cell_type": "markdown",
      "id": "0f9ec982",
      "metadata": {
        "papermill": {
          "duration": 0.010828,
          "end_time": "2023-03-14T11:24:14.376133",
          "exception": false,
          "start_time": "2023-03-14T11:24:14.365305",
          "status": "completed"
        },
        "tags": [],
        "id": "0f9ec982"
      },
      "source": [
        "## Preprocessing\n",
        "---"
      ]
    },
    {
      "cell_type": "code",
      "execution_count": 9,
      "id": "3f3e7f0d",
      "metadata": {
        "execution": {
          "iopub.execute_input": "2023-03-14T11:24:14.400751Z",
          "iopub.status.busy": "2023-03-14T11:24:14.399710Z",
          "iopub.status.idle": "2023-03-14T11:24:14.405074Z",
          "shell.execute_reply": "2023-03-14T11:24:14.404123Z"
        },
        "papermill": {
          "duration": 0.019602,
          "end_time": "2023-03-14T11:24:14.407435",
          "exception": false,
          "start_time": "2023-03-14T11:24:14.387833",
          "status": "completed"
        },
        "tags": [],
        "id": "3f3e7f0d"
      },
      "outputs": [],
      "source": [
        "X = df['review']\n",
        "y = df['sentiment']"
      ]
    },
    {
      "cell_type": "markdown",
      "id": "ee48891f",
      "metadata": {
        "papermill": {
          "duration": 0.010841,
          "end_time": "2023-03-14T11:24:14.428979",
          "exception": false,
          "start_time": "2023-03-14T11:24:14.418138",
          "status": "completed"
        },
        "tags": [],
        "id": "ee48891f"
      },
      "source": [
        "Label Encoding the output labels\n"
      ]
    },
    {
      "cell_type": "code",
      "execution_count": 10,
      "id": "8032c2e8",
      "metadata": {
        "execution": {
          "iopub.execute_input": "2023-03-14T11:24:14.453430Z",
          "iopub.status.busy": "2023-03-14T11:24:14.452471Z",
          "iopub.status.idle": "2023-03-14T11:24:14.659490Z",
          "shell.execute_reply": "2023-03-14T11:24:14.658370Z"
        },
        "papermill": {
          "duration": 0.224309,
          "end_time": "2023-03-14T11:24:14.663948",
          "exception": false,
          "start_time": "2023-03-14T11:24:14.439639",
          "status": "completed"
        },
        "tags": [],
        "id": "8032c2e8"
      },
      "outputs": [],
      "source": [
        "from sklearn.preprocessing import LabelEncoder\n",
        "le = LabelEncoder()\n",
        "y = le.fit_transform(y)"
      ]
    },
    {
      "cell_type": "code",
      "execution_count": 11,
      "id": "a44fdb17",
      "metadata": {
        "execution": {
          "iopub.execute_input": "2023-03-14T11:24:14.702057Z",
          "iopub.status.busy": "2023-03-14T11:24:14.701342Z",
          "iopub.status.idle": "2023-03-14T11:24:14.709082Z",
          "shell.execute_reply": "2023-03-14T11:24:14.708187Z"
        },
        "papermill": {
          "duration": 0.031972,
          "end_time": "2023-03-14T11:24:14.714994",
          "exception": false,
          "start_time": "2023-03-14T11:24:14.683022",
          "status": "completed"
        },
        "tags": [],
        "colab": {
          "base_uri": "https://localhost:8080/"
        },
        "id": "a44fdb17",
        "outputId": "1e678740-e47c-47dd-e40b-537d97c39cb6"
      },
      "outputs": [
        {
          "output_type": "execute_result",
          "data": {
            "text/plain": [
              "array([1, 1, 1, ..., 0, 0, 0])"
            ]
          },
          "metadata": {},
          "execution_count": 11
        }
      ],
      "source": [
        "y"
      ]
    },
    {
      "cell_type": "code",
      "execution_count": 12,
      "id": "adba606c",
      "metadata": {
        "execution": {
          "iopub.execute_input": "2023-03-14T11:24:14.749022Z",
          "iopub.status.busy": "2023-03-14T11:24:14.748202Z",
          "iopub.status.idle": "2023-03-14T11:24:14.759045Z",
          "shell.execute_reply": "2023-03-14T11:24:14.758128Z"
        },
        "papermill": {
          "duration": 0.030626,
          "end_time": "2023-03-14T11:24:14.761949",
          "exception": false,
          "start_time": "2023-03-14T11:24:14.731323",
          "status": "completed"
        },
        "tags": [],
        "colab": {
          "base_uri": "https://localhost:8080/"
        },
        "id": "adba606c",
        "outputId": "4a54b6be-8ea8-4dbc-e923-70fdafff9e64"
      },
      "outputs": [
        {
          "output_type": "execute_result",
          "data": {
            "text/plain": [
              "array(['negative', 'positive'], dtype=object)"
            ]
          },
          "metadata": {},
          "execution_count": 12
        }
      ],
      "source": [
        "le.classes_ # [0, 1]"
      ]
    },
    {
      "cell_type": "markdown",
      "id": "67622cd1",
      "metadata": {
        "papermill": {
          "duration": 0.01593,
          "end_time": "2023-03-14T11:24:14.794393",
          "exception": false,
          "start_time": "2023-03-14T11:24:14.778463",
          "status": "completed"
        },
        "tags": [],
        "id": "67622cd1"
      },
      "source": [
        "## Train Test Split\n",
        "---"
      ]
    },
    {
      "cell_type": "code",
      "execution_count": 13,
      "id": "05498cf9",
      "metadata": {
        "execution": {
          "iopub.execute_input": "2023-03-14T11:24:14.828585Z",
          "iopub.status.busy": "2023-03-14T11:24:14.827999Z",
          "iopub.status.idle": "2023-03-14T11:24:14.919609Z",
          "shell.execute_reply": "2023-03-14T11:24:14.918508Z"
        },
        "papermill": {
          "duration": 0.11194,
          "end_time": "2023-03-14T11:24:14.922867",
          "exception": false,
          "start_time": "2023-03-14T11:24:14.810927",
          "status": "completed"
        },
        "tags": [],
        "id": "05498cf9"
      },
      "outputs": [],
      "source": [
        "from sklearn.model_selection import train_test_split\n",
        "X_train, X_test, y_train, y_test = train_test_split(X, y, test_size = 0.2)"
      ]
    },
    {
      "cell_type": "code",
      "execution_count": 14,
      "id": "65ea7d25",
      "metadata": {
        "execution": {
          "iopub.execute_input": "2023-03-14T11:24:14.962797Z",
          "iopub.status.busy": "2023-03-14T11:24:14.962395Z",
          "iopub.status.idle": "2023-03-14T11:24:14.967886Z",
          "shell.execute_reply": "2023-03-14T11:24:14.966929Z"
        },
        "papermill": {
          "duration": 0.029833,
          "end_time": "2023-03-14T11:24:14.972417",
          "exception": false,
          "start_time": "2023-03-14T11:24:14.942584",
          "status": "completed"
        },
        "tags": [],
        "id": "65ea7d25"
      },
      "outputs": [],
      "source": [
        "y_train = y_train.astype('float32').reshape((-1, 1))\n",
        "y_test = y_test.astype('float32').reshape((-1, 1))"
      ]
    },
    {
      "cell_type": "code",
      "execution_count": 15,
      "id": "304fe88a",
      "metadata": {
        "execution": {
          "iopub.execute_input": "2023-03-14T11:24:15.005242Z",
          "iopub.status.busy": "2023-03-14T11:24:15.004871Z",
          "iopub.status.idle": "2023-03-14T11:24:15.010733Z",
          "shell.execute_reply": "2023-03-14T11:24:15.009672Z"
        },
        "papermill": {
          "duration": 0.027968,
          "end_time": "2023-03-14T11:24:15.016332",
          "exception": false,
          "start_time": "2023-03-14T11:24:14.988364",
          "status": "completed"
        },
        "tags": [],
        "colab": {
          "base_uri": "https://localhost:8080/"
        },
        "id": "304fe88a",
        "outputId": "8e6bb974-fa9b-4c05-e24e-5d5ef21c1b41"
      },
      "outputs": [
        {
          "output_type": "stream",
          "name": "stdout",
          "text": [
            "(40000,) (10000,)\n",
            "(40000, 1) (10000, 1)\n"
          ]
        }
      ],
      "source": [
        "print(X_train.shape, X_test.shape)\n",
        "print(y_train.shape, y_test.shape)"
      ]
    },
    {
      "cell_type": "markdown",
      "id": "8161b64a",
      "metadata": {
        "papermill": {
          "duration": 0.015501,
          "end_time": "2023-03-14T11:24:15.047641",
          "exception": false,
          "start_time": "2023-03-14T11:24:15.032140",
          "status": "completed"
        },
        "tags": [],
        "id": "8161b64a"
      },
      "source": [
        "## Model Building\n",
        "---"
      ]
    },
    {
      "cell_type": "code",
      "execution_count": 16,
      "id": "8bd60041",
      "metadata": {
        "execution": {
          "iopub.execute_input": "2023-03-14T11:24:15.091395Z",
          "iopub.status.busy": "2023-03-14T11:24:15.090900Z",
          "iopub.status.idle": "2023-03-14T11:24:15.101506Z",
          "shell.execute_reply": "2023-03-14T11:24:15.100574Z"
        },
        "papermill": {
          "duration": 0.035671,
          "end_time": "2023-03-14T11:24:15.104270",
          "exception": false,
          "start_time": "2023-03-14T11:24:15.068599",
          "status": "completed"
        },
        "tags": [],
        "id": "8bd60041"
      },
      "outputs": [],
      "source": [
        "from tensorflow.keras.layers import TextVectorization\n",
        "from tensorflow.keras.layers import Conv1D, Flatten, MaxPooling1D, Dense, LSTM, Embedding, Input\n",
        "from tensorflow.keras.models import Sequential\n",
        "from tensorflow.keras.regularizers import l2\n",
        "\n",
        "# max_features = 30000 # Number of words in our vocabulary\n",
        "max_len = 512 # length of the output vectors"
      ]
    },
    {
      "cell_type": "code",
      "execution_count": 17,
      "id": "cf6f91ee",
      "metadata": {
        "execution": {
          "iopub.execute_input": "2023-03-14T11:24:15.138569Z",
          "iopub.status.busy": "2023-03-14T11:24:15.138244Z",
          "iopub.status.idle": "2023-03-14T11:24:18.835202Z",
          "shell.execute_reply": "2023-03-14T11:24:18.834125Z"
        },
        "papermill": {
          "duration": 3.717296,
          "end_time": "2023-03-14T11:24:18.838098",
          "exception": false,
          "start_time": "2023-03-14T11:24:15.120802",
          "status": "completed"
        },
        "tags": [],
        "id": "cf6f91ee"
      },
      "outputs": [],
      "source": [
        "vectorize_layer = TextVectorization(output_mode = 'int', output_sequence_length = max_len)"
      ]
    },
    {
      "cell_type": "markdown",
      "id": "11d4caf0",
      "metadata": {
        "papermill": {
          "duration": 0.010807,
          "end_time": "2023-03-14T11:24:18.860414",
          "exception": false,
          "start_time": "2023-03-14T11:24:18.849607",
          "status": "completed"
        },
        "tags": [],
        "id": "11d4caf0"
      },
      "source": [
        "Creating Vocabulary"
      ]
    },
    {
      "cell_type": "code",
      "execution_count": 18,
      "id": "89a7a2ae",
      "metadata": {
        "execution": {
          "iopub.execute_input": "2023-03-14T11:24:18.883597Z",
          "iopub.status.busy": "2023-03-14T11:24:18.883292Z",
          "iopub.status.idle": "2023-03-14T11:24:24.290348Z",
          "shell.execute_reply": "2023-03-14T11:24:24.288865Z"
        },
        "papermill": {
          "duration": 5.421646,
          "end_time": "2023-03-14T11:24:24.292829",
          "exception": false,
          "start_time": "2023-03-14T11:24:18.871183",
          "status": "completed"
        },
        "tags": [],
        "colab": {
          "base_uri": "https://localhost:8080/"
        },
        "id": "89a7a2ae",
        "outputId": "4ddc33e1-b59b-4a18-e4da-4e079c142728"
      },
      "outputs": [
        {
          "output_type": "stream",
          "name": "stdout",
          "text": [
            "CPU times: user 7.31 s, sys: 294 ms, total: 7.61 s\n",
            "Wall time: 8.58 s\n"
          ]
        }
      ],
      "source": [
        "%%time\n",
        "vectorize_layer.adapt(X_train)"
      ]
    },
    {
      "cell_type": "code",
      "execution_count": 19,
      "id": "eed012a1",
      "metadata": {
        "execution": {
          "iopub.execute_input": "2023-03-14T11:24:24.317364Z",
          "iopub.status.busy": "2023-03-14T11:24:24.317008Z",
          "iopub.status.idle": "2023-03-14T11:24:24.762211Z",
          "shell.execute_reply": "2023-03-14T11:24:24.761103Z"
        },
        "papermill": {
          "duration": 0.460327,
          "end_time": "2023-03-14T11:24:24.764631",
          "exception": false,
          "start_time": "2023-03-14T11:24:24.304304",
          "status": "completed"
        },
        "tags": [],
        "colab": {
          "base_uri": "https://localhost:8080/"
        },
        "id": "eed012a1",
        "outputId": "024ea99a-85c8-4d4f-fb8b-f44bbfaa9c8d"
      },
      "outputs": [
        {
          "output_type": "execute_result",
          "data": {
            "text/plain": [
              "160494"
            ]
          },
          "metadata": {},
          "execution_count": 19
        }
      ],
      "source": [
        "vocab_len = len(vectorize_layer.get_vocabulary())\n",
        "vocab_len"
      ]
    },
    {
      "cell_type": "code",
      "execution_count": 20,
      "id": "e32eff40",
      "metadata": {
        "execution": {
          "iopub.execute_input": "2023-03-14T11:24:24.790254Z",
          "iopub.status.busy": "2023-03-14T11:24:24.788487Z",
          "iopub.status.idle": "2023-03-14T11:24:25.451281Z",
          "shell.execute_reply": "2023-03-14T11:24:25.450089Z"
        },
        "papermill": {
          "duration": 0.678025,
          "end_time": "2023-03-14T11:24:25.454190",
          "exception": false,
          "start_time": "2023-03-14T11:24:24.776165",
          "status": "completed"
        },
        "tags": [],
        "id": "e32eff40"
      },
      "outputs": [],
      "source": [
        "model = Sequential()\n",
        "model.add(Input(shape=(1,), dtype = tf.string))\n",
        "model.add(vectorize_layer)\n",
        "model.add(Embedding(input_dim = vocab_len, output_dim = 256, input_length= max_len))\n",
        "model.add(Conv1D(32, 5, strides = 1,activation= 'relu', padding = 'same', kernel_regularizer = l2(0.0001)))\n",
        "model.add(Conv1D(16, 5, strides = 1,activation= 'relu', padding = 'same', kernel_regularizer = l2(0.0001)))\n",
        "model.add(MaxPooling1D(4, 1, padding = 'same'))\n",
        "model.add(tf.keras.layers.Bidirectional(LSTM(64, kernel_regularizer = l2(0.0001))))\n",
        "model.add(Dense(32, activation = 'relu', kernel_regularizer = l2(0.0001)))\n",
        "model.add(Dense(16, activation = 'relu', kernel_regularizer = l2(0.0001)))\n",
        "model.add(Flatten())\n",
        "model.add(Dense(1, activation = 'sigmoid'))"
      ]
    },
    {
      "cell_type": "code",
      "execution_count": 21,
      "id": "c21f27da",
      "metadata": {
        "execution": {
          "iopub.execute_input": "2023-03-14T11:24:25.478601Z",
          "iopub.status.busy": "2023-03-14T11:24:25.478282Z",
          "iopub.status.idle": "2023-03-14T11:24:25.486217Z",
          "shell.execute_reply": "2023-03-14T11:24:25.485405Z"
        },
        "papermill": {
          "duration": 0.022763,
          "end_time": "2023-03-14T11:24:25.488561",
          "exception": false,
          "start_time": "2023-03-14T11:24:25.465798",
          "status": "completed"
        },
        "tags": [],
        "id": "c21f27da"
      },
      "outputs": [],
      "source": [
        "optimizer = tf.keras.optimizers.Adam(learning_rate = 0.001)"
      ]
    },
    {
      "cell_type": "code",
      "execution_count": 22,
      "id": "ddc97f52",
      "metadata": {
        "execution": {
          "iopub.execute_input": "2023-03-14T11:24:25.512031Z",
          "iopub.status.busy": "2023-03-14T11:24:25.511752Z",
          "iopub.status.idle": "2023-03-14T11:24:25.561162Z",
          "shell.execute_reply": "2023-03-14T11:24:25.559698Z"
        },
        "papermill": {
          "duration": 0.082165,
          "end_time": "2023-03-14T11:24:25.581672",
          "exception": false,
          "start_time": "2023-03-14T11:24:25.499507",
          "status": "completed"
        },
        "tags": [],
        "colab": {
          "base_uri": "https://localhost:8080/"
        },
        "id": "ddc97f52",
        "outputId": "124b1b08-974e-40fa-f40a-379e641c96e3"
      },
      "outputs": [
        {
          "output_type": "stream",
          "name": "stdout",
          "text": [
            "Model: \"sequential\"\n",
            "_________________________________________________________________\n",
            " Layer (type)                Output Shape              Param #   \n",
            "=================================================================\n",
            " text_vectorization (TextVec  (None, 512)              0         \n",
            " torization)                                                     \n",
            "                                                                 \n",
            " embedding (Embedding)       (None, 512, 256)          41086464  \n",
            "                                                                 \n",
            " conv1d (Conv1D)             (None, 512, 32)           40992     \n",
            "                                                                 \n",
            " conv1d_1 (Conv1D)           (None, 512, 16)           2576      \n",
            "                                                                 \n",
            " max_pooling1d (MaxPooling1D  (None, 512, 16)          0         \n",
            " )                                                               \n",
            "                                                                 \n",
            " bidirectional (Bidirectiona  (None, 128)              41472     \n",
            " l)                                                              \n",
            "                                                                 \n",
            " dense (Dense)               (None, 32)                4128      \n",
            "                                                                 \n",
            " dense_1 (Dense)             (None, 16)                528       \n",
            "                                                                 \n",
            " flatten (Flatten)           (None, 16)                0         \n",
            "                                                                 \n",
            " dense_2 (Dense)             (None, 1)                 17        \n",
            "                                                                 \n",
            "=================================================================\n",
            "Total params: 41,176,177\n",
            "Trainable params: 41,176,177\n",
            "Non-trainable params: 0\n",
            "_________________________________________________________________\n"
          ]
        }
      ],
      "source": [
        "model.compile(optimizer= optimizer, loss = 'binary_crossentropy', metrics = ['accuracy'])\n",
        "model.summary()"
      ]
    },
    {
      "cell_type": "code",
      "execution_count": 23,
      "id": "864879b8",
      "metadata": {
        "_kg_hide-input": true,
        "execution": {
          "iopub.execute_input": "2023-03-14T11:24:25.611012Z",
          "iopub.status.busy": "2023-03-14T11:24:25.610130Z",
          "iopub.status.idle": "2023-03-14T11:33:51.405934Z",
          "shell.execute_reply": "2023-03-14T11:33:51.404342Z"
        },
        "papermill": {
          "duration": 565.813348,
          "end_time": "2023-03-14T11:33:51.408815",
          "exception": false,
          "start_time": "2023-03-14T11:24:25.595467",
          "status": "completed"
        },
        "tags": [],
        "colab": {
          "base_uri": "https://localhost:8080/"
        },
        "id": "864879b8",
        "outputId": "00c415ab-0e25-4855-85d4-4048e231193a"
      },
      "outputs": [
        {
          "output_type": "stream",
          "name": "stdout",
          "text": [
            "Epoch 1/6\n",
            "1250/1250 [==============================] - 226s 167ms/step - loss: 0.5119 - accuracy: 0.7646 - val_loss: 0.3827 - val_accuracy: 0.8600\n",
            "Epoch 2/6\n",
            "1250/1250 [==============================] - 101s 81ms/step - loss: 0.2743 - accuracy: 0.9003 - val_loss: 0.3356 - val_accuracy: 0.8720\n",
            "Epoch 3/6\n",
            "1250/1250 [==============================] - 86s 69ms/step - loss: 0.1686 - accuracy: 0.9444 - val_loss: 0.2896 - val_accuracy: 0.8955\n",
            "Epoch 4/6\n",
            "1250/1250 [==============================] - 77s 62ms/step - loss: 0.1021 - accuracy: 0.9698 - val_loss: 0.3465 - val_accuracy: 0.8947\n",
            "Epoch 5/6\n",
            "1250/1250 [==============================] - 74s 59ms/step - loss: 0.0645 - accuracy: 0.9837 - val_loss: 0.3353 - val_accuracy: 0.8924\n",
            "Epoch 6/6\n",
            "1250/1250 [==============================] - 75s 60ms/step - loss: 0.0503 - accuracy: 0.9876 - val_loss: 0.4586 - val_accuracy: 0.8822\n",
            "CPU times: user 9min 25s, sys: 14.4 s, total: 9min 39s\n",
            "Wall time: 11min 25s\n"
          ]
        }
      ],
      "source": [
        "%%time\n",
        "hist = model.fit(X_train, y_train,\n",
        "          epochs= 6, validation_data = (X_test, y_test))"
      ]
    },
    {
      "cell_type": "markdown",
      "id": "2e38ff83",
      "metadata": {
        "papermill": {
          "duration": 0.252693,
          "end_time": "2023-03-14T11:33:52.938408",
          "exception": false,
          "start_time": "2023-03-14T11:33:52.685715",
          "status": "completed"
        },
        "tags": [],
        "id": "2e38ff83"
      },
      "source": [
        "## Model Evaluation\n",
        "---"
      ]
    },
    {
      "cell_type": "markdown",
      "id": "36a03d68",
      "metadata": {
        "papermill": {
          "duration": 0.292874,
          "end_time": "2023-03-14T11:33:53.482476",
          "exception": false,
          "start_time": "2023-03-14T11:33:53.189602",
          "status": "completed"
        },
        "tags": [],
        "id": "36a03d68"
      },
      "source": [
        "Plotting Model Accuracy Performance"
      ]
    },
    {
      "cell_type": "code",
      "execution_count": 24,
      "id": "7796c46c",
      "metadata": {
        "execution": {
          "iopub.execute_input": "2023-03-14T11:33:53.991443Z",
          "iopub.status.busy": "2023-03-14T11:33:53.990416Z",
          "iopub.status.idle": "2023-03-14T11:33:54.241305Z",
          "shell.execute_reply": "2023-03-14T11:33:54.240242Z"
        },
        "papermill": {
          "duration": 0.508607,
          "end_time": "2023-03-14T11:33:54.243656",
          "exception": false,
          "start_time": "2023-03-14T11:33:53.735049",
          "status": "completed"
        },
        "tags": [],
        "colab": {
          "base_uri": "https://localhost:8080/",
          "height": 472
        },
        "id": "7796c46c",
        "outputId": "96fb6ff0-4a33-434d-aa55-9f9b37f03f92"
      },
      "outputs": [
        {
          "output_type": "display_data",
          "data": {
            "text/plain": [
              "<Figure size 640x480 with 1 Axes>"
            ],
            "image/png": "[encoded data removed]"
          },
          "metadata": {}
        }
      ],
      "source": [
        "plt.plot(hist.history['accuracy'])\n",
        "plt.plot(hist.history['val_accuracy'])\n",
        "plt.title('Model Accuracy')\n",
        "plt.xlabel('Epoch')\n",
        "plt.ylabel('Accuracy')\n",
        "plt.legend(['train', 'val'])\n",
        "plt.show()"
      ]
    },
    {
      "cell_type": "markdown",
      "id": "507d99b6",
      "metadata": {
        "papermill": {
          "duration": 0.251452,
          "end_time": "2023-03-14T11:33:54.744806",
          "exception": false,
          "start_time": "2023-03-14T11:33:54.493354",
          "status": "completed"
        },
        "tags": [],
        "id": "507d99b6"
      },
      "source": [
        "Plotting Model Loss Performance"
      ]
    },
    {
      "cell_type": "code",
      "execution_count": 25,
      "id": "b87c3ec5",
      "metadata": {
        "execution": {
          "iopub.execute_input": "2023-03-14T11:33:55.300126Z",
          "iopub.status.busy": "2023-03-14T11:33:55.299763Z",
          "iopub.status.idle": "2023-03-14T11:33:55.582680Z",
          "shell.execute_reply": "2023-03-14T11:33:55.578493Z"
        },
        "papermill": {
          "duration": 0.584001,
          "end_time": "2023-03-14T11:33:55.586076",
          "exception": false,
          "start_time": "2023-03-14T11:33:55.002075",
          "status": "completed"
        },
        "tags": [],
        "colab": {
          "base_uri": "https://localhost:8080/",
          "height": 472
        },
        "id": "b87c3ec5",
        "outputId": "5fd2ec3b-d883-45f8-a6c7-53cd1741859b"
      },
      "outputs": [
        {
          "output_type": "display_data",
          "data": {
            "text/plain": [
              "<Figure size 640x480 with 1 Axes>"
            ],
            "image/png": "[encoded data removed]"
          },
          "metadata": {}
        }
      ],
      "source": [
        "plt.plot(hist.history['loss'])\n",
        "plt.plot(hist.history['val_loss'])\n",
        "plt.title('Model Loss')\n",
        "plt.xlabel('Epoch')\n",
        "plt.ylabel('Loss')\n",
        "plt.legend(['train', 'val'])\n",
        "plt.show()"
      ]
    },
    {
      "cell_type": "markdown",
      "id": "725ded26",
      "metadata": {
        "papermill": {
          "duration": 0.273559,
          "end_time": "2023-03-14T11:33:56.231521",
          "exception": false,
          "start_time": "2023-03-14T11:33:55.957962",
          "status": "completed"
        },
        "tags": [],
        "id": "725ded26"
      },
      "source": [
        "## Prediction\n",
        "---"
      ]
    },
    {
      "cell_type": "code",
      "execution_count": 26,
      "id": "f280be81",
      "metadata": {
        "execution": {
          "iopub.execute_input": "2023-03-14T11:33:56.735486Z",
          "iopub.status.busy": "2023-03-14T11:33:56.734566Z",
          "iopub.status.idle": "2023-03-14T11:33:57.687219Z",
          "shell.execute_reply": "2023-03-14T11:33:57.686217Z"
        },
        "papermill": {
          "duration": 1.212811,
          "end_time": "2023-03-14T11:33:57.689485",
          "exception": false,
          "start_time": "2023-03-14T11:33:56.476674",
          "status": "completed"
        },
        "tags": [],
        "colab": {
          "base_uri": "https://localhost:8080/"
        },
        "id": "f280be81",
        "outputId": "7eaf3ce5-0c9b-41d2-cc9d-b584dbf318dc"
      },
      "outputs": [
        {
          "output_type": "stream",
          "name": "stdout",
          "text": [
            "1/1 [==============================] - 1s 851ms/step\n"
          ]
        }
      ],
      "source": [
        "pred = model.predict(['''So, I'm wondering while watching this film, did the producers of this movie get to save money on Sandra Bullock's wardrobe by dragging out her \"before\" clothes from Miss Congeniality? Did Ms. Bullock also get to sleepwalk through the role by channeling the \"before\" Gracie Hart? As many reviewers have noted before, the film is very formulaic. Add to that the deja vu viewer experiences with the character of Cassie Maywether as a somewhat darker Gracie Hart with more back story and it rapidly become a snooze fest.<br /><br />The two bad boy serial killers have been done before (and better) in other films. As has the \"good guy partner trying to protect his partner despite the evidence\" character been seen before. In fact none of the characters in the film ever get beyond two dimensions or try to be anything but trite stereotypes.<br /><br />One last peeve - using the term serial killer is false advertising. Murdering one person - even if it's a premeditated murder - does not make you a serial killer. You may have the potential to become a serial killer but you are not a serial killer or even a spree killer.''',])"
      ]
    },
    {
      "cell_type": "code",
      "execution_count": 27,
      "id": "d76e9ea5",
      "metadata": {
        "execution": {
          "iopub.execute_input": "2023-03-14T11:33:58.188365Z",
          "iopub.status.busy": "2023-03-14T11:33:58.187457Z",
          "iopub.status.idle": "2023-03-14T11:33:58.194770Z",
          "shell.execute_reply": "2023-03-14T11:33:58.193540Z"
        },
        "papermill": {
          "duration": 0.259623,
          "end_time": "2023-03-14T11:33:58.196962",
          "exception": false,
          "start_time": "2023-03-14T11:33:57.937339",
          "status": "completed"
        },
        "tags": [],
        "colab": {
          "base_uri": "https://localhost:8080/"
        },
        "id": "d76e9ea5",
        "outputId": "4590cb77-759e-479b-ec4b-3ce2b8c0a9c9"
      },
      "outputs": [
        {
          "output_type": "execute_result",
          "data": {
            "text/plain": [
              "array([[False]])"
            ]
          },
          "metadata": {},
          "execution_count": 27
        }
      ],
      "source": [
        "pred > 0.5"
      ]
    },
    {
      "cell_type": "code",
      "execution_count": 28,
      "id": "4fe9cbd3",
      "metadata": {
        "execution": {
          "iopub.execute_input": "2023-03-14T11:33:58.737333Z",
          "iopub.status.busy": "2023-03-14T11:33:58.736258Z",
          "iopub.status.idle": "2023-03-14T11:33:58.826946Z",
          "shell.execute_reply": "2023-03-14T11:33:58.825719Z"
        },
        "papermill": {
          "duration": 0.3425,
          "end_time": "2023-03-14T11:33:58.829375",
          "exception": false,
          "start_time": "2023-03-14T11:33:58.486875",
          "status": "completed"
        },
        "tags": [],
        "colab": {
          "base_uri": "https://localhost:8080/"
        },
        "id": "4fe9cbd3",
        "outputId": "7536405c-ed89-4cc7-c8b3-0eb4caa0fb10"
      },
      "outputs": [
        {
          "output_type": "stream",
          "name": "stdout",
          "text": [
            "1/1 [==============================] - 0s 73ms/step\n"
          ]
        }
      ],
      "source": [
        "pred2 = model.predict(['''Petter Mattei's \"Love in the Time of Money\" is a visually stunning film to watch. Mr. Mattei offers us a vivid portrait about human relations. This is a movie that seems to be telling us what money, power and success do to people in the different situations we encounter. <br /><br />This being a variation on the Arthur Schnitzler's play about the same theme, the director transfers the action to the present time New York where all these different characters meet and connect. Each one is connected in one way, or another to the next person, but no one seems to know the previous point of contact. Stylishly, the film has a sophisticated luxurious look. We are taken to see how these people live and the world they live in their own habitat.<br /><br />The only thing one gets out of all these souls in the picture is the different stages of loneliness each one inhabits. A big city is not exactly the best place in which human relations find sincere fulfillment, as one discerns is the case with most of the people we encounter.<br /><br />The acting is good under Mr. Mattei's direction. Steve Buscemi, Rosario Dawson, Carol Kane, Michael Imperioli, Adrian Grenier, and the rest of the talented cast, make these characters come alive.<br /><br />We wish Mr. Mattei good luck and await anxiously for his next work.'''])"
      ]
    },
    {
      "cell_type": "code",
      "execution_count": 29,
      "id": "2cbca135",
      "metadata": {
        "execution": {
          "iopub.execute_input": "2023-03-14T11:33:59.329307Z",
          "iopub.status.busy": "2023-03-14T11:33:59.328549Z",
          "iopub.status.idle": "2023-03-14T11:33:59.335340Z",
          "shell.execute_reply": "2023-03-14T11:33:59.334250Z"
        },
        "papermill": {
          "duration": 0.261496,
          "end_time": "2023-03-14T11:33:59.337693",
          "exception": false,
          "start_time": "2023-03-14T11:33:59.076197",
          "status": "completed"
        },
        "tags": [],
        "colab": {
          "base_uri": "https://localhost:8080/"
        },
        "id": "2cbca135",
        "outputId": "33748c91-510e-45a0-a111-e002133c2839"
      },
      "outputs": [
        {
          "output_type": "execute_result",
          "data": {
            "text/plain": [
              "array([[ True]])"
            ]
          },
          "metadata": {},
          "execution_count": 29
        }
      ],
      "source": [
        "pred2 > 0.5"
      ]
    },
    {
      "cell_type": "code",
      "execution_count": 30,
      "id": "1ce53079",
      "metadata": {
        "execution": {
          "iopub.execute_input": "2023-03-14T11:33:59.852493Z",
          "iopub.status.busy": "2023-03-14T11:33:59.851489Z",
          "iopub.status.idle": "2023-03-14T11:33:59.859480Z",
          "shell.execute_reply": "2023-03-14T11:33:59.858242Z"
        },
        "papermill": {
          "duration": 0.26683,
          "end_time": "2023-03-14T11:33:59.861904",
          "exception": false,
          "start_time": "2023-03-14T11:33:59.595074",
          "status": "completed"
        },
        "tags": [],
        "colab": {
          "base_uri": "https://localhost:8080/"
        },
        "id": "1ce53079",
        "outputId": "c8e7d2ce-862c-402e-9dbf-78c4ff358c1f"
      },
      "outputs": [
        {
          "output_type": "execute_result",
          "data": {
            "text/plain": [
              "array([[0.9988304]], dtype=float32)"
            ]
          },
          "metadata": {},
          "execution_count": 30
        }
      ],
      "source": [
        "pred2"
      ]
    },
    {
      "cell_type": "markdown",
      "id": "2ddabf95",
      "metadata": {
        "papermill": {
          "duration": 0.290524,
          "end_time": "2023-03-14T11:34:00.411829",
          "exception": false,
          "start_time": "2023-03-14T11:34:00.121305",
          "status": "completed"
        },
        "tags": [],
        "id": "2ddabf95"
      },
      "source": [
        "Defining a function for inference, in this function we will assume a negative sentiment if prediction not greater than 0.5 and positive sentiment if prediction is greater than 0.5"
      ]
    },
    {
      "cell_type": "code",
      "execution_count": 31,
      "id": "1f7dd5e2",
      "metadata": {
        "execution": {
          "iopub.execute_input": "2023-03-14T11:34:00.928283Z",
          "iopub.status.busy": "2023-03-14T11:34:00.927275Z",
          "iopub.status.idle": "2023-03-14T11:34:00.933642Z",
          "shell.execute_reply": "2023-03-14T11:34:00.932479Z"
        },
        "papermill": {
          "duration": 0.266398,
          "end_time": "2023-03-14T11:34:00.935884",
          "exception": false,
          "start_time": "2023-03-14T11:34:00.669486",
          "status": "completed"
        },
        "tags": [],
        "id": "1f7dd5e2"
      },
      "outputs": [],
      "source": [
        "def predict_sentiment(text, model):\n",
        "    text = [text]\n",
        "    pred = model.predict(text)\n",
        "    print(pred)\n",
        "    if pred > 0.5:\n",
        "        return \"Positive\"\n",
        "    else:\n",
        "        return \"Negative\""
      ]
    },
    {
      "cell_type": "code",
      "execution_count": 32,
      "id": "46dfd206",
      "metadata": {
        "execution": {
          "iopub.execute_input": "2023-03-14T11:34:01.441000Z",
          "iopub.status.busy": "2023-03-14T11:34:01.440624Z",
          "iopub.status.idle": "2023-03-14T11:34:01.538370Z",
          "shell.execute_reply": "2023-03-14T11:34:01.537088Z"
        },
        "papermill": {
          "duration": 0.356542,
          "end_time": "2023-03-14T11:34:01.540926",
          "exception": false,
          "start_time": "2023-03-14T11:34:01.184384",
          "status": "completed"
        },
        "tags": [],
        "colab": {
          "base_uri": "https://localhost:8080/",
          "height": 70
        },
        "id": "46dfd206",
        "outputId": "2e24e609-3a5e-4a9c-d6ca-12fd641c512b"
      },
      "outputs": [
        {
          "output_type": "stream",
          "name": "stdout",
          "text": [
            "1/1 [==============================] - 0s 49ms/step\n",
            "[[0.9886636]]\n"
          ]
        },
        {
          "output_type": "execute_result",
          "data": {
            "text/plain": [
              "'Positive'"
            ],
            "application/vnd.google.colaboratory.intrinsic+json": {
              "type": "string"
            }
          },
          "metadata": {},
          "execution_count": 32
        }
      ],
      "source": [
        "pst_txt = '''One of the other reviewers has mentioned that after watching just 1 Oz episode you'll be hooked. They are right, as this is exactly what happened with me.<br /><br />The first thing that struck me about Oz was its brutality and unflinching scenes of violence, which set in right from the word GO. Trust me, this is not a show for the faint hearted or timid. This show pulls no punches with regards to drugs, sex or violence. Its is hardcore, in the classic use of the word.<br /><br />It is called OZ as that is the nickname given to the Oswald Maximum Security State Penitentary. It focuses mainly on Emerald City, an experimental section of the prison where all the cells have glass fronts and face inwards, so privacy is not high on the agenda. Em City is home to many..Aryans, Muslims, gangstas, Latinos, Christians, Italians, Irish and more....so scuffles, death stares, dodgy dealings and shady agreements are never far away.<br /><br />I would say the main appeal of the show is due to the fact that it goes where other shows wouldn't dare. Forget pretty pictures painted for mainstream audiences, forget charm, forget romance...OZ doesn't mess around. The first episode I ever saw struck me as so nasty it was surreal, I couldn't say I was ready for it, but as I watched more, I developed a taste for Oz, and got accustomed to the high levels of graphic violence. Not just violence, but injustice (crooked guards who'll be sold out for a nickel, inmates who'll kill on order and get away with it, well mannered, middle class inmates being turned into prison bitches due to their lack of street skills or prison experience) Watching Oz, you may become comfortable with what is uncomfortable viewing....thats if you can get in touch with your darker side.'''\n",
        "predict_sentiment(pst_txt, model)"
      ]
    },
    {
      "cell_type": "code",
      "execution_count": 33,
      "id": "fb93ead8",
      "metadata": {
        "execution": {
          "iopub.execute_input": "2023-03-14T11:34:02.116674Z",
          "iopub.status.busy": "2023-03-14T11:34:02.116284Z",
          "iopub.status.idle": "2023-03-14T11:34:02.209489Z",
          "shell.execute_reply": "2023-03-14T11:34:02.207696Z"
        },
        "papermill": {
          "duration": 0.355528,
          "end_time": "2023-03-14T11:34:02.212405",
          "exception": false,
          "start_time": "2023-03-14T11:34:01.856877",
          "status": "completed"
        },
        "tags": [],
        "colab": {
          "base_uri": "https://localhost:8080/",
          "height": 70
        },
        "id": "fb93ead8",
        "outputId": "66f4f4da-3c70-4ebb-8abf-1efb277f714a"
      },
      "outputs": [
        {
          "output_type": "stream",
          "name": "stdout",
          "text": [
            "1/1 [==============================] - 0s 43ms/step\n",
            "[[0.00027591]]\n"
          ]
        },
        {
          "output_type": "execute_result",
          "data": {
            "text/plain": [
              "'Negative'"
            ],
            "application/vnd.google.colaboratory.intrinsic+json": {
              "type": "string"
            }
          },
          "metadata": {},
          "execution_count": 33
        }
      ],
      "source": [
        "ngt_txt ='''Basically there's a family where a little boy (Jake) thinks there's a zombie in his closet & his parents are fighting all the time.<br /><br />This movie is slower than a soap opera... and suddenly, Jake decides to become Rambo and kill the zombie.<br /><br />OK, first of all when you're going to make a film you must Decide if its a thriller or a drama! As a drama the movie is watchable. Parents are divorcing & arguing like in real life. And then we have Jake with his closet which totally ruins all the film! I expected to see a BOOGEYMAN similar movie, and instead i watched a drama with some meaningless thriller spots.<br /><br />3 out of 10 just for the well playing parents & descent dialogs. As for the shots with Jake: just ignore them.'''\n",
        "predict_sentiment(ngt_txt, model)"
      ]
    },
    {
      "cell_type": "code",
      "execution_count": 34,
      "id": "d73db427",
      "metadata": {
        "execution": {
          "iopub.execute_input": "2023-03-14T11:34:02.729379Z",
          "iopub.status.busy": "2023-03-14T11:34:02.728979Z",
          "iopub.status.idle": "2023-03-14T11:34:02.831321Z",
          "shell.execute_reply": "2023-03-14T11:34:02.830207Z"
        },
        "papermill": {
          "duration": 0.358952,
          "end_time": "2023-03-14T11:34:02.833919",
          "exception": false,
          "start_time": "2023-03-14T11:34:02.474967",
          "status": "completed"
        },
        "tags": [],
        "colab": {
          "base_uri": "https://localhost:8080/",
          "height": 70
        },
        "id": "d73db427",
        "outputId": "01ec5b19-5ae2-4605-c6b9-a00b1609fcf9"
      },
      "outputs": [
        {
          "output_type": "stream",
          "name": "stdout",
          "text": [
            "1/1 [==============================] - 0s 44ms/step\n",
            "[[0.99728596]]\n"
          ]
        },
        {
          "output_type": "execute_result",
          "data": {
            "text/plain": [
              "'Positive'"
            ],
            "application/vnd.google.colaboratory.intrinsic+json": {
              "type": "string"
            }
          },
          "metadata": {},
          "execution_count": 34
        }
      ],
      "source": [
        "ngt_txt2 = '''It's become extremely difficult to find a good horror movie anymore, thought this movie was a good thriller.<br /><br />Could have had better production values but what kept me going was the suspense and the twists. I had real reservations before seeing this movie (because of the cover). I was afraid that it would be excessively bloody and gory. I was wrong.<br /><br />Although there is a lot of scary parts, there is a lot of suspense and drama too.<br /><br />The acting in Dead Line was better than what you would expect from a micro budget horror flick. The characters were believable<br /><br />The movie is really thrilling and quite scary at moments so it makes you grab your seat until the ending credits roll<br /><br />Because of its production values (the sound is not very good for example) 8/10.'''\n",
        "predict_sentiment(ngt_txt2, model)"
      ]
    },
    {
      "cell_type": "code",
      "execution_count": 35,
      "id": "56d7f450",
      "metadata": {
        "execution": {
          "iopub.execute_input": "2023-03-14T11:34:03.357909Z",
          "iopub.status.busy": "2023-03-14T11:34:03.357304Z",
          "iopub.status.idle": "2023-03-14T11:34:03.453795Z",
          "shell.execute_reply": "2023-03-14T11:34:03.452499Z"
        },
        "papermill": {
          "duration": 0.355037,
          "end_time": "2023-03-14T11:34:03.456429",
          "exception": false,
          "start_time": "2023-03-14T11:34:03.101392",
          "status": "completed"
        },
        "tags": [],
        "colab": {
          "base_uri": "https://localhost:8080/",
          "height": 70
        },
        "id": "56d7f450",
        "outputId": "1aa8c130-e3e8-4896-d02a-fa16c525393a"
      },
      "outputs": [
        {
          "output_type": "stream",
          "name": "stdout",
          "text": [
            "1/1 [==============================] - 0s 45ms/step\n",
            "[[0.99951947]]\n"
          ]
        },
        {
          "output_type": "execute_result",
          "data": {
            "text/plain": [
              "'Positive'"
            ],
            "application/vnd.google.colaboratory.intrinsic+json": {
              "type": "string"
            }
          },
          "metadata": {},
          "execution_count": 35
        }
      ],
      "source": [
        "text3 = '''This movie is incredible. If you have the chance, watch it. Although, a warning, you'll cry your eyes out. I do, every time I see it, and I own it and have watched it many times. The performances are outstanding. It deals with darkness and pain and loss, but there is hope. This movie made me look at the world differently: vicarious experience, according to my English teacher. Also, if you've seen it, note the interesting use of shadows and light. Home room is a phenomenal movie, and I rate it 10/10 - for real - because of the excellent acting, amazing plot, and heart-wrenching dialogue. Very tense, very moving. Doesn't give all the answers, but makes many good points about humankind'''\n",
        "predict_sentiment(text3, model)"
      ]
    },
    {
      "cell_type": "markdown",
      "id": "d48d21e0",
      "metadata": {
        "papermill": {
          "duration": 0.252383,
          "end_time": "2023-03-14T11:34:04.017190",
          "exception": false,
          "start_time": "2023-03-14T11:34:03.764807",
          "status": "completed"
        },
        "tags": [],
        "id": "d48d21e0"
      },
      "source": [
        "## Saving the model\n",
        "---"
      ]
    },
    {
      "cell_type": "code",
      "execution_count": 36,
      "id": "767ec6a7",
      "metadata": {
        "execution": {
          "iopub.execute_input": "2023-03-14T11:34:04.519835Z",
          "iopub.status.busy": "2023-03-14T11:34:04.519425Z",
          "iopub.status.idle": "2023-03-14T11:34:19.734787Z",
          "shell.execute_reply": "2023-03-14T11:34:19.733636Z"
        },
        "papermill": {
          "duration": 15.470156,
          "end_time": "2023-03-14T11:34:19.737805",
          "exception": false,
          "start_time": "2023-03-14T11:34:04.267649",
          "status": "completed"
        },
        "tags": [],
        "colab": {
          "base_uri": "https://localhost:8080/"
        },
        "id": "767ec6a7",
        "outputId": "bae57c53-21a0-4333-dc84-8dfca593bc0f"
      },
      "outputs": [
        {
          "output_type": "stream",
          "name": "stderr",
          "text": [
            "WARNING:absl:Found untraced functions such as _jit_compiled_convolution_op, _jit_compiled_convolution_op, lstm_cell_1_layer_call_fn, lstm_cell_1_layer_call_and_return_conditional_losses, lstm_cell_2_layer_call_fn while saving (showing 5 of 6). These functions will not be directly callable after loading.\n"
          ]
        }
      ],
      "source": [
        "model.save('imdb_sentiment_classifier.tf')"
      ]
    }
  ],
  "metadata": {
    "kernelspec": {
      "display_name": "Python 3",
      "name": "python3"
    },
    "language_info": {
      "codemirror_mode": {
        "name": "ipython",
        "version": 3
      },
      "file_extension": ".py",
      "mimetype": "text/x-python",
      "name": "python",
      "nbconvert_exporter": "python",
      "pygments_lexer": "ipython3",
      "version": "3.7.12"
    },
    "papermill": {
      "default_parameters": {},
      "duration": 639.44733,
      "end_time": "2023-03-14T11:34:33.075342",
      "environment_variables": {},
      "exception": null,
      "input_path": "__notebook__.ipynb",
      "output_path": "__notebook__.ipynb",
      "parameters": {},
      "start_time": "2023-03-14T11:23:53.628012",
      "version": "2.4.0"
    },
    "colab": {
      "provenance": [],
      "gpuType": "T4"
    },
    "accelerator": "GPU"
  },
  "nbformat": 4,
  "nbformat_minor": 5
}