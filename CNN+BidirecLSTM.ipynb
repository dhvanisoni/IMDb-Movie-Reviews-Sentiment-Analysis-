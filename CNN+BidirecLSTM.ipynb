{
  "cells": [
    {
      "cell_type": "markdown",
      "id": "44808414",
      "metadata": {
        "papermill": {
          "duration": 0.010844,
          "end_time": "2023-03-14T11:24:03.539003",
          "exception": false,
          "start_time": "2023-03-14T11:24:03.528159",
          "status": "completed"
        },
        "tags": [],
        "id": "44808414"
      },
      "source": [
        "## Importing Libraries\n",
        "---"
      ]
    },
    {
      "cell_type": "code",
      "execution_count": 1,
      "id": "f1b534c9",
      "metadata": {
        "execution": {
          "iopub.execute_input": "2023-03-14T11:24:03.560969Z",
          "iopub.status.busy": "2023-03-14T11:24:03.560482Z",
          "iopub.status.idle": "2023-03-14T11:24:12.299254Z",
          "shell.execute_reply": "2023-03-14T11:24:12.298136Z"
        },
        "papermill": {
          "duration": 8.752995,
          "end_time": "2023-03-14T11:24:12.301891",
          "exception": false,
          "start_time": "2023-03-14T11:24:03.548896",
          "status": "completed"
        },
        "tags": [],
        "id": "f1b534c9"
      },
      "outputs": [],
      "source": [
        "import pandas as pd\n",
        "import numpy as np\n",
        "import matplotlib.pyplot as plt\n",
        "import seaborn as sns\n",
        "import tensorflow as tf\n",
        "\n",
        "pd.set_option('display.max_colwidth', None)"
      ]
    },
    {
      "cell_type": "code",
      "execution_count": 3,
      "id": "2da4abf5",
      "metadata": {
        "_cell_guid": "b1076dfc-b9ad-4769-8c92-a6c4dae69d19",
        "_uuid": "8f2839f25d086af736a60e9eeb907d3b93b6e0e5",
        "execution": {
          "iopub.execute_input": "2023-03-14T11:24:12.323975Z",
          "iopub.status.busy": "2023-03-14T11:24:12.322536Z",
          "iopub.status.idle": "2023-03-14T11:24:13.835212Z",
          "shell.execute_reply": "2023-03-14T11:24:13.834185Z"
        },
        "papermill": {
          "duration": 1.525944,
          "end_time": "2023-03-14T11:24:13.837779",
          "exception": false,
          "start_time": "2023-03-14T11:24:12.311835",
          "status": "completed"
        },
        "tags": [],
        "colab": {
          "base_uri": "https://localhost:8080/",
          "height": 718
        },
        "id": "2da4abf5",
        "outputId": "1073d994-aaba-4168-9c5b-43ed0146dbd3"
      },
      "outputs": [
        {
          "output_type": "execute_result",
          "data": {
            "text/plain": [
              "                                                                                                                                                                                                                                                                                                                                                                                                                                                                                                                                                                                                                                                                                                                                                                                                                                                                                                                                                                                                                                                                                                                                                                                                                                                                                                                                                                                                                                                                                                                                                                                                                                                                                                                                                                                                                              review  \\\n",
              "0  One of the other reviewers has mentioned that after watching just 1 Oz episode you'll be hooked. They are right, as this is exactly what happened with me.<br /><br />The first thing that struck me about Oz was its brutality and unflinching scenes of violence, which set in right from the word GO. Trust me, this is not a show for the faint hearted or timid. This show pulls no punches with regards to drugs, sex or violence. Its is hardcore, in the classic use of the word.<br /><br />It is called OZ as that is the nickname given to the Oswald Maximum Security State Penitentary. It focuses mainly on Emerald City, an experimental section of the prison where all the cells have glass fronts and face inwards, so privacy is not high on the agenda. Em City is home to many..Aryans, Muslims, gangstas, Latinos, Christians, Italians, Irish and more....so scuffles, death stares, dodgy dealings and shady agreements are never far away.<br /><br />I would say the main appeal of the show is due to the fact that it goes where other shows wouldn't dare. Forget pretty pictures painted for mainstream audiences, forget charm, forget romance...OZ doesn't mess around. The first episode I ever saw struck me as so nasty it was surreal, I couldn't say I was ready for it, but as I watched more, I developed a taste for Oz, and got accustomed to the high levels of graphic violence. Not just violence, but injustice (crooked guards who'll be sold out for a nickel, inmates who'll kill on order and get away with it, well mannered, middle class inmates being turned into prison bitches due to their lack of street skills or prison experience) Watching Oz, you may become comfortable with what is uncomfortable viewing....thats if you can get in touch with your darker side.   \n",
              "1                                                                                                                                                                                                                                                                                                                                                                                                                                                                                                                                                                                                                                                                                                                                                                                             A wonderful little production. <br /><br />The filming technique is very unassuming- very old-time-BBC fashion and gives a comforting, and sometimes discomforting, sense of realism to the entire piece. <br /><br />The actors are extremely well chosen- Michael Sheen not only \"has got all the polari\" but he has all the voices down pat too! You can truly see the seamless editing guided by the references to Williams' diary entries, not only is it well worth the watching but it is a terrificly written and performed piece. A masterful production about one of the great master's of comedy and his life. <br /><br />The realism really comes home with the little things: the fantasy of the guard which, rather than use the traditional 'dream' techniques remains solid then disappears. It plays on our knowledge and our senses, particularly with the scenes concerning Orton and Halliwell and the sets (particularly of their flat with Halliwell's murals decorating every surface) are terribly well done.   \n",
              "2                                                                                                                                                                                                                                                                                                                                                                                                                                                                                                                                                                                                                                                                                                                                                                                                                                                                     I thought this was a wonderful way to spend time on a too hot summer weekend, sitting in the air conditioned theater and watching a light-hearted comedy. The plot is simplistic, but the dialogue is witty and the characters are likable (even the well bread suspected serial killer). While some may be disappointed when they realize this is not Match Point 2: Risk Addiction, I thought it was proof that Woody Allen is still fully in control of the style many of us have grown to love.<br /><br />This was the most I'd laughed at one of Woody's comedies in years (dare I say a decade?). While I've never been impressed with Scarlet Johanson, in this she managed to tone down her \"sexy\" image and jumped right into a average, but spirited young woman.<br /><br />This may not be the crown jewel of his career, but it was wittier than \"Devil Wears Prada\" and more interesting than \"Superman\" a great comedy to go see with friends.   \n",
              "3                                                                                                                                                                                                                                                                                                                                                                                                                                                                                                                                                                                                                                                                                                                                                                                                                                                                                                                                                                                                                                                       Basically there's a family where a little boy (Jake) thinks there's a zombie in his closet & his parents are fighting all the time.<br /><br />This movie is slower than a soap opera... and suddenly, Jake decides to become Rambo and kill the zombie.<br /><br />OK, first of all when you're going to make a film you must Decide if its a thriller or a drama! As a drama the movie is watchable. Parents are divorcing & arguing like in real life. And then we have Jake with his closet which totally ruins all the film! I expected to see a BOOGEYMAN similar movie, and instead i watched a drama with some meaningless thriller spots.<br /><br />3 out of 10 just for the well playing parents & descent dialogs. As for the shots with Jake: just ignore them.   \n",
              "4                                                                                                                                                                                                                                                                                                                                                                                                                                                              Petter Mattei's \"Love in the Time of Money\" is a visually stunning film to watch. Mr. Mattei offers us a vivid portrait about human relations. This is a movie that seems to be telling us what money, power and success do to people in the different situations we encounter. <br /><br />This being a variation on the Arthur Schnitzler's play about the same theme, the director transfers the action to the present time New York where all these different characters meet and connect. Each one is connected in one way, or another to the next person, but no one seems to know the previous point of contact. Stylishly, the film has a sophisticated luxurious look. We are taken to see how these people live and the world they live in their own habitat.<br /><br />The only thing one gets out of all these souls in the picture is the different stages of loneliness each one inhabits. A big city is not exactly the best place in which human relations find sincere fulfillment, as one discerns is the case with most of the people we encounter.<br /><br />The acting is good under Mr. Mattei's direction. Steve Buscemi, Rosario Dawson, Carol Kane, Michael Imperioli, Adrian Grenier, and the rest of the talented cast, make these characters come alive.<br /><br />We wish Mr. Mattei good luck and await anxiously for his next work.   \n",
              "\n",
              "  sentiment  \n",
              "0  positive  \n",
              "1  positive  \n",
              "2  positive  \n",
              "3  negative  \n",
              "4  positive  "
            ],
            "text/html": [
              "\n",
              "\n",
              "  <div id=\"df-cb14c8b2-3f44-4553-8f94-7600c89b5f6d\">\n",
              "    <div class=\"colab-df-container\">\n",
              "      <div>\n",
              "<style scoped>\n",
              "    .dataframe tbody tr th:only-of-type {\n",
              "        vertical-align: middle;\n",
              "    }\n",
              "\n",
              "    .dataframe tbody tr th {\n",
              "        vertical-align: top;\n",
              "    }\n",
              "\n",
              "    .dataframe thead th {\n",
              "        text-align: right;\n",
              "    }\n",
              "</style>\n",
              "<table border=\"1\" class=\"dataframe\">\n",
              "  <thead>\n",
              "    <tr style=\"text-align: right;\">\n",
              "      <th></th>\n",
              "      <th>review</th>\n",
              "      <th>sentiment</th>\n",
              "    </tr>\n",
              "  </thead>\n",
              "  <tbody>\n",
              "    <tr>\n",
              "      <th>0</th>\n",
              "      <td>One of the other reviewers has mentioned that after watching just 1 Oz episode you'll be hooked. They are right, as this is exactly what happened with me.&lt;br /&gt;&lt;br /&gt;The first thing that struck me about Oz was its brutality and unflinching scenes of violence, which set in right from the word GO. Trust me, this is not a show for the faint hearted or timid. This show pulls no punches with regards to drugs, sex or violence. Its is hardcore, in the classic use of the word.&lt;br /&gt;&lt;br /&gt;It is called OZ as that is the nickname given to the Oswald Maximum Security State Penitentary. It focuses mainly on Emerald City, an experimental section of the prison where all the cells have glass fronts and face inwards, so privacy is not high on the agenda. Em City is home to many..Aryans, Muslims, gangstas, Latinos, Christians, Italians, Irish and more....so scuffles, death stares, dodgy dealings and shady agreements are never far away.&lt;br /&gt;&lt;br /&gt;I would say the main appeal of the show is due to the fact that it goes where other shows wouldn't dare. Forget pretty pictures painted for mainstream audiences, forget charm, forget romance...OZ doesn't mess around. The first episode I ever saw struck me as so nasty it was surreal, I couldn't say I was ready for it, but as I watched more, I developed a taste for Oz, and got accustomed to the high levels of graphic violence. Not just violence, but injustice (crooked guards who'll be sold out for a nickel, inmates who'll kill on order and get away with it, well mannered, middle class inmates being turned into prison bitches due to their lack of street skills or prison experience) Watching Oz, you may become comfortable with what is uncomfortable viewing....thats if you can get in touch with your darker side.</td>\n",
              "      <td>positive</td>\n",
              "    </tr>\n",
              "    <tr>\n",
              "      <th>1</th>\n",
              "      <td>A wonderful little production. &lt;br /&gt;&lt;br /&gt;The filming technique is very unassuming- very old-time-BBC fashion and gives a comforting, and sometimes discomforting, sense of realism to the entire piece. &lt;br /&gt;&lt;br /&gt;The actors are extremely well chosen- Michael Sheen not only \"has got all the polari\" but he has all the voices down pat too! You can truly see the seamless editing guided by the references to Williams' diary entries, not only is it well worth the watching but it is a terrificly written and performed piece. A masterful production about one of the great master's of comedy and his life. &lt;br /&gt;&lt;br /&gt;The realism really comes home with the little things: the fantasy of the guard which, rather than use the traditional 'dream' techniques remains solid then disappears. It plays on our knowledge and our senses, particularly with the scenes concerning Orton and Halliwell and the sets (particularly of their flat with Halliwell's murals decorating every surface) are terribly well done.</td>\n",
              "      <td>positive</td>\n",
              "    </tr>\n",
              "    <tr>\n",
              "      <th>2</th>\n",
              "      <td>I thought this was a wonderful way to spend time on a too hot summer weekend, sitting in the air conditioned theater and watching a light-hearted comedy. The plot is simplistic, but the dialogue is witty and the characters are likable (even the well bread suspected serial killer). While some may be disappointed when they realize this is not Match Point 2: Risk Addiction, I thought it was proof that Woody Allen is still fully in control of the style many of us have grown to love.&lt;br /&gt;&lt;br /&gt;This was the most I'd laughed at one of Woody's comedies in years (dare I say a decade?). While I've never been impressed with Scarlet Johanson, in this she managed to tone down her \"sexy\" image and jumped right into a average, but spirited young woman.&lt;br /&gt;&lt;br /&gt;This may not be the crown jewel of his career, but it was wittier than \"Devil Wears Prada\" and more interesting than \"Superman\" a great comedy to go see with friends.</td>\n",
              "      <td>positive</td>\n",
              "    </tr>\n",
              "    <tr>\n",
              "      <th>3</th>\n",
              "      <td>Basically there's a family where a little boy (Jake) thinks there's a zombie in his closet &amp; his parents are fighting all the time.&lt;br /&gt;&lt;br /&gt;This movie is slower than a soap opera... and suddenly, Jake decides to become Rambo and kill the zombie.&lt;br /&gt;&lt;br /&gt;OK, first of all when you're going to make a film you must Decide if its a thriller or a drama! As a drama the movie is watchable. Parents are divorcing &amp; arguing like in real life. And then we have Jake with his closet which totally ruins all the film! I expected to see a BOOGEYMAN similar movie, and instead i watched a drama with some meaningless thriller spots.&lt;br /&gt;&lt;br /&gt;3 out of 10 just for the well playing parents &amp; descent dialogs. As for the shots with Jake: just ignore them.</td>\n",
              "      <td>negative</td>\n",
              "    </tr>\n",
              "    <tr>\n",
              "      <th>4</th>\n",
              "      <td>Petter Mattei's \"Love in the Time of Money\" is a visually stunning film to watch. Mr. Mattei offers us a vivid portrait about human relations. This is a movie that seems to be telling us what money, power and success do to people in the different situations we encounter. &lt;br /&gt;&lt;br /&gt;This being a variation on the Arthur Schnitzler's play about the same theme, the director transfers the action to the present time New York where all these different characters meet and connect. Each one is connected in one way, or another to the next person, but no one seems to know the previous point of contact. Stylishly, the film has a sophisticated luxurious look. We are taken to see how these people live and the world they live in their own habitat.&lt;br /&gt;&lt;br /&gt;The only thing one gets out of all these souls in the picture is the different stages of loneliness each one inhabits. A big city is not exactly the best place in which human relations find sincere fulfillment, as one discerns is the case with most of the people we encounter.&lt;br /&gt;&lt;br /&gt;The acting is good under Mr. Mattei's direction. Steve Buscemi, Rosario Dawson, Carol Kane, Michael Imperioli, Adrian Grenier, and the rest of the talented cast, make these characters come alive.&lt;br /&gt;&lt;br /&gt;We wish Mr. Mattei good luck and await anxiously for his next work.</td>\n",
              "      <td>positive</td>\n",
              "    </tr>\n",
              "  </tbody>\n",
              "</table>\n",
              "</div>\n",
              "      <button class=\"colab-df-convert\" onclick=\"convertToInteractive('df-cb14c8b2-3f44-4553-8f94-7600c89b5f6d')\"\n",
              "              title=\"Convert this dataframe to an interactive table.\"\n",
              "              style=\"display:none;\">\n",
              "\n",
              "  <svg xmlns=\"http://www.w3.org/2000/svg\" height=\"24px\"viewBox=\"0 0 24 24\"\n",
              "       width=\"24px\">\n",
              "    <path d=\"M0 0h24v24H0V0z\" fill=\"none\"/>\n",
              "    <path d=\"M18.56 5.44l.94 2.06.94-2.06 2.06-.94-2.06-.94-.94-2.06-.94 2.06-2.06.94zm-11 1L8.5 8.5l.94-2.06 2.06-.94-2.06-.94L8.5 2.5l-.94 2.06-2.06.94zm10 10l.94 2.06.94-2.06 2.06-.94-2.06-.94-.94-2.06-.94 2.06-2.06.94z\"/><path d=\"M17.41 7.96l-1.37-1.37c-.4-.4-.92-.59-1.43-.59-.52 0-1.04.2-1.43.59L10.3 9.45l-7.72 7.72c-.78.78-.78 2.05 0 2.83L4 21.41c.39.39.9.59 1.41.59.51 0 1.02-.2 1.41-.59l7.78-7.78 2.81-2.81c.8-.78.8-2.07 0-2.86zM5.41 20L4 18.59l7.72-7.72 1.47 1.35L5.41 20z\"/>\n",
              "  </svg>\n",
              "      </button>\n",
              "\n",
              "\n",
              "\n",
              "    <div id=\"df-bccc4c5b-76c9-4f96-b2cd-a529592293a2\">\n",
              "      <button class=\"colab-df-quickchart\" onclick=\"quickchart('df-bccc4c5b-76c9-4f96-b2cd-a529592293a2')\"\n",
              "              title=\"Suggest charts.\"\n",
              "              style=\"display:none;\">\n",
              "\n",
              "<svg xmlns=\"http://www.w3.org/2000/svg\" height=\"24px\"viewBox=\"0 0 24 24\"\n",
              "     width=\"24px\">\n",
              "    <g>\n",
              "        <path d=\"M19 3H5c-1.1 0-2 .9-2 2v14c0 1.1.9 2 2 2h14c1.1 0 2-.9 2-2V5c0-1.1-.9-2-2-2zM9 17H7v-7h2v7zm4 0h-2V7h2v10zm4 0h-2v-4h2v4z\"/>\n",
              "    </g>\n",
              "</svg>\n",
              "      </button>\n",
              "    </div>\n",
              "\n",
              "<style>\n",
              "  .colab-df-quickchart {\n",
              "    background-color: #E8F0FE;\n",
              "    border: none;\n",
              "    border-radius: 50%;\n",
              "    cursor: pointer;\n",
              "    display: none;\n",
              "    fill: #1967D2;\n",
              "    height: 32px;\n",
              "    padding: 0 0 0 0;\n",
              "    width: 32px;\n",
              "  }\n",
              "\n",
              "  .colab-df-quickchart:hover {\n",
              "    background-color: #E2EBFA;\n",
              "    box-shadow: 0px 1px 2px rgba(60, 64, 67, 0.3), 0px 1px 3px 1px rgba(60, 64, 67, 0.15);\n",
              "    fill: #174EA6;\n",
              "  }\n",
              "\n",
              "  [theme=dark] .colab-df-quickchart {\n",
              "    background-color: #3B4455;\n",
              "    fill: #D2E3FC;\n",
              "  }\n",
              "\n",
              "  [theme=dark] .colab-df-quickchart:hover {\n",
              "    background-color: #434B5C;\n",
              "    box-shadow: 0px 1px 3px 1px rgba(0, 0, 0, 0.15);\n",
              "    filter: drop-shadow(0px 1px 2px rgba(0, 0, 0, 0.3));\n",
              "    fill: #FFFFFF;\n",
              "  }\n",
              "</style>\n",
              "\n",
              "    <script>\n",
              "      async function quickchart(key) {\n",
              "        const containerElement = document.querySelector('#' + key);\n",
              "        const charts = await google.colab.kernel.invokeFunction(\n",
              "            'suggestCharts', [key], {});\n",
              "      }\n",
              "    </script>\n",
              "\n",
              "      <script>\n",
              "\n",
              "function displayQuickchartButton(domScope) {\n",
              "  let quickchartButtonEl =\n",
              "    domScope.querySelector('#df-bccc4c5b-76c9-4f96-b2cd-a529592293a2 button.colab-df-quickchart');\n",
              "  quickchartButtonEl.style.display =\n",
              "    google.colab.kernel.accessAllowed ? 'block' : 'none';\n",
              "}\n",
              "\n",
              "        displayQuickchartButton(document);\n",
              "      </script>\n",
              "      <style>\n",
              "    .colab-df-container {\n",
              "      display:flex;\n",
              "      flex-wrap:wrap;\n",
              "      gap: 12px;\n",
              "    }\n",
              "\n",
              "    .colab-df-convert {\n",
              "      background-color: #E8F0FE;\n",
              "      border: none;\n",
              "      border-radius: 50%;\n",
              "      cursor: pointer;\n",
              "      display: none;\n",
              "      fill: #1967D2;\n",
              "      height: 32px;\n",
              "      padding: 0 0 0 0;\n",
              "      width: 32px;\n",
              "    }\n",
              "\n",
              "    .colab-df-convert:hover {\n",
              "      background-color: #E2EBFA;\n",
              "      box-shadow: 0px 1px 2px rgba(60, 64, 67, 0.3), 0px 1px 3px 1px rgba(60, 64, 67, 0.15);\n",
              "      fill: #174EA6;\n",
              "    }\n",
              "\n",
              "    [theme=dark] .colab-df-convert {\n",
              "      background-color: #3B4455;\n",
              "      fill: #D2E3FC;\n",
              "    }\n",
              "\n",
              "    [theme=dark] .colab-df-convert:hover {\n",
              "      background-color: #434B5C;\n",
              "      box-shadow: 0px 1px 3px 1px rgba(0, 0, 0, 0.15);\n",
              "      filter: drop-shadow(0px 1px 2px rgba(0, 0, 0, 0.3));\n",
              "      fill: #FFFFFF;\n",
              "    }\n",
              "  </style>\n",
              "\n",
              "      <script>\n",
              "        const buttonEl =\n",
              "          document.querySelector('#df-cb14c8b2-3f44-4553-8f94-7600c89b5f6d button.colab-df-convert');\n",
              "        buttonEl.style.display =\n",
              "          google.colab.kernel.accessAllowed ? 'block' : 'none';\n",
              "\n",
              "        async function convertToInteractive(key) {\n",
              "          const element = document.querySelector('#df-cb14c8b2-3f44-4553-8f94-7600c89b5f6d');\n",
              "          const dataTable =\n",
              "            await google.colab.kernel.invokeFunction('convertToInteractive',\n",
              "                                                     [key], {});\n",
              "          if (!dataTable) return;\n",
              "\n",
              "          const docLinkHtml = 'Like what you see? Visit the ' +\n",
              "            '<a target=\"_blank\" href=https://colab.research.google.com/notebooks/data_table.ipynb>data table notebook</a>'\n",
              "            + ' to learn more about interactive tables.';\n",
              "          element.innerHTML = '';\n",
              "          dataTable['output_type'] = 'display_data';\n",
              "          await google.colab.output.renderOutput(dataTable, element);\n",
              "          const docLink = document.createElement('div');\n",
              "          docLink.innerHTML = docLinkHtml;\n",
              "          element.appendChild(docLink);\n",
              "        }\n",
              "      </script>\n",
              "    </div>\n",
              "  </div>\n"
            ]
          },
          "metadata": {},
          "execution_count": 3
        }
      ],
      "source": [
        "df = pd.read_csv(\"IMDB Dataset.csv\", encoding='latin1')\n",
        "df.head()"
      ]
    },
    {
      "cell_type": "code",
      "execution_count": 4,
      "id": "645ab607",
      "metadata": {
        "execution": {
          "iopub.execute_input": "2023-03-14T11:24:13.860648Z",
          "iopub.status.busy": "2023-03-14T11:24:13.859932Z",
          "iopub.status.idle": "2023-03-14T11:24:13.874953Z",
          "shell.execute_reply": "2023-03-14T11:24:13.873820Z"
        },
        "papermill": {
          "duration": 0.030275,
          "end_time": "2023-03-14T11:24:13.878283",
          "exception": false,
          "start_time": "2023-03-14T11:24:13.848008",
          "status": "completed"
        },
        "tags": [],
        "colab": {
          "base_uri": "https://localhost:8080/",
          "height": 770
        },
        "id": "645ab607",
        "outputId": "3512184c-45e1-452c-f384-8c3c522600db"
      },
      "outputs": [
        {
          "output_type": "execute_result",
          "data": {
            "text/plain": [
              "                                                                                                                                                                                                                                                                                                                                                                                                                                                                                                                                                                                                                                                                                                                                                                                                                                                                                                                                                                                                                                                                                                                                                                                                                                                                                                                                                                                                                                                                                                                                                                                                                                                                                                                                                                                                                                                                                                                  review  \\\n",
              "32456                                                                                                                                                                                                                                                                                                                                                                                                                                                                                                                                                                                                                                                                                                                                                                                                                                                                                                                       I really really liked this one. I know, it's rampant with what are now clichÃ© plot lines, and plenty of overacting, but it was hell of a lot of fun.<br /><br />In our quest for 70's and 80's horror cheese, we come across many flicks that are so bad they're good. We also have some that are so 'good' they suck, and then, we have some that are so bad they are just bad. This is definitely so bad it's good.<br /><br />Some teens traveling come across an 'oasis' in the middle of nowhere, a forgotten slice of roadside America, and they decide to 'check it out.' They cross every line of inappropriate until it is absurd and they pay for it. They pay dearly.<br /><br />I would not normally give a movie like this a 9, but the girls in this one are the type that we miss from the 1970's: ditzy, scantily-clad and FIT. These aren't the anorexic broads from today's horrible horror; they look awesome in booty shorts.<br /><br />I give it a 9 out of 10, kids.   \n",
              "19617                                                                                                                                                                                                                                                                                                                                                                                                                                                                                                                                                                                                                                                                                                                                                                                                                                                                                                                                                                                            I couldn't help but laugh when I saw what the public could be made to think was email back in 1996. Apparently email is an interactive discussion (similar to a chat) with lame voice synthesis reading every comment out loud. And some of the other \"tech\" aspects are also laugh-out-loud funny. I'd swear the \"high tech\" communications centre she has actually has a few Commodore 64 monitors in it. Almost like watching the movie Hackers nowadays, I guess.<br /><br />Despite the fact that for most of the movie the lead actress carries off the illusion of being disabled, the final part of the movie has an unexplained use of her legs which somehow I can't ignore. I mean, why include something so stupid? <br /><br />Anyway, to sum up: the plot is pretty predictable, the acting bad, the killer quite guessable. But it can be amusing in a Mystery Science Theatre 3000 kind of way I guess.   \n",
              "26651                                                                                                                                                                                                                                                                                                                                                                                                                                                                                                                                                                                                                                                                                                                                                                                                                                                                                                                                                                                                                            I saw this at The Tribeca Film Festival, in the family section. I'm not sure either of my kids really got the movie, but I have to say that it was a wonderful short film.<br /><br />'Nostradamus and Me' is an interesting short film about the hopes and fears that we all felt growing up in the 1980's, which in turn, extends to how my kids feel today. Then, we had Regan, today, we got Bush. Instead of Nuclear War, we have Terrorism.<br /><br />I really identified with the main character, and I myself dated a 'Curehead' in high school. We all felt like 'nothing mattered' when we were 16, but it's great to see a film where they discover that everything matters!!! <br /><br />Again, I probably wouldn't have put this in the family section...there were a few too many curse words for younger children, but it was a wonderful and enjoyable film to watch.   \n",
              "13418  Contain spoilers! These guys are total scam, they did the Lost scrolls of Judas, saying Judas was a huge friend of Jesus... And now this? This is clearly a tryout to destroy a religion, and should be illegal. They have no proof, it could be clearly a setup. How can we know and trust these people? What if they carved the tomb and \"said so\"? And at the end they SEAL the tomb forever so no one can go there investigate? How stupid they think we are, really? Are we supposed to trust that they are trustworthy people? Who really found a tomb of Jesus? And how can you stab all the Christians like this? I think this documentary should NEVER be made by a non religious man. It can ONLY be made by a Christian and I mean the DIRECTION AND SCRIPT. It should be illegal for Jews to film a Christian related documentary, specially if the documentary makes accusations about Jesus not being a \"Son of God who resurrected\" (nothing against this, they could be Buddhists or atheists, anything but Catholic).<br /><br />To me this is a total hoax, a pure documentary-scam. They sealed the tomb so people \"wouldn't\" think about checking things out. This documentary is a total failure, how stupid they think the Christian people are? And what about the Lost pages of Judas... that was a total scam as well, they seriously said at the end, something like: \"We know a few people that could do a fake scrolls just like these, and no one would know it was a fake\"... Oh my god, they just said it.. \"Dude we might have done these\"... This kind of documentary should be illegal, it is a stabbing on all Christians and catholics they should be behind bars!!! I am not a fanatic, I am an ex-Jew, now atheistic, but I have valors and will always respect others people religion, The part when Israel orders the tomb to be sealed forever was PRECIOUS!! PRECIOUS!!   \n",
              "3706                                                                                                                                                                                                                                                                                                                                                                                                    This is one of the better sci-fi series. It involves character development, a few really tensionate moments and reasonable episode scripts. As one other commentator said here, it looked as if it were a mini series, not a full blown series with filler episodes and low budgets.<br /><br />The problem with the show, which in short is a Godzilla series, is that it started too big, with incredible monsters, fantastic science, then it all boiled down to local Americans doing stuff. Then, the show ended too soon, since the Olympics were coming and hey! a sci-fi show is a sci-fi show, but half naked athletic people running around aimlessly is much more important. So they only did 15 episodes instead of the expected 22. The audience was small, too, as people didn't really caught it on at 20:00. In the end the suits did it. Trust a marketing plan to destroy anything that looks remotely original and promising.<br /><br />Conclusion: you have a show with good special effects, stuff like huge monsters killing people or destroying boats, then going into genetic engineering, transforming people, human clones, end of the world, tsunamis. Also, the only fillers are scenes with aggressive rednecks or other annoying people being killed for their stupidity. The down-side is that after 15 episodes that prepare something huge, the show ends. No real ending, no closure, just a bitter taste of cloth in one's mouth, as if you just swallowed a piece of suit.   \n",
              "\n",
              "      sentiment  \n",
              "32456  positive  \n",
              "19617  negative  \n",
              "26651  positive  \n",
              "13418  negative  \n",
              "3706   positive  "
            ],
            "text/html": [
              "\n",
              "\n",
              "  <div id=\"df-08adfbae-6b01-4db8-9c2a-45598a79d215\">\n",
              "    <div class=\"colab-df-container\">\n",
              "      <div>\n",
              "<style scoped>\n",
              "    .dataframe tbody tr th:only-of-type {\n",
              "        vertical-align: middle;\n",
              "    }\n",
              "\n",
              "    .dataframe tbody tr th {\n",
              "        vertical-align: top;\n",
              "    }\n",
              "\n",
              "    .dataframe thead th {\n",
              "        text-align: right;\n",
              "    }\n",
              "</style>\n",
              "<table border=\"1\" class=\"dataframe\">\n",
              "  <thead>\n",
              "    <tr style=\"text-align: right;\">\n",
              "      <th></th>\n",
              "      <th>review</th>\n",
              "      <th>sentiment</th>\n",
              "    </tr>\n",
              "  </thead>\n",
              "  <tbody>\n",
              "    <tr>\n",
              "      <th>32456</th>\n",
              "      <td>I really really liked this one. I know, it's rampant with what are now clichÃ© plot lines, and plenty of overacting, but it was hell of a lot of fun.&lt;br /&gt;&lt;br /&gt;In our quest for 70's and 80's horror cheese, we come across many flicks that are so bad they're good. We also have some that are so 'good' they suck, and then, we have some that are so bad they are just bad. This is definitely so bad it's good.&lt;br /&gt;&lt;br /&gt;Some teens traveling come across an 'oasis' in the middle of nowhere, a forgotten slice of roadside America, and they decide to 'check it out.' They cross every line of inappropriate until it is absurd and they pay for it. They pay dearly.&lt;br /&gt;&lt;br /&gt;I would not normally give a movie like this a 9, but the girls in this one are the type that we miss from the 1970's: ditzy, scantily-clad and FIT. These aren't the anorexic broads from today's horrible horror; they look awesome in booty shorts.&lt;br /&gt;&lt;br /&gt;I give it a 9 out of 10, kids.</td>\n",
              "      <td>positive</td>\n",
              "    </tr>\n",
              "    <tr>\n",
              "      <th>19617</th>\n",
              "      <td>I couldn't help but laugh when I saw what the public could be made to think was email back in 1996. Apparently email is an interactive discussion (similar to a chat) with lame voice synthesis reading every comment out loud. And some of the other \"tech\" aspects are also laugh-out-loud funny. I'd swear the \"high tech\" communications centre she has actually has a few Commodore 64 monitors in it. Almost like watching the movie Hackers nowadays, I guess.&lt;br /&gt;&lt;br /&gt;Despite the fact that for most of the movie the lead actress carries off the illusion of being disabled, the final part of the movie has an unexplained use of her legs which somehow I can't ignore. I mean, why include something so stupid? &lt;br /&gt;&lt;br /&gt;Anyway, to sum up: the plot is pretty predictable, the acting bad, the killer quite guessable. But it can be amusing in a Mystery Science Theatre 3000 kind of way I guess.</td>\n",
              "      <td>negative</td>\n",
              "    </tr>\n",
              "    <tr>\n",
              "      <th>26651</th>\n",
              "      <td>I saw this at The Tribeca Film Festival, in the family section. I'm not sure either of my kids really got the movie, but I have to say that it was a wonderful short film.&lt;br /&gt;&lt;br /&gt;'Nostradamus and Me' is an interesting short film about the hopes and fears that we all felt growing up in the 1980's, which in turn, extends to how my kids feel today. Then, we had Regan, today, we got Bush. Instead of Nuclear War, we have Terrorism.&lt;br /&gt;&lt;br /&gt;I really identified with the main character, and I myself dated a 'Curehead' in high school. We all felt like 'nothing mattered' when we were 16, but it's great to see a film where they discover that everything matters!!! &lt;br /&gt;&lt;br /&gt;Again, I probably wouldn't have put this in the family section...there were a few too many curse words for younger children, but it was a wonderful and enjoyable film to watch.</td>\n",
              "      <td>positive</td>\n",
              "    </tr>\n",
              "    <tr>\n",
              "      <th>13418</th>\n",
              "      <td>Contain spoilers! These guys are total scam, they did the Lost scrolls of Judas, saying Judas was a huge friend of Jesus... And now this? This is clearly a tryout to destroy a religion, and should be illegal. They have no proof, it could be clearly a setup. How can we know and trust these people? What if they carved the tomb and \"said so\"? And at the end they SEAL the tomb forever so no one can go there investigate? How stupid they think we are, really? Are we supposed to trust that they are trustworthy people? Who really found a tomb of Jesus? And how can you stab all the Christians like this? I think this documentary should NEVER be made by a non religious man. It can ONLY be made by a Christian and I mean the DIRECTION AND SCRIPT. It should be illegal for Jews to film a Christian related documentary, specially if the documentary makes accusations about Jesus not being a \"Son of God who resurrected\" (nothing against this, they could be Buddhists or atheists, anything but Catholic).&lt;br /&gt;&lt;br /&gt;To me this is a total hoax, a pure documentary-scam. They sealed the tomb so people \"wouldn't\" think about checking things out. This documentary is a total failure, how stupid they think the Christian people are? And what about the Lost pages of Judas... that was a total scam as well, they seriously said at the end, something like: \"We know a few people that could do a fake scrolls just like these, and no one would know it was a fake\"... Oh my god, they just said it.. \"Dude we might have done these\"... This kind of documentary should be illegal, it is a stabbing on all Christians and catholics they should be behind bars!!! I am not a fanatic, I am an ex-Jew, now atheistic, but I have valors and will always respect others people religion, The part when Israel orders the tomb to be sealed forever was PRECIOUS!! PRECIOUS!!</td>\n",
              "      <td>negative</td>\n",
              "    </tr>\n",
              "    <tr>\n",
              "      <th>3706</th>\n",
              "      <td>This is one of the better sci-fi series. It involves character development, a few really tensionate moments and reasonable episode scripts. As one other commentator said here, it looked as if it were a mini series, not a full blown series with filler episodes and low budgets.&lt;br /&gt;&lt;br /&gt;The problem with the show, which in short is a Godzilla series, is that it started too big, with incredible monsters, fantastic science, then it all boiled down to local Americans doing stuff. Then, the show ended too soon, since the Olympics were coming and hey! a sci-fi show is a sci-fi show, but half naked athletic people running around aimlessly is much more important. So they only did 15 episodes instead of the expected 22. The audience was small, too, as people didn't really caught it on at 20:00. In the end the suits did it. Trust a marketing plan to destroy anything that looks remotely original and promising.&lt;br /&gt;&lt;br /&gt;Conclusion: you have a show with good special effects, stuff like huge monsters killing people or destroying boats, then going into genetic engineering, transforming people, human clones, end of the world, tsunamis. Also, the only fillers are scenes with aggressive rednecks or other annoying people being killed for their stupidity. The down-side is that after 15 episodes that prepare something huge, the show ends. No real ending, no closure, just a bitter taste of cloth in one's mouth, as if you just swallowed a piece of suit.</td>\n",
              "      <td>positive</td>\n",
              "    </tr>\n",
              "  </tbody>\n",
              "</table>\n",
              "</div>\n",
              "      <button class=\"colab-df-convert\" onclick=\"convertToInteractive('df-08adfbae-6b01-4db8-9c2a-45598a79d215')\"\n",
              "              title=\"Convert this dataframe to an interactive table.\"\n",
              "              style=\"display:none;\">\n",
              "\n",
              "  <svg xmlns=\"http://www.w3.org/2000/svg\" height=\"24px\"viewBox=\"0 0 24 24\"\n",
              "       width=\"24px\">\n",
              "    <path d=\"M0 0h24v24H0V0z\" fill=\"none\"/>\n",
              "    <path d=\"M18.56 5.44l.94 2.06.94-2.06 2.06-.94-2.06-.94-.94-2.06-.94 2.06-2.06.94zm-11 1L8.5 8.5l.94-2.06 2.06-.94-2.06-.94L8.5 2.5l-.94 2.06-2.06.94zm10 10l.94 2.06.94-2.06 2.06-.94-2.06-.94-.94-2.06-.94 2.06-2.06.94z\"/><path d=\"M17.41 7.96l-1.37-1.37c-.4-.4-.92-.59-1.43-.59-.52 0-1.04.2-1.43.59L10.3 9.45l-7.72 7.72c-.78.78-.78 2.05 0 2.83L4 21.41c.39.39.9.59 1.41.59.51 0 1.02-.2 1.41-.59l7.78-7.78 2.81-2.81c.8-.78.8-2.07 0-2.86zM5.41 20L4 18.59l7.72-7.72 1.47 1.35L5.41 20z\"/>\n",
              "  </svg>\n",
              "      </button>\n",
              "\n",
              "\n",
              "\n",
              "    <div id=\"df-2ad3165c-0288-4f1f-9f34-a7c7ee6bf1e0\">\n",
              "      <button class=\"colab-df-quickchart\" onclick=\"quickchart('df-2ad3165c-0288-4f1f-9f34-a7c7ee6bf1e0')\"\n",
              "              title=\"Suggest charts.\"\n",
              "              style=\"display:none;\">\n",
              "\n",
              "<svg xmlns=\"http://www.w3.org/2000/svg\" height=\"24px\"viewBox=\"0 0 24 24\"\n",
              "     width=\"24px\">\n",
              "    <g>\n",
              "        <path d=\"M19 3H5c-1.1 0-2 .9-2 2v14c0 1.1.9 2 2 2h14c1.1 0 2-.9 2-2V5c0-1.1-.9-2-2-2zM9 17H7v-7h2v7zm4 0h-2V7h2v10zm4 0h-2v-4h2v4z\"/>\n",
              "    </g>\n",
              "</svg>\n",
              "      </button>\n",
              "    </div>\n",
              "\n",
              "<style>\n",
              "  .colab-df-quickchart {\n",
              "    background-color: #E8F0FE;\n",
              "    border: none;\n",
              "    border-radius: 50%;\n",
              "    cursor: pointer;\n",
              "    display: none;\n",
              "    fill: #1967D2;\n",
              "    height: 32px;\n",
              "    padding: 0 0 0 0;\n",
              "    width: 32px;\n",
              "  }\n",
              "\n",
              "  .colab-df-quickchart:hover {\n",
              "    background-color: #E2EBFA;\n",
              "    box-shadow: 0px 1px 2px rgba(60, 64, 67, 0.3), 0px 1px 3px 1px rgba(60, 64, 67, 0.15);\n",
              "    fill: #174EA6;\n",
              "  }\n",
              "\n",
              "  [theme=dark] .colab-df-quickchart {\n",
              "    background-color: #3B4455;\n",
              "    fill: #D2E3FC;\n",
              "  }\n",
              "\n",
              "  [theme=dark] .colab-df-quickchart:hover {\n",
              "    background-color: #434B5C;\n",
              "    box-shadow: 0px 1px 3px 1px rgba(0, 0, 0, 0.15);\n",
              "    filter: drop-shadow(0px 1px 2px rgba(0, 0, 0, 0.3));\n",
              "    fill: #FFFFFF;\n",
              "  }\n",
              "</style>\n",
              "\n",
              "    <script>\n",
              "      async function quickchart(key) {\n",
              "        const containerElement = document.querySelector('#' + key);\n",
              "        const charts = await google.colab.kernel.invokeFunction(\n",
              "            'suggestCharts', [key], {});\n",
              "      }\n",
              "    </script>\n",
              "\n",
              "      <script>\n",
              "\n",
              "function displayQuickchartButton(domScope) {\n",
              "  let quickchartButtonEl =\n",
              "    domScope.querySelector('#df-2ad3165c-0288-4f1f-9f34-a7c7ee6bf1e0 button.colab-df-quickchart');\n",
              "  quickchartButtonEl.style.display =\n",
              "    google.colab.kernel.accessAllowed ? 'block' : 'none';\n",
              "}\n",
              "\n",
              "        displayQuickchartButton(document);\n",
              "      </script>\n",
              "      <style>\n",
              "    .colab-df-container {\n",
              "      display:flex;\n",
              "      flex-wrap:wrap;\n",
              "      gap: 12px;\n",
              "    }\n",
              "\n",
              "    .colab-df-convert {\n",
              "      background-color: #E8F0FE;\n",
              "      border: none;\n",
              "      border-radius: 50%;\n",
              "      cursor: pointer;\n",
              "      display: none;\n",
              "      fill: #1967D2;\n",
              "      height: 32px;\n",
              "      padding: 0 0 0 0;\n",
              "      width: 32px;\n",
              "    }\n",
              "\n",
              "    .colab-df-convert:hover {\n",
              "      background-color: #E2EBFA;\n",
              "      box-shadow: 0px 1px 2px rgba(60, 64, 67, 0.3), 0px 1px 3px 1px rgba(60, 64, 67, 0.15);\n",
              "      fill: #174EA6;\n",
              "    }\n",
              "\n",
              "    [theme=dark] .colab-df-convert {\n",
              "      background-color: #3B4455;\n",
              "      fill: #D2E3FC;\n",
              "    }\n",
              "\n",
              "    [theme=dark] .colab-df-convert:hover {\n",
              "      background-color: #434B5C;\n",
              "      box-shadow: 0px 1px 3px 1px rgba(0, 0, 0, 0.15);\n",
              "      filter: drop-shadow(0px 1px 2px rgba(0, 0, 0, 0.3));\n",
              "      fill: #FFFFFF;\n",
              "    }\n",
              "  </style>\n",
              "\n",
              "      <script>\n",
              "        const buttonEl =\n",
              "          document.querySelector('#df-08adfbae-6b01-4db8-9c2a-45598a79d215 button.colab-df-convert');\n",
              "        buttonEl.style.display =\n",
              "          google.colab.kernel.accessAllowed ? 'block' : 'none';\n",
              "\n",
              "        async function convertToInteractive(key) {\n",
              "          const element = document.querySelector('#df-08adfbae-6b01-4db8-9c2a-45598a79d215');\n",
              "          const dataTable =\n",
              "            await google.colab.kernel.invokeFunction('convertToInteractive',\n",
              "                                                     [key], {});\n",
              "          if (!dataTable) return;\n",
              "\n",
              "          const docLinkHtml = 'Like what you see? Visit the ' +\n",
              "            '<a target=\"_blank\" href=https://colab.research.google.com/notebooks/data_table.ipynb>data table notebook</a>'\n",
              "            + ' to learn more about interactive tables.';\n",
              "          element.innerHTML = '';\n",
              "          dataTable['output_type'] = 'display_data';\n",
              "          await google.colab.output.renderOutput(dataTable, element);\n",
              "          const docLink = document.createElement('div');\n",
              "          docLink.innerHTML = docLinkHtml;\n",
              "          element.appendChild(docLink);\n",
              "        }\n",
              "      </script>\n",
              "    </div>\n",
              "  </div>\n"
            ]
          },
          "metadata": {},
          "execution_count": 4
        }
      ],
      "source": [
        "df.sample(5)"
      ]
    },
    {
      "cell_type": "code",
      "execution_count": 5,
      "id": "c7b46e44",
      "metadata": {
        "execution": {
          "iopub.execute_input": "2023-03-14T11:24:13.900321Z",
          "iopub.status.busy": "2023-03-14T11:24:13.900008Z",
          "iopub.status.idle": "2023-03-14T11:24:13.906374Z",
          "shell.execute_reply": "2023-03-14T11:24:13.905236Z"
        },
        "papermill": {
          "duration": 0.019992,
          "end_time": "2023-03-14T11:24:13.908667",
          "exception": false,
          "start_time": "2023-03-14T11:24:13.888675",
          "status": "completed"
        },
        "tags": [],
        "colab": {
          "base_uri": "https://localhost:8080/"
        },
        "id": "c7b46e44",
        "outputId": "faa7e4d9-e2d4-456e-b908-1a4f357762aa"
      },
      "outputs": [
        {
          "output_type": "execute_result",
          "data": {
            "text/plain": [
              "(50000, 2)"
            ]
          },
          "metadata": {},
          "execution_count": 5
        }
      ],
      "source": [
        "df.shape"
      ]
    },
    {
      "cell_type": "code",
      "execution_count": 6,
      "id": "b8fbeea7",
      "metadata": {
        "execution": {
          "iopub.execute_input": "2023-03-14T11:24:13.930326Z",
          "iopub.status.busy": "2023-03-14T11:24:13.929946Z",
          "iopub.status.idle": "2023-03-14T11:24:14.020318Z",
          "shell.execute_reply": "2023-03-14T11:24:14.019244Z"
        },
        "papermill": {
          "duration": 0.103776,
          "end_time": "2023-03-14T11:24:14.022547",
          "exception": false,
          "start_time": "2023-03-14T11:24:13.918771",
          "status": "completed"
        },
        "tags": [],
        "colab": {
          "base_uri": "https://localhost:8080/",
          "height": 288
        },
        "id": "b8fbeea7",
        "outputId": "51ecb6c3-9d0e-4292-d239-9d7d74188705"
      },
      "outputs": [
        {
          "output_type": "execute_result",
          "data": {
            "text/plain": [
              "                                                                                                                                                                                                                                                                                                                                                                                                                                                                                                                                                                                                                                                                                                                                                                                                                          review  \\\n",
              "count                                                                                                                                                                                                                                                                                                                                                                                                                                                                                                                                                                                                                                                                                                                                                                                                                      50000   \n",
              "unique                                                                                                                                                                                                                                                                                                                                                                                                                                                                                                                                                                                                                                                                                                                                                                                                                     49582   \n",
              "top     Loved today's show!!! It was a variety and not solely cooking (which would have been great too). Very stimulating and captivating, always keeping the viewer peeking around the corner to see what was coming up next. She is as down to earth and as personable as you get, like one of us which made the show all the more enjoyable. Special guests, who are friends as well made for a nice surprise too. Loved the 'first' theme and that the audience was invited to play along too. I must admit I was shocked to see her come in under her time limits on a few things, but she did it and by golly I'll be writing those recipes down. Saving time in the kitchen means more time with family. Those who haven't tuned in yet, find out what channel and the time, I assure you that you won't be disappointed.   \n",
              "freq                                                                                                                                                                                                                                                                                                                                                                                                                                                                                                                                                                                                                                                                                                                                                                                                                           5   \n",
              "\n",
              "       sentiment  \n",
              "count      50000  \n",
              "unique         2  \n",
              "top     positive  \n",
              "freq       25000  "
            ],
            "text/html": [
              "\n",
              "\n",
              "  <div id=\"df-c50e1279-5996-419b-8a3c-a8dd195d3b64\">\n",
              "    <div class=\"colab-df-container\">\n",
              "      <div>\n",
              "<style scoped>\n",
              "    .dataframe tbody tr th:only-of-type {\n",
              "        vertical-align: middle;\n",
              "    }\n",
              "\n",
              "    .dataframe tbody tr th {\n",
              "        vertical-align: top;\n",
              "    }\n",
              "\n",
              "    .dataframe thead th {\n",
              "        text-align: right;\n",
              "    }\n",
              "</style>\n",
              "<table border=\"1\" class=\"dataframe\">\n",
              "  <thead>\n",
              "    <tr style=\"text-align: right;\">\n",
              "      <th></th>\n",
              "      <th>review</th>\n",
              "      <th>sentiment</th>\n",
              "    </tr>\n",
              "  </thead>\n",
              "  <tbody>\n",
              "    <tr>\n",
              "      <th>count</th>\n",
              "      <td>50000</td>\n",
              "      <td>50000</td>\n",
              "    </tr>\n",
              "    <tr>\n",
              "      <th>unique</th>\n",
              "      <td>49582</td>\n",
              "      <td>2</td>\n",
              "    </tr>\n",
              "    <tr>\n",
              "      <th>top</th>\n",
              "      <td>Loved today's show!!! It was a variety and not solely cooking (which would have been great too). Very stimulating and captivating, always keeping the viewer peeking around the corner to see what was coming up next. She is as down to earth and as personable as you get, like one of us which made the show all the more enjoyable. Special guests, who are friends as well made for a nice surprise too. Loved the 'first' theme and that the audience was invited to play along too. I must admit I was shocked to see her come in under her time limits on a few things, but she did it and by golly I'll be writing those recipes down. Saving time in the kitchen means more time with family. Those who haven't tuned in yet, find out what channel and the time, I assure you that you won't be disappointed.</td>\n",
              "      <td>positive</td>\n",
              "    </tr>\n",
              "    <tr>\n",
              "      <th>freq</th>\n",
              "      <td>5</td>\n",
              "      <td>25000</td>\n",
              "    </tr>\n",
              "  </tbody>\n",
              "</table>\n",
              "</div>\n",
              "      <button class=\"colab-df-convert\" onclick=\"convertToInteractive('df-c50e1279-5996-419b-8a3c-a8dd195d3b64')\"\n",
              "              title=\"Convert this dataframe to an interactive table.\"\n",
              "              style=\"display:none;\">\n",
              "\n",
              "  <svg xmlns=\"http://www.w3.org/2000/svg\" height=\"24px\"viewBox=\"0 0 24 24\"\n",
              "       width=\"24px\">\n",
              "    <path d=\"M0 0h24v24H0V0z\" fill=\"none\"/>\n",
              "    <path d=\"M18.56 5.44l.94 2.06.94-2.06 2.06-.94-2.06-.94-.94-2.06-.94 2.06-2.06.94zm-11 1L8.5 8.5l.94-2.06 2.06-.94-2.06-.94L8.5 2.5l-.94 2.06-2.06.94zm10 10l.94 2.06.94-2.06 2.06-.94-2.06-.94-.94-2.06-.94 2.06-2.06.94z\"/><path d=\"M17.41 7.96l-1.37-1.37c-.4-.4-.92-.59-1.43-.59-.52 0-1.04.2-1.43.59L10.3 9.45l-7.72 7.72c-.78.78-.78 2.05 0 2.83L4 21.41c.39.39.9.59 1.41.59.51 0 1.02-.2 1.41-.59l7.78-7.78 2.81-2.81c.8-.78.8-2.07 0-2.86zM5.41 20L4 18.59l7.72-7.72 1.47 1.35L5.41 20z\"/>\n",
              "  </svg>\n",
              "      </button>\n",
              "\n",
              "\n",
              "\n",
              "    <div id=\"df-affacd27-bca9-4926-aecb-813daea4b372\">\n",
              "      <button class=\"colab-df-quickchart\" onclick=\"quickchart('df-affacd27-bca9-4926-aecb-813daea4b372')\"\n",
              "              title=\"Suggest charts.\"\n",
              "              style=\"display:none;\">\n",
              "\n",
              "<svg xmlns=\"http://www.w3.org/2000/svg\" height=\"24px\"viewBox=\"0 0 24 24\"\n",
              "     width=\"24px\">\n",
              "    <g>\n",
              "        <path d=\"M19 3H5c-1.1 0-2 .9-2 2v14c0 1.1.9 2 2 2h14c1.1 0 2-.9 2-2V5c0-1.1-.9-2-2-2zM9 17H7v-7h2v7zm4 0h-2V7h2v10zm4 0h-2v-4h2v4z\"/>\n",
              "    </g>\n",
              "</svg>\n",
              "      </button>\n",
              "    </div>\n",
              "\n",
              "<style>\n",
              "  .colab-df-quickchart {\n",
              "    background-color: #E8F0FE;\n",
              "    border: none;\n",
              "    border-radius: 50%;\n",
              "    cursor: pointer;\n",
              "    display: none;\n",
              "    fill: #1967D2;\n",
              "    height: 32px;\n",
              "    padding: 0 0 0 0;\n",
              "    width: 32px;\n",
              "  }\n",
              "\n",
              "  .colab-df-quickchart:hover {\n",
              "    background-color: #E2EBFA;\n",
              "    box-shadow: 0px 1px 2px rgba(60, 64, 67, 0.3), 0px 1px 3px 1px rgba(60, 64, 67, 0.15);\n",
              "    fill: #174EA6;\n",
              "  }\n",
              "\n",
              "  [theme=dark] .colab-df-quickchart {\n",
              "    background-color: #3B4455;\n",
              "    fill: #D2E3FC;\n",
              "  }\n",
              "\n",
              "  [theme=dark] .colab-df-quickchart:hover {\n",
              "    background-color: #434B5C;\n",
              "    box-shadow: 0px 1px 3px 1px rgba(0, 0, 0, 0.15);\n",
              "    filter: drop-shadow(0px 1px 2px rgba(0, 0, 0, 0.3));\n",
              "    fill: #FFFFFF;\n",
              "  }\n",
              "</style>\n",
              "\n",
              "    <script>\n",
              "      async function quickchart(key) {\n",
              "        const containerElement = document.querySelector('#' + key);\n",
              "        const charts = await google.colab.kernel.invokeFunction(\n",
              "            'suggestCharts', [key], {});\n",
              "      }\n",
              "    </script>\n",
              "\n",
              "      <script>\n",
              "\n",
              "function displayQuickchartButton(domScope) {\n",
              "  let quickchartButtonEl =\n",
              "    domScope.querySelector('#df-affacd27-bca9-4926-aecb-813daea4b372 button.colab-df-quickchart');\n",
              "  quickchartButtonEl.style.display =\n",
              "    google.colab.kernel.accessAllowed ? 'block' : 'none';\n",
              "}\n",
              "\n",
              "        displayQuickchartButton(document);\n",
              "      </script>\n",
              "      <style>\n",
              "    .colab-df-container {\n",
              "      display:flex;\n",
              "      flex-wrap:wrap;\n",
              "      gap: 12px;\n",
              "    }\n",
              "\n",
              "    .colab-df-convert {\n",
              "      background-color: #E8F0FE;\n",
              "      border: none;\n",
              "      border-radius: 50%;\n",
              "      cursor: pointer;\n",
              "      display: none;\n",
              "      fill: #1967D2;\n",
              "      height: 32px;\n",
              "      padding: 0 0 0 0;\n",
              "      width: 32px;\n",
              "    }\n",
              "\n",
              "    .colab-df-convert:hover {\n",
              "      background-color: #E2EBFA;\n",
              "      box-shadow: 0px 1px 2px rgba(60, 64, 67, 0.3), 0px 1px 3px 1px rgba(60, 64, 67, 0.15);\n",
              "      fill: #174EA6;\n",
              "    }\n",
              "\n",
              "    [theme=dark] .colab-df-convert {\n",
              "      background-color: #3B4455;\n",
              "      fill: #D2E3FC;\n",
              "    }\n",
              "\n",
              "    [theme=dark] .colab-df-convert:hover {\n",
              "      background-color: #434B5C;\n",
              "      box-shadow: 0px 1px 3px 1px rgba(0, 0, 0, 0.15);\n",
              "      filter: drop-shadow(0px 1px 2px rgba(0, 0, 0, 0.3));\n",
              "      fill: #FFFFFF;\n",
              "    }\n",
              "  </style>\n",
              "\n",
              "      <script>\n",
              "        const buttonEl =\n",
              "          document.querySelector('#df-c50e1279-5996-419b-8a3c-a8dd195d3b64 button.colab-df-convert');\n",
              "        buttonEl.style.display =\n",
              "          google.colab.kernel.accessAllowed ? 'block' : 'none';\n",
              "\n",
              "        async function convertToInteractive(key) {\n",
              "          const element = document.querySelector('#df-c50e1279-5996-419b-8a3c-a8dd195d3b64');\n",
              "          const dataTable =\n",
              "            await google.colab.kernel.invokeFunction('convertToInteractive',\n",
              "                                                     [key], {});\n",
              "          if (!dataTable) return;\n",
              "\n",
              "          const docLinkHtml = 'Like what you see? Visit the ' +\n",
              "            '<a target=\"_blank\" href=https://colab.research.google.com/notebooks/data_table.ipynb>data table notebook</a>'\n",
              "            + ' to learn more about interactive tables.';\n",
              "          element.innerHTML = '';\n",
              "          dataTable['output_type'] = 'display_data';\n",
              "          await google.colab.output.renderOutput(dataTable, element);\n",
              "          const docLink = document.createElement('div');\n",
              "          docLink.innerHTML = docLinkHtml;\n",
              "          element.appendChild(docLink);\n",
              "        }\n",
              "      </script>\n",
              "    </div>\n",
              "  </div>\n"
            ]
          },
          "metadata": {},
          "execution_count": 6
        }
      ],
      "source": [
        "df.describe()"
      ]
    },
    {
      "cell_type": "code",
      "execution_count": 7,
      "id": "b8cbe8b9",
      "metadata": {
        "execution": {
          "iopub.execute_input": "2023-03-14T11:24:14.045821Z",
          "iopub.status.busy": "2023-03-14T11:24:14.044872Z",
          "iopub.status.idle": "2023-03-14T11:24:14.054849Z",
          "shell.execute_reply": "2023-03-14T11:24:14.053765Z"
        },
        "papermill": {
          "duration": 0.02433,
          "end_time": "2023-03-14T11:24:14.057644",
          "exception": false,
          "start_time": "2023-03-14T11:24:14.033314",
          "status": "completed"
        },
        "tags": [],
        "colab": {
          "base_uri": "https://localhost:8080/"
        },
        "id": "b8cbe8b9",
        "outputId": "1395f442-9f67-4336-8a7c-bda57b5fdb94"
      },
      "outputs": [
        {
          "output_type": "execute_result",
          "data": {
            "text/plain": [
              "positive    25000\n",
              "negative    25000\n",
              "Name: sentiment, dtype: int64"
            ]
          },
          "metadata": {},
          "execution_count": 7
        }
      ],
      "source": [
        "df['sentiment'].value_counts()"
      ]
    },
    {
      "cell_type": "code",
      "execution_count": 8,
      "id": "fb110356",
      "metadata": {
        "execution": {
          "iopub.execute_input": "2023-03-14T11:24:14.081073Z",
          "iopub.status.busy": "2023-03-14T11:24:14.080138Z",
          "iopub.status.idle": "2023-03-14T11:24:14.124214Z",
          "shell.execute_reply": "2023-03-14T11:24:14.123059Z"
        },
        "papermill": {
          "duration": 0.058935,
          "end_time": "2023-03-14T11:24:14.127225",
          "exception": false,
          "start_time": "2023-03-14T11:24:14.068290",
          "status": "completed"
        },
        "tags": [],
        "colab": {
          "base_uri": "https://localhost:8080/",
          "height": 288
        },
        "id": "fb110356",
        "outputId": "eb71183d-d86b-4b3d-91aa-434bf2882e39"
      },
      "outputs": [
        {
          "output_type": "execute_result",
          "data": {
            "text/plain": [
              "                                                                                                                                                                                                                                                                                                                                                                                                                                                                                                                                                                                                                                                                                                                                                                                                                          review  \\\n",
              "count                                                                                                                                                                                                                                                                                                                                                                                                                                                                                                                                                                                                                                                                                                                                                                                                                      50000   \n",
              "unique                                                                                                                                                                                                                                                                                                                                                                                                                                                                                                                                                                                                                                                                                                                                                                                                                     49582   \n",
              "top     Loved today's show!!! It was a variety and not solely cooking (which would have been great too). Very stimulating and captivating, always keeping the viewer peeking around the corner to see what was coming up next. She is as down to earth and as personable as you get, like one of us which made the show all the more enjoyable. Special guests, who are friends as well made for a nice surprise too. Loved the 'first' theme and that the audience was invited to play along too. I must admit I was shocked to see her come in under her time limits on a few things, but she did it and by golly I'll be writing those recipes down. Saving time in the kitchen means more time with family. Those who haven't tuned in yet, find out what channel and the time, I assure you that you won't be disappointed.   \n",
              "freq                                                                                                                                                                                                                                                                                                                                                                                                                                                                                                                                                                                                                                                                                                                                                                                                                           5   \n",
              "\n",
              "       sentiment  \n",
              "count      50000  \n",
              "unique         2  \n",
              "top     positive  \n",
              "freq       25000  "
            ],
            "text/html": [
              "\n",
              "\n",
              "  <div id=\"df-fdff5f3c-9dd2-4314-b0da-fb7288c1f7d1\">\n",
              "    <div class=\"colab-df-container\">\n",
              "      <div>\n",
              "<style scoped>\n",
              "    .dataframe tbody tr th:only-of-type {\n",
              "        vertical-align: middle;\n",
              "    }\n",
              "\n",
              "    .dataframe tbody tr th {\n",
              "        vertical-align: top;\n",
              "    }\n",
              "\n",
              "    .dataframe thead th {\n",
              "        text-align: right;\n",
              "    }\n",
              "</style>\n",
              "<table border=\"1\" class=\"dataframe\">\n",
              "  <thead>\n",
              "    <tr style=\"text-align: right;\">\n",
              "      <th></th>\n",
              "      <th>review</th>\n",
              "      <th>sentiment</th>\n",
              "    </tr>\n",
              "  </thead>\n",
              "  <tbody>\n",
              "    <tr>\n",
              "      <th>count</th>\n",
              "      <td>50000</td>\n",
              "      <td>50000</td>\n",
              "    </tr>\n",
              "    <tr>\n",
              "      <th>unique</th>\n",
              "      <td>49582</td>\n",
              "      <td>2</td>\n",
              "    </tr>\n",
              "    <tr>\n",
              "      <th>top</th>\n",
              "      <td>Loved today's show!!! It was a variety and not solely cooking (which would have been great too). Very stimulating and captivating, always keeping the viewer peeking around the corner to see what was coming up next. She is as down to earth and as personable as you get, like one of us which made the show all the more enjoyable. Special guests, who are friends as well made for a nice surprise too. Loved the 'first' theme and that the audience was invited to play along too. I must admit I was shocked to see her come in under her time limits on a few things, but she did it and by golly I'll be writing those recipes down. Saving time in the kitchen means more time with family. Those who haven't tuned in yet, find out what channel and the time, I assure you that you won't be disappointed.</td>\n",
              "      <td>positive</td>\n",
              "    </tr>\n",
              "    <tr>\n",
              "      <th>freq</th>\n",
              "      <td>5</td>\n",
              "      <td>25000</td>\n",
              "    </tr>\n",
              "  </tbody>\n",
              "</table>\n",
              "</div>\n",
              "      <button class=\"colab-df-convert\" onclick=\"convertToInteractive('df-fdff5f3c-9dd2-4314-b0da-fb7288c1f7d1')\"\n",
              "              title=\"Convert this dataframe to an interactive table.\"\n",
              "              style=\"display:none;\">\n",
              "\n",
              "  <svg xmlns=\"http://www.w3.org/2000/svg\" height=\"24px\"viewBox=\"0 0 24 24\"\n",
              "       width=\"24px\">\n",
              "    <path d=\"M0 0h24v24H0V0z\" fill=\"none\"/>\n",
              "    <path d=\"M18.56 5.44l.94 2.06.94-2.06 2.06-.94-2.06-.94-.94-2.06-.94 2.06-2.06.94zm-11 1L8.5 8.5l.94-2.06 2.06-.94-2.06-.94L8.5 2.5l-.94 2.06-2.06.94zm10 10l.94 2.06.94-2.06 2.06-.94-2.06-.94-.94-2.06-.94 2.06-2.06.94z\"/><path d=\"M17.41 7.96l-1.37-1.37c-.4-.4-.92-.59-1.43-.59-.52 0-1.04.2-1.43.59L10.3 9.45l-7.72 7.72c-.78.78-.78 2.05 0 2.83L4 21.41c.39.39.9.59 1.41.59.51 0 1.02-.2 1.41-.59l7.78-7.78 2.81-2.81c.8-.78.8-2.07 0-2.86zM5.41 20L4 18.59l7.72-7.72 1.47 1.35L5.41 20z\"/>\n",
              "  </svg>\n",
              "      </button>\n",
              "\n",
              "\n",
              "\n",
              "    <div id=\"df-9e64f40b-0fba-4a71-a508-47f63e39fc62\">\n",
              "      <button class=\"colab-df-quickchart\" onclick=\"quickchart('df-9e64f40b-0fba-4a71-a508-47f63e39fc62')\"\n",
              "              title=\"Suggest charts.\"\n",
              "              style=\"display:none;\">\n",
              "\n",
              "<svg xmlns=\"http://www.w3.org/2000/svg\" height=\"24px\"viewBox=\"0 0 24 24\"\n",
              "     width=\"24px\">\n",
              "    <g>\n",
              "        <path d=\"M19 3H5c-1.1 0-2 .9-2 2v14c0 1.1.9 2 2 2h14c1.1 0 2-.9 2-2V5c0-1.1-.9-2-2-2zM9 17H7v-7h2v7zm4 0h-2V7h2v10zm4 0h-2v-4h2v4z\"/>\n",
              "    </g>\n",
              "</svg>\n",
              "      </button>\n",
              "    </div>\n",
              "\n",
              "<style>\n",
              "  .colab-df-quickchart {\n",
              "    background-color: #E8F0FE;\n",
              "    border: none;\n",
              "    border-radius: 50%;\n",
              "    cursor: pointer;\n",
              "    display: none;\n",
              "    fill: #1967D2;\n",
              "    height: 32px;\n",
              "    padding: 0 0 0 0;\n",
              "    width: 32px;\n",
              "  }\n",
              "\n",
              "  .colab-df-quickchart:hover {\n",
              "    background-color: #E2EBFA;\n",
              "    box-shadow: 0px 1px 2px rgba(60, 64, 67, 0.3), 0px 1px 3px 1px rgba(60, 64, 67, 0.15);\n",
              "    fill: #174EA6;\n",
              "  }\n",
              "\n",
              "  [theme=dark] .colab-df-quickchart {\n",
              "    background-color: #3B4455;\n",
              "    fill: #D2E3FC;\n",
              "  }\n",
              "\n",
              "  [theme=dark] .colab-df-quickchart:hover {\n",
              "    background-color: #434B5C;\n",
              "    box-shadow: 0px 1px 3px 1px rgba(0, 0, 0, 0.15);\n",
              "    filter: drop-shadow(0px 1px 2px rgba(0, 0, 0, 0.3));\n",
              "    fill: #FFFFFF;\n",
              "  }\n",
              "</style>\n",
              "\n",
              "    <script>\n",
              "      async function quickchart(key) {\n",
              "        const containerElement = document.querySelector('#' + key);\n",
              "        const charts = await google.colab.kernel.invokeFunction(\n",
              "            'suggestCharts', [key], {});\n",
              "      }\n",
              "    </script>\n",
              "\n",
              "      <script>\n",
              "\n",
              "function displayQuickchartButton(domScope) {\n",
              "  let quickchartButtonEl =\n",
              "    domScope.querySelector('#df-9e64f40b-0fba-4a71-a508-47f63e39fc62 button.colab-df-quickchart');\n",
              "  quickchartButtonEl.style.display =\n",
              "    google.colab.kernel.accessAllowed ? 'block' : 'none';\n",
              "}\n",
              "\n",
              "        displayQuickchartButton(document);\n",
              "      </script>\n",
              "      <style>\n",
              "    .colab-df-container {\n",
              "      display:flex;\n",
              "      flex-wrap:wrap;\n",
              "      gap: 12px;\n",
              "    }\n",
              "\n",
              "    .colab-df-convert {\n",
              "      background-color: #E8F0FE;\n",
              "      border: none;\n",
              "      border-radius: 50%;\n",
              "      cursor: pointer;\n",
              "      display: none;\n",
              "      fill: #1967D2;\n",
              "      height: 32px;\n",
              "      padding: 0 0 0 0;\n",
              "      width: 32px;\n",
              "    }\n",
              "\n",
              "    .colab-df-convert:hover {\n",
              "      background-color: #E2EBFA;\n",
              "      box-shadow: 0px 1px 2px rgba(60, 64, 67, 0.3), 0px 1px 3px 1px rgba(60, 64, 67, 0.15);\n",
              "      fill: #174EA6;\n",
              "    }\n",
              "\n",
              "    [theme=dark] .colab-df-convert {\n",
              "      background-color: #3B4455;\n",
              "      fill: #D2E3FC;\n",
              "    }\n",
              "\n",
              "    [theme=dark] .colab-df-convert:hover {\n",
              "      background-color: #434B5C;\n",
              "      box-shadow: 0px 1px 3px 1px rgba(0, 0, 0, 0.15);\n",
              "      filter: drop-shadow(0px 1px 2px rgba(0, 0, 0, 0.3));\n",
              "      fill: #FFFFFF;\n",
              "    }\n",
              "  </style>\n",
              "\n",
              "      <script>\n",
              "        const buttonEl =\n",
              "          document.querySelector('#df-fdff5f3c-9dd2-4314-b0da-fb7288c1f7d1 button.colab-df-convert');\n",
              "        buttonEl.style.display =\n",
              "          google.colab.kernel.accessAllowed ? 'block' : 'none';\n",
              "\n",
              "        async function convertToInteractive(key) {\n",
              "          const element = document.querySelector('#df-fdff5f3c-9dd2-4314-b0da-fb7288c1f7d1');\n",
              "          const dataTable =\n",
              "            await google.colab.kernel.invokeFunction('convertToInteractive',\n",
              "                                                     [key], {});\n",
              "          if (!dataTable) return;\n",
              "\n",
              "          const docLinkHtml = 'Like what you see? Visit the ' +\n",
              "            '<a target=\"_blank\" href=https://colab.research.google.com/notebooks/data_table.ipynb>data table notebook</a>'\n",
              "            + ' to learn more about interactive tables.';\n",
              "          element.innerHTML = '';\n",
              "          dataTable['output_type'] = 'display_data';\n",
              "          await google.colab.output.renderOutput(dataTable, element);\n",
              "          const docLink = document.createElement('div');\n",
              "          docLink.innerHTML = docLinkHtml;\n",
              "          element.appendChild(docLink);\n",
              "        }\n",
              "      </script>\n",
              "    </div>\n",
              "  </div>\n"
            ]
          },
          "metadata": {},
          "execution_count": 8
        }
      ],
      "source": [
        "df.describe()"
      ]
    },
    {
      "cell_type": "markdown",
      "id": "a2ee2240",
      "metadata": {
        "papermill": {
          "duration": 0.010517,
          "end_time": "2023-03-14T11:24:14.148751",
          "exception": false,
          "start_time": "2023-03-14T11:24:14.138234",
          "status": "completed"
        },
        "tags": [],
        "id": "a2ee2240"
      },
      "source": [
        "Checking for duplicates"
      ]
    },
    {
      "cell_type": "code",
      "execution_count": 9,
      "id": "14597fa5",
      "metadata": {
        "execution": {
          "iopub.execute_input": "2023-03-14T11:24:14.172271Z",
          "iopub.status.busy": "2023-03-14T11:24:14.171943Z",
          "iopub.status.idle": "2023-03-14T11:24:14.349761Z",
          "shell.execute_reply": "2023-03-14T11:24:14.348597Z"
        },
        "papermill": {
          "duration": 0.193368,
          "end_time": "2023-03-14T11:24:14.353141",
          "exception": false,
          "start_time": "2023-03-14T11:24:14.159773",
          "status": "completed"
        },
        "tags": [],
        "colab": {
          "base_uri": "https://localhost:8080/"
        },
        "id": "14597fa5",
        "outputId": "91701591-f526-48b1-8ad8-f217749e0315"
      },
      "outputs": [
        {
          "output_type": "stream",
          "name": "stdout",
          "text": [
            "Number of Duplicates in the Data: 418\n",
            "Number of Nulls in the Data: \n",
            " review       0\n",
            "sentiment    0\n",
            "dtype: int64\n"
          ]
        }
      ],
      "source": [
        "print(f\"Number of Duplicates in the Data: {df.duplicated().sum()}\")\n",
        "print(f\"Number of Nulls in the Data: \\n {df.isnull().sum()}\")"
      ]
    },
    {
      "cell_type": "markdown",
      "id": "0f9ec982",
      "metadata": {
        "papermill": {
          "duration": 0.010828,
          "end_time": "2023-03-14T11:24:14.376133",
          "exception": false,
          "start_time": "2023-03-14T11:24:14.365305",
          "status": "completed"
        },
        "tags": [],
        "id": "0f9ec982"
      },
      "source": [
        "## Preprocessing\n",
        "---"
      ]
    },
    {
      "cell_type": "code",
      "execution_count": 10,
      "id": "3f3e7f0d",
      "metadata": {
        "execution": {
          "iopub.execute_input": "2023-03-14T11:24:14.400751Z",
          "iopub.status.busy": "2023-03-14T11:24:14.399710Z",
          "iopub.status.idle": "2023-03-14T11:24:14.405074Z",
          "shell.execute_reply": "2023-03-14T11:24:14.404123Z"
        },
        "papermill": {
          "duration": 0.019602,
          "end_time": "2023-03-14T11:24:14.407435",
          "exception": false,
          "start_time": "2023-03-14T11:24:14.387833",
          "status": "completed"
        },
        "tags": [],
        "id": "3f3e7f0d"
      },
      "outputs": [],
      "source": [
        "X = df['review']\n",
        "y = df['sentiment']"
      ]
    },
    {
      "cell_type": "markdown",
      "id": "ee48891f",
      "metadata": {
        "papermill": {
          "duration": 0.010841,
          "end_time": "2023-03-14T11:24:14.428979",
          "exception": false,
          "start_time": "2023-03-14T11:24:14.418138",
          "status": "completed"
        },
        "tags": [],
        "id": "ee48891f"
      },
      "source": [
        "Label Encoding the output labels\n"
      ]
    },
    {
      "cell_type": "code",
      "execution_count": 11,
      "id": "8032c2e8",
      "metadata": {
        "execution": {
          "iopub.execute_input": "2023-03-14T11:24:14.453430Z",
          "iopub.status.busy": "2023-03-14T11:24:14.452471Z",
          "iopub.status.idle": "2023-03-14T11:24:14.659490Z",
          "shell.execute_reply": "2023-03-14T11:24:14.658370Z"
        },
        "papermill": {
          "duration": 0.224309,
          "end_time": "2023-03-14T11:24:14.663948",
          "exception": false,
          "start_time": "2023-03-14T11:24:14.439639",
          "status": "completed"
        },
        "tags": [],
        "id": "8032c2e8"
      },
      "outputs": [],
      "source": [
        "from sklearn.preprocessing import LabelEncoder\n",
        "le = LabelEncoder()\n",
        "y = le.fit_transform(y)"
      ]
    },
    {
      "cell_type": "code",
      "execution_count": 12,
      "id": "a44fdb17",
      "metadata": {
        "execution": {
          "iopub.execute_input": "2023-03-14T11:24:14.702057Z",
          "iopub.status.busy": "2023-03-14T11:24:14.701342Z",
          "iopub.status.idle": "2023-03-14T11:24:14.709082Z",
          "shell.execute_reply": "2023-03-14T11:24:14.708187Z"
        },
        "papermill": {
          "duration": 0.031972,
          "end_time": "2023-03-14T11:24:14.714994",
          "exception": false,
          "start_time": "2023-03-14T11:24:14.683022",
          "status": "completed"
        },
        "tags": [],
        "colab": {
          "base_uri": "https://localhost:8080/"
        },
        "id": "a44fdb17",
        "outputId": "8f89f400-7ddd-4a52-ca18-4de70e3a02e4"
      },
      "outputs": [
        {
          "output_type": "execute_result",
          "data": {
            "text/plain": [
              "array([1, 1, 1, ..., 0, 0, 0])"
            ]
          },
          "metadata": {},
          "execution_count": 12
        }
      ],
      "source": [
        "y"
      ]
    },
    {
      "cell_type": "code",
      "execution_count": 13,
      "id": "adba606c",
      "metadata": {
        "execution": {
          "iopub.execute_input": "2023-03-14T11:24:14.749022Z",
          "iopub.status.busy": "2023-03-14T11:24:14.748202Z",
          "iopub.status.idle": "2023-03-14T11:24:14.759045Z",
          "shell.execute_reply": "2023-03-14T11:24:14.758128Z"
        },
        "papermill": {
          "duration": 0.030626,
          "end_time": "2023-03-14T11:24:14.761949",
          "exception": false,
          "start_time": "2023-03-14T11:24:14.731323",
          "status": "completed"
        },
        "tags": [],
        "colab": {
          "base_uri": "https://localhost:8080/"
        },
        "id": "adba606c",
        "outputId": "70d12185-c692-408b-9e24-49f44f19f2da"
      },
      "outputs": [
        {
          "output_type": "execute_result",
          "data": {
            "text/plain": [
              "array(['negative', 'positive'], dtype=object)"
            ]
          },
          "metadata": {},
          "execution_count": 13
        }
      ],
      "source": [
        "le.classes_ # [0, 1]"
      ]
    },
    {
      "cell_type": "markdown",
      "id": "67622cd1",
      "metadata": {
        "papermill": {
          "duration": 0.01593,
          "end_time": "2023-03-14T11:24:14.794393",
          "exception": false,
          "start_time": "2023-03-14T11:24:14.778463",
          "status": "completed"
        },
        "tags": [],
        "id": "67622cd1"
      },
      "source": [
        "## Train Test Split\n",
        "---"
      ]
    },
    {
      "cell_type": "code",
      "execution_count": 14,
      "id": "05498cf9",
      "metadata": {
        "execution": {
          "iopub.execute_input": "2023-03-14T11:24:14.828585Z",
          "iopub.status.busy": "2023-03-14T11:24:14.827999Z",
          "iopub.status.idle": "2023-03-14T11:24:14.919609Z",
          "shell.execute_reply": "2023-03-14T11:24:14.918508Z"
        },
        "papermill": {
          "duration": 0.11194,
          "end_time": "2023-03-14T11:24:14.922867",
          "exception": false,
          "start_time": "2023-03-14T11:24:14.810927",
          "status": "completed"
        },
        "tags": [],
        "id": "05498cf9"
      },
      "outputs": [],
      "source": [
        "from sklearn.model_selection import train_test_split\n",
        "X_train, X_test, y_train, y_test = train_test_split(X, y, test_size = 0.2, stratify=y, random_state=42)"
      ]
    },
    {
      "cell_type": "code",
      "execution_count": 15,
      "id": "65ea7d25",
      "metadata": {
        "execution": {
          "iopub.execute_input": "2023-03-14T11:24:14.962797Z",
          "iopub.status.busy": "2023-03-14T11:24:14.962395Z",
          "iopub.status.idle": "2023-03-14T11:24:14.967886Z",
          "shell.execute_reply": "2023-03-14T11:24:14.966929Z"
        },
        "papermill": {
          "duration": 0.029833,
          "end_time": "2023-03-14T11:24:14.972417",
          "exception": false,
          "start_time": "2023-03-14T11:24:14.942584",
          "status": "completed"
        },
        "tags": [],
        "id": "65ea7d25"
      },
      "outputs": [],
      "source": [
        "y_train = y_train.astype('float32').reshape((-1, 1))\n",
        "y_test = y_test.astype('float32').reshape((-1, 1))"
      ]
    },
    {
      "cell_type": "code",
      "execution_count": 16,
      "id": "304fe88a",
      "metadata": {
        "execution": {
          "iopub.execute_input": "2023-03-14T11:24:15.005242Z",
          "iopub.status.busy": "2023-03-14T11:24:15.004871Z",
          "iopub.status.idle": "2023-03-14T11:24:15.010733Z",
          "shell.execute_reply": "2023-03-14T11:24:15.009672Z"
        },
        "papermill": {
          "duration": 0.027968,
          "end_time": "2023-03-14T11:24:15.016332",
          "exception": false,
          "start_time": "2023-03-14T11:24:14.988364",
          "status": "completed"
        },
        "tags": [],
        "colab": {
          "base_uri": "https://localhost:8080/"
        },
        "id": "304fe88a",
        "outputId": "d7ef23e9-5798-4550-b468-09afe4734941"
      },
      "outputs": [
        {
          "output_type": "stream",
          "name": "stdout",
          "text": [
            "(40000,) (10000,)\n",
            "(40000, 1) (10000, 1)\n"
          ]
        }
      ],
      "source": [
        "print(X_train.shape, X_test.shape)\n",
        "print(y_train.shape, y_test.shape)"
      ]
    },
    {
      "cell_type": "markdown",
      "id": "8161b64a",
      "metadata": {
        "papermill": {
          "duration": 0.015501,
          "end_time": "2023-03-14T11:24:15.047641",
          "exception": false,
          "start_time": "2023-03-14T11:24:15.032140",
          "status": "completed"
        },
        "tags": [],
        "id": "8161b64a"
      },
      "source": [
        "## Model Building\n",
        "---"
      ]
    },
    {
      "cell_type": "code",
      "execution_count": 19,
      "id": "8bd60041",
      "metadata": {
        "execution": {
          "iopub.execute_input": "2023-03-14T11:24:15.091395Z",
          "iopub.status.busy": "2023-03-14T11:24:15.090900Z",
          "iopub.status.idle": "2023-03-14T11:24:15.101506Z",
          "shell.execute_reply": "2023-03-14T11:24:15.100574Z"
        },
        "papermill": {
          "duration": 0.035671,
          "end_time": "2023-03-14T11:24:15.104270",
          "exception": false,
          "start_time": "2023-03-14T11:24:15.068599",
          "status": "completed"
        },
        "tags": [],
        "id": "8bd60041"
      },
      "outputs": [],
      "source": [
        "from tensorflow.keras.models import Sequential\n",
        "from tensorflow.keras.layers import Input, Embedding, Conv1D, MaxPooling1D, LSTM, Bidirectional, Dense, Flatten, Dropout\n",
        "from tensorflow.keras.regularizers import l2\n",
        "from tensorflow.keras.layers import TextVectorization\n",
        "import tensorflow as tf\n",
        "\n",
        "# max_features = 30000 # Number of words in our vocabulary\n",
        "max_len = 512 # length of the output vectors"
      ]
    },
    {
      "cell_type": "code",
      "execution_count": 20,
      "id": "cf6f91ee",
      "metadata": {
        "execution": {
          "iopub.execute_input": "2023-03-14T11:24:15.138569Z",
          "iopub.status.busy": "2023-03-14T11:24:15.138244Z",
          "iopub.status.idle": "2023-03-14T11:24:18.835202Z",
          "shell.execute_reply": "2023-03-14T11:24:18.834125Z"
        },
        "papermill": {
          "duration": 3.717296,
          "end_time": "2023-03-14T11:24:18.838098",
          "exception": false,
          "start_time": "2023-03-14T11:24:15.120802",
          "status": "completed"
        },
        "tags": [],
        "id": "cf6f91ee"
      },
      "outputs": [],
      "source": [
        "vectorize_layer = TextVectorization(output_mode = 'int', output_sequence_length = max_len)"
      ]
    },
    {
      "cell_type": "markdown",
      "id": "11d4caf0",
      "metadata": {
        "papermill": {
          "duration": 0.010807,
          "end_time": "2023-03-14T11:24:18.860414",
          "exception": false,
          "start_time": "2023-03-14T11:24:18.849607",
          "status": "completed"
        },
        "tags": [],
        "id": "11d4caf0"
      },
      "source": [
        "Creating Vocabulary"
      ]
    },
    {
      "cell_type": "code",
      "execution_count": 21,
      "id": "89a7a2ae",
      "metadata": {
        "execution": {
          "iopub.execute_input": "2023-03-14T11:24:18.883597Z",
          "iopub.status.busy": "2023-03-14T11:24:18.883292Z",
          "iopub.status.idle": "2023-03-14T11:24:24.290348Z",
          "shell.execute_reply": "2023-03-14T11:24:24.288865Z"
        },
        "papermill": {
          "duration": 5.421646,
          "end_time": "2023-03-14T11:24:24.292829",
          "exception": false,
          "start_time": "2023-03-14T11:24:18.871183",
          "status": "completed"
        },
        "tags": [],
        "colab": {
          "base_uri": "https://localhost:8080/"
        },
        "id": "89a7a2ae",
        "outputId": "fba23811-69ea-4c67-d1ab-60a00ff7c521"
      },
      "outputs": [
        {
          "output_type": "stream",
          "name": "stdout",
          "text": [
            "CPU times: user 5.29 s, sys: 321 ms, total: 5.61 s\n",
            "Wall time: 4.55 s\n"
          ]
        }
      ],
      "source": [
        "%%time\n",
        "vectorize_layer.adapt(X_train)"
      ]
    },
    {
      "cell_type": "code",
      "execution_count": 22,
      "id": "eed012a1",
      "metadata": {
        "execution": {
          "iopub.execute_input": "2023-03-14T11:24:24.317364Z",
          "iopub.status.busy": "2023-03-14T11:24:24.317008Z",
          "iopub.status.idle": "2023-03-14T11:24:24.762211Z",
          "shell.execute_reply": "2023-03-14T11:24:24.761103Z"
        },
        "papermill": {
          "duration": 0.460327,
          "end_time": "2023-03-14T11:24:24.764631",
          "exception": false,
          "start_time": "2023-03-14T11:24:24.304304",
          "status": "completed"
        },
        "tags": [],
        "colab": {
          "base_uri": "https://localhost:8080/"
        },
        "id": "eed012a1",
        "outputId": "104d8760-5290-41c3-c6c8-c013c01eb7c0"
      },
      "outputs": [
        {
          "output_type": "execute_result",
          "data": {
            "text/plain": [
              "160754"
            ]
          },
          "metadata": {},
          "execution_count": 22
        }
      ],
      "source": [
        "vocab_len = len(vectorize_layer.get_vocabulary())\n",
        "vocab_len"
      ]
    },
    {
      "cell_type": "code",
      "execution_count": 23,
      "id": "e32eff40",
      "metadata": {
        "execution": {
          "iopub.execute_input": "2023-03-14T11:24:24.790254Z",
          "iopub.status.busy": "2023-03-14T11:24:24.788487Z",
          "iopub.status.idle": "2023-03-14T11:24:25.451281Z",
          "shell.execute_reply": "2023-03-14T11:24:25.450089Z"
        },
        "papermill": {
          "duration": 0.678025,
          "end_time": "2023-03-14T11:24:25.454190",
          "exception": false,
          "start_time": "2023-03-14T11:24:24.776165",
          "status": "completed"
        },
        "tags": [],
        "id": "e32eff40"
      },
      "outputs": [],
      "source": [
        "# First CNN+ BidirectionalLSTM\n",
        "model = Sequential()\n",
        "model.add(Input(shape=(1,), dtype=tf.string))\n",
        "model.add(vectorize_layer)\n",
        "model.add(Embedding(input_dim=vocab_len, output_dim=256, input_length=max_len))\n",
        "model.add(Conv1D(64, 5, strides=1, activation='relu', padding='same', kernel_regularizer=l2(0.0001)))\n",
        "model.add(Conv1D(32, 3, strides=1, activation='relu', padding='same', kernel_regularizer=l2(0.0001)))\n",
        "model.add(MaxPooling1D(2, padding='same'))\n",
        "model.add(LSTM(32, kernel_regularizer=l2(0.0001)))\n",
        "model.add(Dense(64, activation='relu', kernel_regularizer=l2(0.0001)))\n",
        "model.add(Dense(32, activation='relu', kernel_regularizer=l2(0.0001)))\n",
        "model.add(Dense(1, activation='sigmoid'))\n"
      ]
    },
    {
      "cell_type": "code",
      "execution_count": 24,
      "id": "c21f27da",
      "metadata": {
        "execution": {
          "iopub.execute_input": "2023-03-14T11:24:25.478601Z",
          "iopub.status.busy": "2023-03-14T11:24:25.478282Z",
          "iopub.status.idle": "2023-03-14T11:24:25.486217Z",
          "shell.execute_reply": "2023-03-14T11:24:25.485405Z"
        },
        "papermill": {
          "duration": 0.022763,
          "end_time": "2023-03-14T11:24:25.488561",
          "exception": false,
          "start_time": "2023-03-14T11:24:25.465798",
          "status": "completed"
        },
        "tags": [],
        "id": "c21f27da"
      },
      "outputs": [],
      "source": [
        "optimizer = tf.keras.optimizers.Adam(learning_rate = 0.001)"
      ]
    },
    {
      "cell_type": "code",
      "execution_count": 25,
      "id": "ddc97f52",
      "metadata": {
        "execution": {
          "iopub.execute_input": "2023-03-14T11:24:25.512031Z",
          "iopub.status.busy": "2023-03-14T11:24:25.511752Z",
          "iopub.status.idle": "2023-03-14T11:24:25.561162Z",
          "shell.execute_reply": "2023-03-14T11:24:25.559698Z"
        },
        "papermill": {
          "duration": 0.082165,
          "end_time": "2023-03-14T11:24:25.581672",
          "exception": false,
          "start_time": "2023-03-14T11:24:25.499507",
          "status": "completed"
        },
        "tags": [],
        "colab": {
          "base_uri": "https://localhost:8080/"
        },
        "id": "ddc97f52",
        "outputId": "67521631-3e6d-4f51-9baa-04015989876d"
      },
      "outputs": [
        {
          "output_type": "stream",
          "name": "stdout",
          "text": [
            "Model: \"sequential\"\n",
            "_________________________________________________________________\n",
            " Layer (type)                Output Shape              Param #   \n",
            "=================================================================\n",
            " text_vectorization (TextVec  (None, 512)              0         \n",
            " torization)                                                     \n",
            "                                                                 \n",
            " embedding (Embedding)       (None, 512, 256)          41153024  \n",
            "                                                                 \n",
            " conv1d (Conv1D)             (None, 512, 32)           40992     \n",
            "                                                                 \n",
            " conv1d_1 (Conv1D)           (None, 512, 16)           2576      \n",
            "                                                                 \n",
            " max_pooling1d (MaxPooling1D  (None, 512, 16)          0         \n",
            " )                                                               \n",
            "                                                                 \n",
            " bidirectional (Bidirectiona  (None, 128)              41472     \n",
            " l)                                                              \n",
            "                                                                 \n",
            " dense (Dense)               (None, 32)                4128      \n",
            "                                                                 \n",
            " dense_1 (Dense)             (None, 16)                528       \n",
            "                                                                 \n",
            " flatten (Flatten)           (None, 16)                0         \n",
            "                                                                 \n",
            " dense_2 (Dense)             (None, 1)                 17        \n",
            "                                                                 \n",
            "=================================================================\n",
            "Total params: 41,242,737\n",
            "Trainable params: 41,242,737\n",
            "Non-trainable params: 0\n",
            "_________________________________________________________________\n"
          ]
        }
      ],
      "source": [
        "model.compile(optimizer= optimizer, loss = 'binary_crossentropy', metrics = ['accuracy'])\n",
        "model.summary()"
      ]
    },
    {
      "cell_type": "code",
      "execution_count": 26,
      "id": "864879b8",
      "metadata": {
        "_kg_hide-input": true,
        "execution": {
          "iopub.execute_input": "2023-03-14T11:24:25.611012Z",
          "iopub.status.busy": "2023-03-14T11:24:25.610130Z",
          "iopub.status.idle": "2023-03-14T11:33:51.405934Z",
          "shell.execute_reply": "2023-03-14T11:33:51.404342Z"
        },
        "papermill": {
          "duration": 565.813348,
          "end_time": "2023-03-14T11:33:51.408815",
          "exception": false,
          "start_time": "2023-03-14T11:24:25.595467",
          "status": "completed"
        },
        "tags": [],
        "colab": {
          "base_uri": "https://localhost:8080/"
        },
        "id": "864879b8",
        "outputId": "a0ead6e7-3f7c-4b16-fd83-913817fdccf7"
      },
      "outputs": [
        {
          "output_type": "stream",
          "name": "stdout",
          "text": [
            "Epoch 1/6\n",
            "1250/1250 [==============================] - 217s 161ms/step - loss: 0.4853 - accuracy: 0.7833 - val_loss: 0.4763 - val_accuracy: 0.8021\n",
            "Epoch 2/6\n",
            "1250/1250 [==============================] - 95s 76ms/step - loss: 0.2607 - accuracy: 0.9073 - val_loss: 0.2846 - val_accuracy: 0.8897\n",
            "Epoch 3/6\n",
            "1250/1250 [==============================] - 77s 62ms/step - loss: 0.1386 - accuracy: 0.9584 - val_loss: 0.3513 - val_accuracy: 0.8828\n",
            "Epoch 4/6\n",
            "1250/1250 [==============================] - 69s 55ms/step - loss: 0.0801 - accuracy: 0.9797 - val_loss: 0.4102 - val_accuracy: 0.8850\n",
            "Epoch 5/6\n",
            "1250/1250 [==============================] - 68s 54ms/step - loss: 0.0602 - accuracy: 0.9850 - val_loss: 0.5383 - val_accuracy: 0.8731\n",
            "Epoch 6/6\n",
            "1250/1250 [==============================] - 65s 52ms/step - loss: 0.0469 - accuracy: 0.9897 - val_loss: 0.4829 - val_accuracy: 0.8782\n",
            "CPU times: user 8min 46s, sys: 12.5 s, total: 8min 58s\n",
            "Wall time: 10min 25s\n"
          ]
        }
      ],
      "source": [
        "%%time\n",
        "hist = model.fit(X_train, y_train,\n",
        "          epochs= 6, validation_data = (X_test, y_test))"
      ]
    },
    {
      "cell_type": "markdown",
      "id": "2e38ff83",
      "metadata": {
        "papermill": {
          "duration": 0.252693,
          "end_time": "2023-03-14T11:33:52.938408",
          "exception": false,
          "start_time": "2023-03-14T11:33:52.685715",
          "status": "completed"
        },
        "tags": [],
        "id": "2e38ff83"
      },
      "source": [
        "## Model Evaluation\n",
        "---"
      ]
    },
    {
      "cell_type": "markdown",
      "id": "36a03d68",
      "metadata": {
        "papermill": {
          "duration": 0.292874,
          "end_time": "2023-03-14T11:33:53.482476",
          "exception": false,
          "start_time": "2023-03-14T11:33:53.189602",
          "status": "completed"
        },
        "tags": [],
        "id": "36a03d68"
      },
      "source": [
        "Plotting Model Accuracy Performance"
      ]
    },
    {
      "cell_type": "code",
      "execution_count": 27,
      "id": "7796c46c",
      "metadata": {
        "execution": {
          "iopub.execute_input": "2023-03-14T11:33:53.991443Z",
          "iopub.status.busy": "2023-03-14T11:33:53.990416Z",
          "iopub.status.idle": "2023-03-14T11:33:54.241305Z",
          "shell.execute_reply": "2023-03-14T11:33:54.240242Z"
        },
        "papermill": {
          "duration": 0.508607,
          "end_time": "2023-03-14T11:33:54.243656",
          "exception": false,
          "start_time": "2023-03-14T11:33:53.735049",
          "status": "completed"
        },
        "tags": [],
        "colab": {
          "base_uri": "https://localhost:8080/",
          "height": 472
        },
        "id": "7796c46c",
        "outputId": "b1753484-58a1-4e4b-bedd-5d945e1e3f3c"
      },
      "outputs": [
        {
          "output_type": "display_data",
          "data": {
            "text/plain": [
              "<Figure size 640x480 with 1 Axes>"
            ],
            "image/png": "[encoded data removed]"
          },
          "metadata": {}
        }
      ],
      "source": [
        "plt.plot(hist.history['accuracy'])\n",
        "plt.plot(hist.history['val_accuracy'])\n",
        "plt.title('Model Accuracy')\n",
        "plt.xlabel('Epoch')\n",
        "plt.ylabel('Accuracy')\n",
        "plt.legend(['train', 'val'])\n",
        "plt.show()"
      ]
    },
    {
      "cell_type": "markdown",
      "id": "507d99b6",
      "metadata": {
        "papermill": {
          "duration": 0.251452,
          "end_time": "2023-03-14T11:33:54.744806",
          "exception": false,
          "start_time": "2023-03-14T11:33:54.493354",
          "status": "completed"
        },
        "tags": [],
        "id": "507d99b6"
      },
      "source": [
        "Plotting Model Loss Performance"
      ]
    },
    {
      "cell_type": "code",
      "execution_count": 28,
      "id": "b87c3ec5",
      "metadata": {
        "execution": {
          "iopub.execute_input": "2023-03-14T11:33:55.300126Z",
          "iopub.status.busy": "2023-03-14T11:33:55.299763Z",
          "iopub.status.idle": "2023-03-14T11:33:55.582680Z",
          "shell.execute_reply": "2023-03-14T11:33:55.578493Z"
        },
        "papermill": {
          "duration": 0.584001,
          "end_time": "2023-03-14T11:33:55.586076",
          "exception": false,
          "start_time": "2023-03-14T11:33:55.002075",
          "status": "completed"
        },
        "tags": [],
        "colab": {
          "base_uri": "https://localhost:8080/",
          "height": 472
        },
        "id": "b87c3ec5",
        "outputId": "07c93712-c19b-47a1-ae06-9d5064f75394"
      },
      "outputs": [
        {
          "output_type": "display_data",
          "data": {
            "text/plain": [
              "<Figure size 640x480 with 1 Axes>"
            ],
            "image/png": "[encoded data removed]"
          },
          "metadata": {}
        }
      ],
      "source": [
        "plt.plot(hist.history['loss'])\n",
        "plt.plot(hist.history['val_loss'])\n",
        "plt.title('Model Loss')\n",
        "plt.xlabel('Epoch')\n",
        "plt.ylabel('Loss')\n",
        "plt.legend(['train', 'val'])\n",
        "plt.show()"
      ]
    },
    {
      "cell_type": "markdown",
      "id": "725ded26",
      "metadata": {
        "papermill": {
          "duration": 0.273559,
          "end_time": "2023-03-14T11:33:56.231521",
          "exception": false,
          "start_time": "2023-03-14T11:33:55.957962",
          "status": "completed"
        },
        "tags": [],
        "id": "725ded26"
      },
      "source": [
        "## Prediction\n",
        "---"
      ]
    },
    {
      "cell_type": "code",
      "execution_count": null,
      "id": "f280be81",
      "metadata": {
        "execution": {
          "iopub.execute_input": "2023-03-14T11:33:56.735486Z",
          "iopub.status.busy": "2023-03-14T11:33:56.734566Z",
          "iopub.status.idle": "2023-03-14T11:33:57.687219Z",
          "shell.execute_reply": "2023-03-14T11:33:57.686217Z"
        },
        "papermill": {
          "duration": 1.212811,
          "end_time": "2023-03-14T11:33:57.689485",
          "exception": false,
          "start_time": "2023-03-14T11:33:56.476674",
          "status": "completed"
        },
        "tags": [],
        "id": "f280be81",
        "outputId": "eb067f0c-9d9c-4256-a0ad-d2ff015013e6"
      },
      "outputs": [
        {
          "name": "stdout",
          "output_type": "stream",
          "text": [
            "1/1 [==============================] - 1s 842ms/step\n"
          ]
        }
      ],
      "source": [
        "pred = model.predict(['''So, I'm wondering while watching this film, did the producers of this movie get to save money on Sandra Bullock's wardrobe by dragging out her \"before\" clothes from Miss Congeniality? Did Ms. Bullock also get to sleepwalk through the role by channeling the \"before\" Gracie Hart? As many reviewers have noted before, the film is very formulaic. Add to that the deja vu viewer experiences with the character of Cassie Maywether as a somewhat darker Gracie Hart with more back story and it rapidly become a snooze fest.<br /><br />The two bad boy serial killers have been done before (and better) in other films. As has the \"good guy partner trying to protect his partner despite the evidence\" character been seen before. In fact none of the characters in the film ever get beyond two dimensions or try to be anything but trite stereotypes.<br /><br />One last peeve - using the term serial killer is false advertising. Murdering one person - even if it's a premeditated murder - does not make you a serial killer. You may have the potential to become a serial killer but you are not a serial killer or even a spree killer.''',])"
      ]
    },
    {
      "cell_type": "code",
      "execution_count": null,
      "id": "d76e9ea5",
      "metadata": {
        "execution": {
          "iopub.execute_input": "2023-03-14T11:33:58.188365Z",
          "iopub.status.busy": "2023-03-14T11:33:58.187457Z",
          "iopub.status.idle": "2023-03-14T11:33:58.194770Z",
          "shell.execute_reply": "2023-03-14T11:33:58.193540Z"
        },
        "papermill": {
          "duration": 0.259623,
          "end_time": "2023-03-14T11:33:58.196962",
          "exception": false,
          "start_time": "2023-03-14T11:33:57.937339",
          "status": "completed"
        },
        "tags": [],
        "id": "d76e9ea5",
        "outputId": "24ed4aaf-b4c0-4a5b-a0bc-ccdb4f280206"
      },
      "outputs": [
        {
          "data": {
            "text/plain": [
              "array([[False]])"
            ]
          },
          "execution_count": 27,
          "metadata": {},
          "output_type": "execute_result"
        }
      ],
      "source": [
        "pred > 0.5"
      ]
    },
    {
      "cell_type": "code",
      "execution_count": null,
      "id": "4fe9cbd3",
      "metadata": {
        "execution": {
          "iopub.execute_input": "2023-03-14T11:33:58.737333Z",
          "iopub.status.busy": "2023-03-14T11:33:58.736258Z",
          "iopub.status.idle": "2023-03-14T11:33:58.826946Z",
          "shell.execute_reply": "2023-03-14T11:33:58.825719Z"
        },
        "papermill": {
          "duration": 0.3425,
          "end_time": "2023-03-14T11:33:58.829375",
          "exception": false,
          "start_time": "2023-03-14T11:33:58.486875",
          "status": "completed"
        },
        "tags": [],
        "id": "4fe9cbd3",
        "outputId": "a326c375-6398-49a8-8263-8ec0bcfb268c"
      },
      "outputs": [
        {
          "name": "stdout",
          "output_type": "stream",
          "text": [
            "1/1 [==============================] - 0s 45ms/step\n"
          ]
        }
      ],
      "source": [
        "pred2 = model.predict(['''Petter Mattei's \"Love in the Time of Money\" is a visually stunning film to watch. Mr. Mattei offers us a vivid portrait about human relations. This is a movie that seems to be telling us what money, power and success do to people in the different situations we encounter. <br /><br />This being a variation on the Arthur Schnitzler's play about the same theme, the director transfers the action to the present time New York where all these different characters meet and connect. Each one is connected in one way, or another to the next person, but no one seems to know the previous point of contact. Stylishly, the film has a sophisticated luxurious look. We are taken to see how these people live and the world they live in their own habitat.<br /><br />The only thing one gets out of all these souls in the picture is the different stages of loneliness each one inhabits. A big city is not exactly the best place in which human relations find sincere fulfillment, as one discerns is the case with most of the people we encounter.<br /><br />The acting is good under Mr. Mattei's direction. Steve Buscemi, Rosario Dawson, Carol Kane, Michael Imperioli, Adrian Grenier, and the rest of the talented cast, make these characters come alive.<br /><br />We wish Mr. Mattei good luck and await anxiously for his next work.'''])"
      ]
    },
    {
      "cell_type": "code",
      "execution_count": null,
      "id": "2cbca135",
      "metadata": {
        "execution": {
          "iopub.execute_input": "2023-03-14T11:33:59.329307Z",
          "iopub.status.busy": "2023-03-14T11:33:59.328549Z",
          "iopub.status.idle": "2023-03-14T11:33:59.335340Z",
          "shell.execute_reply": "2023-03-14T11:33:59.334250Z"
        },
        "papermill": {
          "duration": 0.261496,
          "end_time": "2023-03-14T11:33:59.337693",
          "exception": false,
          "start_time": "2023-03-14T11:33:59.076197",
          "status": "completed"
        },
        "tags": [],
        "id": "2cbca135",
        "outputId": "ee4d1a0c-e78d-47c5-f7b0-99d6a20f6841"
      },
      "outputs": [
        {
          "data": {
            "text/plain": [
              "array([[ True]])"
            ]
          },
          "execution_count": 29,
          "metadata": {},
          "output_type": "execute_result"
        }
      ],
      "source": [
        "pred2 > 0.5"
      ]
    },
    {
      "cell_type": "code",
      "execution_count": null,
      "id": "1ce53079",
      "metadata": {
        "execution": {
          "iopub.execute_input": "2023-03-14T11:33:59.852493Z",
          "iopub.status.busy": "2023-03-14T11:33:59.851489Z",
          "iopub.status.idle": "2023-03-14T11:33:59.859480Z",
          "shell.execute_reply": "2023-03-14T11:33:59.858242Z"
        },
        "papermill": {
          "duration": 0.26683,
          "end_time": "2023-03-14T11:33:59.861904",
          "exception": false,
          "start_time": "2023-03-14T11:33:59.595074",
          "status": "completed"
        },
        "tags": [],
        "id": "1ce53079",
        "outputId": "12cbcd88-d506-496c-802e-4fcb7989cf5d"
      },
      "outputs": [
        {
          "data": {
            "text/plain": [
              "array([[0.9967673]], dtype=float32)"
            ]
          },
          "execution_count": 30,
          "metadata": {},
          "output_type": "execute_result"
        }
      ],
      "source": [
        "pred2"
      ]
    },
    {
      "cell_type": "markdown",
      "id": "2ddabf95",
      "metadata": {
        "papermill": {
          "duration": 0.290524,
          "end_time": "2023-03-14T11:34:00.411829",
          "exception": false,
          "start_time": "2023-03-14T11:34:00.121305",
          "status": "completed"
        },
        "tags": [],
        "id": "2ddabf95"
      },
      "source": [
        "Defining a function for inference, in this function we will assume a negative sentiment if prediction not greater than 0.5 and positive sentiment if prediction is greater than 0.5"
      ]
    },
    {
      "cell_type": "code",
      "execution_count": null,
      "id": "1f7dd5e2",
      "metadata": {
        "execution": {
          "iopub.execute_input": "2023-03-14T11:34:00.928283Z",
          "iopub.status.busy": "2023-03-14T11:34:00.927275Z",
          "iopub.status.idle": "2023-03-14T11:34:00.933642Z",
          "shell.execute_reply": "2023-03-14T11:34:00.932479Z"
        },
        "papermill": {
          "duration": 0.266398,
          "end_time": "2023-03-14T11:34:00.935884",
          "exception": false,
          "start_time": "2023-03-14T11:34:00.669486",
          "status": "completed"
        },
        "tags": [],
        "id": "1f7dd5e2"
      },
      "outputs": [],
      "source": [
        "def predict_sentiment(text, model):\n",
        "    text = [text]\n",
        "    pred = model.predict(text)\n",
        "    print(pred)\n",
        "    if pred > 0.5:\n",
        "        return \"Positive\"\n",
        "    else:\n",
        "        return \"Negative\""
      ]
    },
    {
      "cell_type": "code",
      "execution_count": null,
      "id": "46dfd206",
      "metadata": {
        "execution": {
          "iopub.execute_input": "2023-03-14T11:34:01.441000Z",
          "iopub.status.busy": "2023-03-14T11:34:01.440624Z",
          "iopub.status.idle": "2023-03-14T11:34:01.538370Z",
          "shell.execute_reply": "2023-03-14T11:34:01.537088Z"
        },
        "papermill": {
          "duration": 0.356542,
          "end_time": "2023-03-14T11:34:01.540926",
          "exception": false,
          "start_time": "2023-03-14T11:34:01.184384",
          "status": "completed"
        },
        "tags": [],
        "id": "46dfd206",
        "outputId": "6e01dd74-3c4f-4d5e-9f56-d3ce71789643"
      },
      "outputs": [
        {
          "name": "stdout",
          "output_type": "stream",
          "text": [
            "1/1 [==============================] - 0s 46ms/step\n",
            "[[0.989874]]\n"
          ]
        },
        {
          "data": {
            "text/plain": [
              "'Positive'"
            ]
          },
          "execution_count": 32,
          "metadata": {},
          "output_type": "execute_result"
        }
      ],
      "source": [
        "pst_txt = '''One of the other reviewers has mentioned that after watching just 1 Oz episode you'll be hooked. They are right, as this is exactly what happened with me.<br /><br />The first thing that struck me about Oz was its brutality and unflinching scenes of violence, which set in right from the word GO. Trust me, this is not a show for the faint hearted or timid. This show pulls no punches with regards to drugs, sex or violence. Its is hardcore, in the classic use of the word.<br /><br />It is called OZ as that is the nickname given to the Oswald Maximum Security State Penitentary. It focuses mainly on Emerald City, an experimental section of the prison where all the cells have glass fronts and face inwards, so privacy is not high on the agenda. Em City is home to many..Aryans, Muslims, gangstas, Latinos, Christians, Italians, Irish and more....so scuffles, death stares, dodgy dealings and shady agreements are never far away.<br /><br />I would say the main appeal of the show is due to the fact that it goes where other shows wouldn't dare. Forget pretty pictures painted for mainstream audiences, forget charm, forget romance...OZ doesn't mess around. The first episode I ever saw struck me as so nasty it was surreal, I couldn't say I was ready for it, but as I watched more, I developed a taste for Oz, and got accustomed to the high levels of graphic violence. Not just violence, but injustice (crooked guards who'll be sold out for a nickel, inmates who'll kill on order and get away with it, well mannered, middle class inmates being turned into prison bitches due to their lack of street skills or prison experience) Watching Oz, you may become comfortable with what is uncomfortable viewing....thats if you can get in touch with your darker side.'''\n",
        "predict_sentiment(pst_txt, model)"
      ]
    },
    {
      "cell_type": "code",
      "execution_count": null,
      "id": "fb93ead8",
      "metadata": {
        "execution": {
          "iopub.execute_input": "2023-03-14T11:34:02.116674Z",
          "iopub.status.busy": "2023-03-14T11:34:02.116284Z",
          "iopub.status.idle": "2023-03-14T11:34:02.209489Z",
          "shell.execute_reply": "2023-03-14T11:34:02.207696Z"
        },
        "papermill": {
          "duration": 0.355528,
          "end_time": "2023-03-14T11:34:02.212405",
          "exception": false,
          "start_time": "2023-03-14T11:34:01.856877",
          "status": "completed"
        },
        "tags": [],
        "id": "fb93ead8",
        "outputId": "ca50551a-5333-45cb-ffb1-5c8fbfd3845b"
      },
      "outputs": [
        {
          "name": "stdout",
          "output_type": "stream",
          "text": [
            "1/1 [==============================] - 0s 46ms/step\n",
            "[[0.00368386]]\n"
          ]
        },
        {
          "data": {
            "text/plain": [
              "'Negative'"
            ]
          },
          "execution_count": 33,
          "metadata": {},
          "output_type": "execute_result"
        }
      ],
      "source": [
        "ngt_txt ='''Basically there's a family where a little boy (Jake) thinks there's a zombie in his closet & his parents are fighting all the time.<br /><br />This movie is slower than a soap opera... and suddenly, Jake decides to become Rambo and kill the zombie.<br /><br />OK, first of all when you're going to make a film you must Decide if its a thriller or a drama! As a drama the movie is watchable. Parents are divorcing & arguing like in real life. And then we have Jake with his closet which totally ruins all the film! I expected to see a BOOGEYMAN similar movie, and instead i watched a drama with some meaningless thriller spots.<br /><br />3 out of 10 just for the well playing parents & descent dialogs. As for the shots with Jake: just ignore them.'''\n",
        "predict_sentiment(ngt_txt, model)"
      ]
    },
    {
      "cell_type": "code",
      "execution_count": null,
      "id": "d73db427",
      "metadata": {
        "execution": {
          "iopub.execute_input": "2023-03-14T11:34:02.729379Z",
          "iopub.status.busy": "2023-03-14T11:34:02.728979Z",
          "iopub.status.idle": "2023-03-14T11:34:02.831321Z",
          "shell.execute_reply": "2023-03-14T11:34:02.830207Z"
        },
        "papermill": {
          "duration": 0.358952,
          "end_time": "2023-03-14T11:34:02.833919",
          "exception": false,
          "start_time": "2023-03-14T11:34:02.474967",
          "status": "completed"
        },
        "tags": [],
        "id": "d73db427",
        "outputId": "eed803cc-3697-4caa-8fe8-8d5051bc2c18"
      },
      "outputs": [
        {
          "name": "stdout",
          "output_type": "stream",
          "text": [
            "1/1 [==============================] - 0s 48ms/step\n",
            "[[0.9887961]]\n"
          ]
        },
        {
          "data": {
            "text/plain": [
              "'Positive'"
            ]
          },
          "execution_count": 34,
          "metadata": {},
          "output_type": "execute_result"
        }
      ],
      "source": [
        "ngt_txt2 = '''It's become extremely difficult to find a good horror movie anymore, thought this movie was a good thriller.<br /><br />Could have had better production values but what kept me going was the suspense and the twists. I had real reservations before seeing this movie (because of the cover). I was afraid that it would be excessively bloody and gory. I was wrong.<br /><br />Although there is a lot of scary parts, there is a lot of suspense and drama too.<br /><br />The acting in Dead Line was better than what you would expect from a micro budget horror flick. The characters were believable<br /><br />The movie is really thrilling and quite scary at moments so it makes you grab your seat until the ending credits roll<br /><br />Because of its production values (the sound is not very good for example) 8/10.'''\n",
        "predict_sentiment(ngt_txt2, model)"
      ]
    },
    {
      "cell_type": "code",
      "execution_count": null,
      "id": "56d7f450",
      "metadata": {
        "execution": {
          "iopub.execute_input": "2023-03-14T11:34:03.357909Z",
          "iopub.status.busy": "2023-03-14T11:34:03.357304Z",
          "iopub.status.idle": "2023-03-14T11:34:03.453795Z",
          "shell.execute_reply": "2023-03-14T11:34:03.452499Z"
        },
        "papermill": {
          "duration": 0.355037,
          "end_time": "2023-03-14T11:34:03.456429",
          "exception": false,
          "start_time": "2023-03-14T11:34:03.101392",
          "status": "completed"
        },
        "tags": [],
        "id": "56d7f450",
        "outputId": "49cfd8d8-59b8-416f-9a0b-8e710b4dd684"
      },
      "outputs": [
        {
          "name": "stdout",
          "output_type": "stream",
          "text": [
            "1/1 [==============================] - 0s 46ms/step\n",
            "[[0.9973563]]\n"
          ]
        },
        {
          "data": {
            "text/plain": [
              "'Positive'"
            ]
          },
          "execution_count": 35,
          "metadata": {},
          "output_type": "execute_result"
        }
      ],
      "source": [
        "text3 = '''This movie is incredible. If you have the chance, watch it. Although, a warning, you'll cry your eyes out. I do, every time I see it, and I own it and have watched it many times. The performances are outstanding. It deals with darkness and pain and loss, but there is hope. This movie made me look at the world differently: vicarious experience, according to my English teacher. Also, if you've seen it, note the interesting use of shadows and light. Home room is a phenomenal movie, and I rate it 10/10 - for real - because of the excellent acting, amazing plot, and heart-wrenching dialogue. Very tense, very moving. Doesn't give all the answers, but makes many good points about humankind'''\n",
        "predict_sentiment(text3, model)"
      ]
    },
    {
      "cell_type": "markdown",
      "id": "d48d21e0",
      "metadata": {
        "papermill": {
          "duration": 0.252383,
          "end_time": "2023-03-14T11:34:04.017190",
          "exception": false,
          "start_time": "2023-03-14T11:34:03.764807",
          "status": "completed"
        },
        "tags": [],
        "id": "d48d21e0"
      },
      "source": [
        "## Saving the model\n",
        "---"
      ]
    },
    {
      "cell_type": "code",
      "execution_count": null,
      "id": "767ec6a7",
      "metadata": {
        "execution": {
          "iopub.execute_input": "2023-03-14T11:34:04.519835Z",
          "iopub.status.busy": "2023-03-14T11:34:04.519425Z",
          "iopub.status.idle": "2023-03-14T11:34:19.734787Z",
          "shell.execute_reply": "2023-03-14T11:34:19.733636Z"
        },
        "papermill": {
          "duration": 15.470156,
          "end_time": "2023-03-14T11:34:19.737805",
          "exception": false,
          "start_time": "2023-03-14T11:34:04.267649",
          "status": "completed"
        },
        "tags": [],
        "id": "767ec6a7"
      },
      "outputs": [],
      "source": [
        "model.save('review_sentiment_classifier.tf')"
      ]
    },
    {
      "cell_type": "markdown",
      "id": "77a6eaae",
      "metadata": {
        "papermill": {
          "duration": 0.252986,
          "end_time": "2023-03-14T11:34:20.247837",
          "exception": false,
          "start_time": "2023-03-14T11:34:19.994851",
          "status": "completed"
        },
        "tags": [],
        "id": "77a6eaae"
      },
      "source": [
        "## Loading the Saved model\n",
        "---"
      ]
    },
    {
      "cell_type": "code",
      "execution_count": null,
      "id": "254f28b9",
      "metadata": {
        "execution": {
          "iopub.execute_input": "2023-03-14T11:34:20.808948Z",
          "iopub.status.busy": "2023-03-14T11:34:20.808243Z",
          "iopub.status.idle": "2023-03-14T11:34:26.990154Z",
          "shell.execute_reply": "2023-03-14T11:34:26.988802Z"
        },
        "papermill": {
          "duration": 6.44493,
          "end_time": "2023-03-14T11:34:26.993743",
          "exception": false,
          "start_time": "2023-03-14T11:34:20.548813",
          "status": "completed"
        },
        "tags": [],
        "id": "254f28b9"
      },
      "outputs": [],
      "source": [
        "from tensorflow.keras.models import load_model\n",
        "loaded_model = load_model(\"sentiment_classifier.tf\")"
      ]
    },
    {
      "cell_type": "code",
      "execution_count": null,
      "id": "3bf95a5b",
      "metadata": {
        "execution": {
          "iopub.execute_input": "2023-03-14T11:34:27.525533Z",
          "iopub.status.busy": "2023-03-14T11:34:27.525131Z",
          "iopub.status.idle": "2023-03-14T11:34:27.566667Z",
          "shell.execute_reply": "2023-03-14T11:34:27.565493Z"
        },
        "papermill": {
          "duration": 0.332376,
          "end_time": "2023-03-14T11:34:27.588923",
          "exception": false,
          "start_time": "2023-03-14T11:34:27.256547",
          "status": "completed"
        },
        "tags": [],
        "id": "3bf95a5b",
        "outputId": "03cf04a3-7b1b-41db-d9db-51d250b41982"
      },
      "outputs": [
        {
          "name": "stdout",
          "output_type": "stream",
          "text": [
            "Model: \"sequential\"\n",
            "_________________________________________________________________\n",
            " Layer (type)                Output Shape              Param #   \n",
            "=================================================================\n",
            " text_vectorization (TextVec  (None, 512)              0         \n",
            " torization)                                                     \n",
            "                                                                 \n",
            " embedding (Embedding)       (None, 512, 256)          41219328  \n",
            "                                                                 \n",
            " conv1d (Conv1D)             (None, 512, 32)           40992     \n",
            "                                                                 \n",
            " conv1d_1 (Conv1D)           (None, 512, 16)           2576      \n",
            "                                                                 \n",
            " max_pooling1d (MaxPooling1D  (None, 512, 16)          0         \n",
            " )                                                               \n",
            "                                                                 \n",
            " bidirectional (Bidirectiona  (None, 128)              41472     \n",
            " l)                                                              \n",
            "                                                                 \n",
            " dense (Dense)               (None, 32)                4128      \n",
            "                                                                 \n",
            " dense_1 (Dense)             (None, 16)                528       \n",
            "                                                                 \n",
            " flatten (Flatten)           (None, 16)                0         \n",
            "                                                                 \n",
            " dense_2 (Dense)             (None, 1)                 17        \n",
            "                                                                 \n",
            "=================================================================\n",
            "Total params: 41,309,041\n",
            "Trainable params: 41,309,041\n",
            "Non-trainable params: 0\n",
            "_________________________________________________________________\n"
          ]
        }
      ],
      "source": [
        "loaded_model.summary()"
      ]
    },
    {
      "cell_type": "code",
      "execution_count": null,
      "id": "79dd7fec",
      "metadata": {
        "execution": {
          "iopub.execute_input": "2023-03-14T11:34:28.164733Z",
          "iopub.status.busy": "2023-03-14T11:34:28.164324Z",
          "iopub.status.idle": "2023-03-14T11:34:29.256676Z",
          "shell.execute_reply": "2023-03-14T11:34:29.255289Z"
        },
        "papermill": {
          "duration": 1.369992,
          "end_time": "2023-03-14T11:34:29.259215",
          "exception": false,
          "start_time": "2023-03-14T11:34:27.889223",
          "status": "completed"
        },
        "tags": [],
        "id": "79dd7fec",
        "outputId": "7ebc373a-0a1f-41ab-df68-f3404f535da2"
      },
      "outputs": [
        {
          "name": "stdout",
          "output_type": "stream",
          "text": [
            "1/1 [==============================] - 1s 1s/step\n",
            "[[0.00235736]]\n"
          ]
        },
        {
          "data": {
            "text/plain": [
              "'Negative'"
            ]
          },
          "execution_count": 39,
          "metadata": {},
          "output_type": "execute_result"
        }
      ],
      "source": [
        "txt = '''What a frustrating movie. A small Southern town is overflowing with possibilities for exploring the complexities of interpersonal relationships and dark underbellies hidden beneath placid surfaces, as anyone who has read anything by Carson McCullers already knows. This does none of that. Instead, the writers settled for cutesy twinkles, cheap warm fuzzies and banal melodrama. The thing looks like a made-for-TV movie, and was directed with no particular distinction, but it's hard to imagine what anyone could have done to make this material interesting.<br /><br />The most frustrating aspect, though, is the fact that there are a lot of extremely competent and appealing actors in this cast, all trying gamely to make the best of things and do what they can with this--well, there's no other word for it--drivel. A tragic waste of talent, in particular that of the great Stockard Channing.'''\n",
        "predict_sentiment(txt, loaded_model)"
      ]
    },
    {
      "cell_type": "markdown",
      "source": [
        "Second Trial (Worse Model) Using 256 hidden units in LSTM."
      ],
      "metadata": {
        "id": "pMMOeE-kV-Zv"
      },
      "id": "pMMOeE-kV-Zv"
    },
    {
      "cell_type": "code",
      "source": [
        "input_layer = Input(shape=(1,), dtype=tf.string)\n",
        "x = vectorize_layer(input_layer)\n",
        "x = Embedding(input_dim=vocab_len, output_dim=128, input_length=max_len)(x)\n",
        "x = Conv1D(64, 5, strides=1, activation='relu', padding='same', kernel_regularizer=tf.keras.regularizers.l2(0.0001))(x)\n",
        "x = Conv1D(32, 5, strides=1, activation='relu', padding='same', kernel_regularizer=tf.keras.regularizers.l2(0.0001))(x)\n",
        "x = MaxPooling1D(4, 1, padding='same')(x)\n",
        "x = Bidirectional(LSTM(128, kernel_regularizer=tf.keras.regularizers.l2(0.0001)))(x)\n",
        "x = Dense(64, activation='relu', kernel_regularizer=tf.keras.regularizers.l2(0.0001))(x)\n",
        "x = Dropout(0.5)(x)\n",
        "x = Dense(32, activation='relu', kernel_regularizer=tf.keras.regularizers.l2(0.0001))(x)\n",
        "x = Dropout(0.5)(x)\n",
        "output_layer = Dense(1, activation='sigmoid')(x)\n"
      ],
      "metadata": {
        "id": "3k_LriwiY50u"
      },
      "id": "3k_LriwiY50u",
      "execution_count": 29,
      "outputs": []
    },
    {
      "cell_type": "code",
      "source": [
        "from tensorflow.keras.models import Model\n",
        "from tensorflow.keras.optimizers import Adam\n",
        "model = Model(inputs=input_layer, outputs=output_layer)\n",
        "optimizer = Adam(learning_rate=0.001)\n",
        "model.compile(optimizer=optimizer, loss='binary_crossentropy', metrics=['accuracy'])"
      ],
      "metadata": {
        "id": "uSPSQKXTY8Nw"
      },
      "id": "uSPSQKXTY8Nw",
      "execution_count": 30,
      "outputs": []
    },
    {
      "cell_type": "code",
      "source": [
        "model.summary()\n",
        "\n",
        "# Train the model\n",
        "epochs = 6\n",
        "batch_size = 32"
      ],
      "metadata": {
        "colab": {
          "base_uri": "https://localhost:8080/"
        },
        "id": "XWdrcXyjY-s2",
        "outputId": "7f6fd356-d50a-4028-aef5-3bc0d9b578a2"
      },
      "id": "XWdrcXyjY-s2",
      "execution_count": 31,
      "outputs": [
        {
          "output_type": "stream",
          "name": "stdout",
          "text": [
            "Model: \"model\"\n",
            "_________________________________________________________________\n",
            " Layer (type)                Output Shape              Param #   \n",
            "=================================================================\n",
            " input_2 (InputLayer)        [(None, 1)]               0         \n",
            "                                                                 \n",
            " text_vectorization (TextVec  (None, 512)              0         \n",
            " torization)                                                     \n",
            "                                                                 \n",
            " embedding_1 (Embedding)     (None, 512, 128)          20576512  \n",
            "                                                                 \n",
            " conv1d_2 (Conv1D)           (None, 512, 64)           41024     \n",
            "                                                                 \n",
            " conv1d_3 (Conv1D)           (None, 512, 32)           10272     \n",
            "                                                                 \n",
            " max_pooling1d_1 (MaxPooling  (None, 512, 32)          0         \n",
            " 1D)                                                             \n",
            "                                                                 \n",
            " bidirectional_1 (Bidirectio  (None, 256)              164864    \n",
            " nal)                                                            \n",
            "                                                                 \n",
            " dense_3 (Dense)             (None, 64)                16448     \n",
            "                                                                 \n",
            " dropout (Dropout)           (None, 64)                0         \n",
            "                                                                 \n",
            " dense_4 (Dense)             (None, 32)                2080      \n",
            "                                                                 \n",
            " dropout_1 (Dropout)         (None, 32)                0         \n",
            "                                                                 \n",
            " dense_5 (Dense)             (None, 1)                 33        \n",
            "                                                                 \n",
            "=================================================================\n",
            "Total params: 20,811,233\n",
            "Trainable params: 20,811,233\n",
            "Non-trainable params: 0\n",
            "_________________________________________________________________\n"
          ]
        }
      ]
    },
    {
      "cell_type": "code",
      "source": [
        "history = model.fit(X_train, y_train, epochs=epochs, batch_size=batch_size, validation_data=(X_test, y_test), verbose=1)\n"
      ],
      "metadata": {
        "colab": {
          "base_uri": "https://localhost:8080/"
        },
        "id": "TCHHxEmuZKN9",
        "outputId": "22278b83-295a-42ed-ebaa-56c2cfe6768d"
      },
      "id": "TCHHxEmuZKN9",
      "execution_count": 32,
      "outputs": [
        {
          "output_type": "stream",
          "name": "stdout",
          "text": [
            "Epoch 1/6\n",
            "1250/1250 [==============================] - 203s 157ms/step - loss: 0.5503 - accuracy: 0.7228 - val_loss: 0.3242 - val_accuracy: 0.8704\n",
            "Epoch 2/6\n",
            "1250/1250 [==============================] - 92s 74ms/step - loss: 0.2837 - accuracy: 0.8997 - val_loss: 0.3016 - val_accuracy: 0.8867\n",
            "Epoch 3/6\n",
            "1250/1250 [==============================] - 76s 61ms/step - loss: 0.1911 - accuracy: 0.9399 - val_loss: 0.3143 - val_accuracy: 0.8802\n",
            "Epoch 4/6\n",
            "1250/1250 [==============================] - 73s 58ms/step - loss: 0.1382 - accuracy: 0.9620 - val_loss: 0.3643 - val_accuracy: 0.8773\n",
            "Epoch 5/6\n",
            "1250/1250 [==============================] - 63s 50ms/step - loss: 0.0961 - accuracy: 0.9773 - val_loss: 0.3550 - val_accuracy: 0.8859\n",
            "Epoch 6/6\n",
            "1250/1250 [==============================] - 64s 52ms/step - loss: 0.0766 - accuracy: 0.9831 - val_loss: 0.4044 - val_accuracy: 0.8909\n"
          ]
        }
      ]
    },
    {
      "cell_type": "code",
      "source": [
        "plt.plot(hist.history['accuracy'])\n",
        "plt.plot(hist.history['val_accuracy'])\n",
        "plt.title('Model Accuracy')\n",
        "plt.xlabel('Epoch')\n",
        "plt.ylabel('Accuracy')\n",
        "plt.legend(['train', 'val'])\n",
        "plt.show()"
      ],
      "metadata": {
        "id": "zET5efzVZM8b",
        "colab": {
          "base_uri": "https://localhost:8080/",
          "height": 472
        },
        "outputId": "5cc9b0da-338a-4373-d45d-bc9f511017a3"
      },
      "id": "zET5efzVZM8b",
      "execution_count": 33,
      "outputs": [
        {
          "output_type": "display_data",
          "data": {
            "text/plain": [
              "<Figure size 640x480 with 1 Axes>"
            ],
            "image/png": "[encoded data removed]"
          },
          "metadata": {}
        }
      ]
    },
    {
      "cell_type": "code",
      "source": [
        "plt.plot(hist.history['loss'])\n",
        "plt.plot(hist.history['val_loss'])\n",
        "plt.title('Model Loss')\n",
        "plt.xlabel('Epoch')\n",
        "plt.ylabel('Loss')\n",
        "plt.legend(['train', 'val'])\n",
        "plt.show()"
      ],
      "metadata": {
        "colab": {
          "base_uri": "https://localhost:8080/",
          "height": 472
        },
        "id": "3ATZHQDNW2Bi",
        "outputId": "771487c4-0f6c-42ec-80b0-d95951456bb3"
      },
      "id": "3ATZHQDNW2Bi",
      "execution_count": 34,
      "outputs": [
        {
          "output_type": "display_data",
          "data": {
            "text/plain": [
              "<Figure size 640x480 with 1 Axes>"
            ],
            "image/png": "[encoded data removed]"
          },
          "metadata": {}
        }
      ]
    },
    {
      "cell_type": "code",
      "source": [
        "from sklearn.metrics import classification_report\n",
        "\n",
        "# Predict on test data\n",
        "y_pred = model.predict(X_test)\n",
        "\n",
        "# Convert probabilities to binary predictions\n",
        "y_pred_binary = (y_pred > 0.5).astype(int)\n",
        "\n",
        "# Convert binary predictions to original class labels\n",
        "y_pred_labels = le.inverse_transform(y_pred_binary)\n",
        "\n",
        "\n"
      ],
      "metadata": {
        "id": "64CWghkdZjD8"
      },
      "id": "64CWghkdZjD8",
      "execution_count": null,
      "outputs": []
    },
    {
      "cell_type": "code",
      "source": [
        "y_test_integers = y_test.astype(int)\n",
        "y_test_labels = le.inverse_transform(y_test_integers)\n",
        "classification_rep = classification_report(y_test_labels, y_pred_labels, target_names=le.classes_)\n",
        "print(classification_rep)"
      ],
      "metadata": {
        "colab": {
          "base_uri": "https://localhost:8080/"
        },
        "id": "2NYMPNtCZjzr",
        "outputId": "827daed2-7010-4209-85bb-7f434304c801"
      },
      "id": "2NYMPNtCZjzr",
      "execution_count": 38,
      "outputs": [
        {
          "output_type": "stream",
          "name": "stderr",
          "text": [
            "/usr/local/lib/python3.10/dist-packages/sklearn/preprocessing/_label.py:155: DataConversionWarning: A column-vector y was passed when a 1d array was expected. Please change the shape of y to (n_samples, ), for example using ravel().\n",
            "  y = column_or_1d(y, warn=True)\n"
          ]
        },
        {
          "output_type": "stream",
          "name": "stdout",
          "text": [
            "              precision    recall  f1-score   support\n",
            "\n",
            "    negative       0.90      0.88      0.89      5000\n",
            "    positive       0.88      0.90      0.89      5000\n",
            "\n",
            "    accuracy                           0.89     10000\n",
            "   macro avg       0.89      0.89      0.89     10000\n",
            "weighted avg       0.89      0.89      0.89     10000\n",
            "\n"
          ]
        }
      ]
    },
    {
      "cell_type": "code",
      "source": [],
      "metadata": {
        "id": "WnWX1KAMaPRA"
      },
      "id": "WnWX1KAMaPRA",
      "execution_count": null,
      "outputs": []
    }
  ],
  "metadata": {
    "kernelspec": {
      "display_name": "Python 3",
      "name": "python3"
    },
    "language_info": {
      "codemirror_mode": {
        "name": "ipython",
        "version": 3
      },
      "file_extension": ".py",
      "mimetype": "text/x-python",
      "name": "python",
      "nbconvert_exporter": "python",
      "pygments_lexer": "ipython3",
      "version": "3.7.12"
    },
    "papermill": {
      "default_parameters": {},
      "duration": 639.44733,
      "end_time": "2023-03-14T11:34:33.075342",
      "environment_variables": {},
      "exception": null,
      "input_path": "__notebook__.ipynb",
      "output_path": "__notebook__.ipynb",
      "parameters": {},
      "start_time": "2023-03-14T11:23:53.628012",
      "version": "2.4.0"
    },
    "colab": {
      "provenance": [],
      "gpuType": "T4"
    },
    "accelerator": "GPU"
  },
  "nbformat": 4,
  "nbformat_minor": 5
}